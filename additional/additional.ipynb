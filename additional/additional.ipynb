{
 "cells": [
  {
   "cell_type": "code",
   "execution_count": 1,
   "metadata": {},
   "outputs": [],
   "source": [
    "using CUDA\n",
    "using TypedTables\n",
    "using DataFrames\n",
    "using Statistics\n",
    "using CSV"
   ]
  },
  {
   "cell_type": "code",
   "execution_count": 2,
   "metadata": {},
   "outputs": [
    {
     "data": {
      "text/plain": [
       "simulate_gpu (generic function with 1 method)"
      ]
     },
     "metadata": {},
     "output_type": "display_data"
    }
   ],
   "source": [
    "# CUDA\n",
    "\n",
    "function operation_cuda(A, B)\n",
    "    C = CUDA.zeros(Float16, size(A))\n",
    "    CUDA.@sync C .= A .+ B\n",
    "    return C\n",
    "end\n",
    "\n",
    "function simulate_gpu(A_normal, B_normal)\n",
    "    # Convert your Float64 matrices to Float32 and then to CuArray{Float32}\n",
    "    A = CUDA.convert(CuArray{Float16}, A_normal)\n",
    "    B = CUDA.convert(CuArray{Float16}, B_normal)\n",
    "    # Mengukur waktu eksekusi\n",
    "    cuda_start = CUDA.@elapsed result_gpu = operation_cuda(A, B)\n",
    "    return cuda_start\n",
    "end"
   ]
  },
  {
   "cell_type": "code",
   "execution_count": 3,
   "metadata": {},
   "outputs": [
    {
     "data": {
      "text/plain": [
       "simulate_cpu (generic function with 1 method)"
      ]
     },
     "metadata": {},
     "output_type": "display_data"
    }
   ],
   "source": [
    "# CPU\n",
    "\n",
    "function operation_cpu(A, B)\n",
    "    C = zeros(Float16, size(A))\n",
    "    C .= A .+ B\n",
    "    return C\n",
    "end\n",
    "\n",
    "function simulate_cpu(A_normal, B_normal)\n",
    "    normal_start = @elapsed result_cpu = operation_cpu(A_normal, B_normal)\n",
    "    return normal_start\n",
    "end"
   ]
  },
  {
   "cell_type": "code",
   "execution_count": 4,
   "metadata": {},
   "outputs": [
    {
     "data": {
      "text/plain": [
       "simulate (generic function with 1 method)"
      ]
     },
     "metadata": {},
     "output_type": "display_data"
    }
   ],
   "source": [
    "function simulate(N::Int64, n_loop::Int64)\n",
    "    println(\"Total size: $(N*N)\")\n",
    "    results_gpu = []\n",
    "    results_cpu = []\n",
    "    is_better_gpu = []\n",
    "    for i in 1:n_loop\n",
    "        A_normal = rand(Float16, N, N)\n",
    "        B_normal = rand(Float16, N, N)\n",
    "        benchmark_gpu = simulate_gpu(A_normal, B_normal)\n",
    "        benchmark_cpu = simulate_cpu(A_normal, B_normal)\n",
    "        push!(results_gpu, benchmark_gpu)\n",
    "        push!(results_cpu, benchmark_cpu)\n",
    "        push!(is_better_gpu, benchmark_gpu < benchmark_cpu)\n",
    "    end\n",
    "    println(\"Mean CPU: $(mean(results_cpu))\")\n",
    "    println(\"Mean GPU: $(mean(results_gpu))\")\n",
    "    return DataFrame(CPU=results_cpu, GPU=results_gpu, Better_GPU=is_better_gpu)\n",
    "end"
   ]
  },
  {
   "cell_type": "code",
   "execution_count": 6,
   "metadata": {},
   "outputs": [
    {
     "name": "stdout",
     "output_type": "stream",
     "text": [
      "Total size: 100\n",
      "Mean CPU: 4.896999999999999e-7\n",
      "Mean GPU: 0.94942695\n"
     ]
    },
    {
     "data": {
      "text/html": [
       "<div><div style = \"float: left;\"><span>10×3 DataFrame</span></div><div style = \"clear: both;\"></div></div><div class = \"data-frame\" style = \"overflow-x: scroll;\"><table class = \"data-frame\" style = \"margin-bottom: 6px;\"><thead><tr class = \"header\"><th class = \"rowNumber\" style = \"font-weight: bold; text-align: right;\">Row</th><th style = \"text-align: left;\">CPU</th><th style = \"text-align: left;\">GPU</th><th style = \"text-align: left;\">Better_GPU</th></tr><tr class = \"subheader headerLastRow\"><th class = \"rowNumber\" style = \"font-weight: bold; text-align: right;\"></th><th title = \"Any\" style = \"text-align: left;\">Any</th><th title = \"Any\" style = \"text-align: left;\">Any</th><th title = \"Any\" style = \"text-align: left;\">Any</th></tr></thead><tbody><tr><td class = \"rowNumber\" style = \"font-weight: bold; text-align: right;\">1</td><td style = \"text-align: left;\">1.765e-6</td><td style = \"text-align: left;\">9.49412</td><td style = \"text-align: left;\">false</td></tr><tr><td class = \"rowNumber\" style = \"font-weight: bold; text-align: right;\">2</td><td style = \"text-align: left;\">4.59e-7</td><td style = \"text-align: left;\">2.4576e-5</td><td style = \"text-align: left;\">false</td></tr><tr><td class = \"rowNumber\" style = \"font-weight: bold; text-align: right;\">3</td><td style = \"text-align: left;\">4.41e-7</td><td style = \"text-align: left;\">1.7408e-5</td><td style = \"text-align: left;\">false</td></tr><tr><td class = \"rowNumber\" style = \"font-weight: bold; text-align: right;\">4</td><td style = \"text-align: left;\">3.2e-7</td><td style = \"text-align: left;\">1.536e-5</td><td style = \"text-align: left;\">false</td></tr><tr><td class = \"rowNumber\" style = \"font-weight: bold; text-align: right;\">5</td><td style = \"text-align: left;\">2.6e-7</td><td style = \"text-align: left;\">1.6384e-5</td><td style = \"text-align: left;\">false</td></tr><tr><td class = \"rowNumber\" style = \"font-weight: bold; text-align: right;\">6</td><td style = \"text-align: left;\">3.42e-7</td><td style = \"text-align: left;\">1.536e-5</td><td style = \"text-align: left;\">false</td></tr><tr><td class = \"rowNumber\" style = \"font-weight: bold; text-align: right;\">7</td><td style = \"text-align: left;\">3.35e-7</td><td style = \"text-align: left;\">1.4336e-5</td><td style = \"text-align: left;\">false</td></tr><tr><td class = \"rowNumber\" style = \"font-weight: bold; text-align: right;\">8</td><td style = \"text-align: left;\">3.2e-7</td><td style = \"text-align: left;\">1.4336e-5</td><td style = \"text-align: left;\">false</td></tr><tr><td class = \"rowNumber\" style = \"font-weight: bold; text-align: right;\">9</td><td style = \"text-align: left;\">2.76e-7</td><td style = \"text-align: left;\">1.4336e-5</td><td style = \"text-align: left;\">false</td></tr><tr><td class = \"rowNumber\" style = \"font-weight: bold; text-align: right;\">10</td><td style = \"text-align: left;\">3.79e-7</td><td style = \"text-align: left;\">1.6384e-5</td><td style = \"text-align: left;\">false</td></tr></tbody></table></div>"
      ],
      "text/latex": [
       "\\begin{tabular}{r|ccc}\n",
       "\t& CPU & GPU & Better\\_GPU\\\\\n",
       "\t\\hline\n",
       "\t& Any & Any & Any\\\\\n",
       "\t\\hline\n",
       "\t1 & 1.765e-6 & 9.49412 & 0 \\\\\n",
       "\t2 & 4.59e-7 & 2.4576e-5 & 0 \\\\\n",
       "\t3 & 4.41e-7 & 1.7408e-5 & 0 \\\\\n",
       "\t4 & 3.2e-7 & 1.536e-5 & 0 \\\\\n",
       "\t5 & 2.6e-7 & 1.6384e-5 & 0 \\\\\n",
       "\t6 & 3.42e-7 & 1.536e-5 & 0 \\\\\n",
       "\t7 & 3.35e-7 & 1.4336e-5 & 0 \\\\\n",
       "\t8 & 3.2e-7 & 1.4336e-5 & 0 \\\\\n",
       "\t9 & 2.76e-7 & 1.4336e-5 & 0 \\\\\n",
       "\t10 & 3.79e-7 & 1.6384e-5 & 0 \\\\\n",
       "\\end{tabular}\n"
      ],
      "text/plain": [
       "\u001b[1m10×3 DataFrame\u001b[0m\n",
       "\u001b[1m Row \u001b[0m│\u001b[1m CPU      \u001b[0m\u001b[1m GPU       \u001b[0m\u001b[1m Better_GPU \u001b[0m\n",
       "     │\u001b[90m Any      \u001b[0m\u001b[90m Any       \u001b[0m\u001b[90m Any        \u001b[0m\n",
       "─────┼─────────────────────────────────\n",
       "   1 │ 1.765e-6  9.49412    false\n",
       "   2 │ 4.59e-7   2.4576e-5  false\n",
       "   3 │ 4.41e-7   1.7408e-5  false\n",
       "   4 │ 3.2e-7    1.536e-5   false\n",
       "   5 │ 2.6e-7    1.6384e-5  false\n",
       "   6 │ 3.42e-7   1.536e-5   false\n",
       "   7 │ 3.35e-7   1.4336e-5  false\n",
       "   8 │ 3.2e-7    1.4336e-5  false\n",
       "   9 │ 2.76e-7   1.4336e-5  false\n",
       "  10 │ 3.79e-7   1.6384e-5  false"
      ]
     },
     "metadata": {},
     "output_type": "display_data"
    }
   ],
   "source": [
    "df = simulate(10, 10)\n",
    "CSV.write(\"./1.csv\", df)\n",
    "df"
   ]
  },
  {
   "cell_type": "code",
   "execution_count": 23,
   "metadata": {},
   "outputs": [
    {
     "name": "stdout",
     "output_type": "stream",
     "text": [
      "Total size: 2500\n",
      "Mean CPU: 2.2571e-6\n",
      "Mean GPU: 2.23232e-5\n"
     ]
    },
    {
     "data": {
      "text/html": [
       "<div><div style = \"float: left;\"><span>10×3 DataFrame</span></div><div style = \"clear: both;\"></div></div><div class = \"data-frame\" style = \"overflow-x: scroll;\"><table class = \"data-frame\" style = \"margin-bottom: 6px;\"><thead><tr class = \"header\"><th class = \"rowNumber\" style = \"font-weight: bold; text-align: right;\">Row</th><th style = \"text-align: left;\">CPU</th><th style = \"text-align: left;\">GPU</th><th style = \"text-align: left;\">Better_GPU</th></tr><tr class = \"subheader headerLastRow\"><th class = \"rowNumber\" style = \"font-weight: bold; text-align: right;\"></th><th title = \"Any\" style = \"text-align: left;\">Any</th><th title = \"Any\" style = \"text-align: left;\">Any</th><th title = \"Any\" style = \"text-align: left;\">Any</th></tr></thead><tbody><tr><td class = \"rowNumber\" style = \"font-weight: bold; text-align: right;\">1</td><td style = \"text-align: left;\">3.675e-6</td><td style = \"text-align: left;\">4.5056e-5</td><td style = \"text-align: left;\">false</td></tr><tr><td class = \"rowNumber\" style = \"font-weight: bold; text-align: right;\">2</td><td style = \"text-align: left;\">2.193e-6</td><td style = \"text-align: left;\">2.2528e-5</td><td style = \"text-align: left;\">false</td></tr><tr><td class = \"rowNumber\" style = \"font-weight: bold; text-align: right;\">3</td><td style = \"text-align: left;\">2.016e-6</td><td style = \"text-align: left;\">1.9456e-5</td><td style = \"text-align: left;\">false</td></tr><tr><td class = \"rowNumber\" style = \"font-weight: bold; text-align: right;\">4</td><td style = \"text-align: left;\">2.27e-6</td><td style = \"text-align: left;\">2.56e-5</td><td style = \"text-align: left;\">false</td></tr><tr><td class = \"rowNumber\" style = \"font-weight: bold; text-align: right;\">5</td><td style = \"text-align: left;\">2.032e-6</td><td style = \"text-align: left;\">1.8432e-5</td><td style = \"text-align: left;\">false</td></tr><tr><td class = \"rowNumber\" style = \"font-weight: bold; text-align: right;\">6</td><td style = \"text-align: left;\">2.108e-6</td><td style = \"text-align: left;\">1.6384e-5</td><td style = \"text-align: left;\">false</td></tr><tr><td class = \"rowNumber\" style = \"font-weight: bold; text-align: right;\">7</td><td style = \"text-align: left;\">2.036e-6</td><td style = \"text-align: left;\">1.8432e-5</td><td style = \"text-align: left;\">false</td></tr><tr><td class = \"rowNumber\" style = \"font-weight: bold; text-align: right;\">8</td><td style = \"text-align: left;\">2.168e-6</td><td style = \"text-align: left;\">1.8432e-5</td><td style = \"text-align: left;\">false</td></tr><tr><td class = \"rowNumber\" style = \"font-weight: bold; text-align: right;\">9</td><td style = \"text-align: left;\">1.964e-6</td><td style = \"text-align: left;\">1.9456e-5</td><td style = \"text-align: left;\">false</td></tr><tr><td class = \"rowNumber\" style = \"font-weight: bold; text-align: right;\">10</td><td style = \"text-align: left;\">2.109e-6</td><td style = \"text-align: left;\">1.9456e-5</td><td style = \"text-align: left;\">false</td></tr></tbody></table></div>"
      ],
      "text/latex": [
       "\\begin{tabular}{r|ccc}\n",
       "\t& CPU & GPU & Better\\_GPU\\\\\n",
       "\t\\hline\n",
       "\t& Any & Any & Any\\\\\n",
       "\t\\hline\n",
       "\t1 & 3.675e-6 & 4.5056e-5 & 0 \\\\\n",
       "\t2 & 2.193e-6 & 2.2528e-5 & 0 \\\\\n",
       "\t3 & 2.016e-6 & 1.9456e-5 & 0 \\\\\n",
       "\t4 & 2.27e-6 & 2.56e-5 & 0 \\\\\n",
       "\t5 & 2.032e-6 & 1.8432e-5 & 0 \\\\\n",
       "\t6 & 2.108e-6 & 1.6384e-5 & 0 \\\\\n",
       "\t7 & 2.036e-6 & 1.8432e-5 & 0 \\\\\n",
       "\t8 & 2.168e-6 & 1.8432e-5 & 0 \\\\\n",
       "\t9 & 1.964e-6 & 1.9456e-5 & 0 \\\\\n",
       "\t10 & 2.109e-6 & 1.9456e-5 & 0 \\\\\n",
       "\\end{tabular}\n"
      ],
      "text/plain": [
       "\u001b[1m10×3 DataFrame\u001b[0m\n",
       "\u001b[1m Row \u001b[0m│\u001b[1m CPU      \u001b[0m\u001b[1m GPU       \u001b[0m\u001b[1m Better_GPU \u001b[0m\n",
       "     │\u001b[90m Any      \u001b[0m\u001b[90m Any       \u001b[0m\u001b[90m Any        \u001b[0m\n",
       "─────┼─────────────────────────────────\n",
       "   1 │ 3.675e-6  4.5056e-5  false\n",
       "   2 │ 2.193e-6  2.2528e-5  false\n",
       "   3 │ 2.016e-6  1.9456e-5  false\n",
       "   4 │ 2.27e-6   2.56e-5    false\n",
       "   5 │ 2.032e-6  1.8432e-5  false\n",
       "   6 │ 2.108e-6  1.6384e-5  false\n",
       "   7 │ 2.036e-6  1.8432e-5  false\n",
       "   8 │ 2.168e-6  1.8432e-5  false\n",
       "   9 │ 1.964e-6  1.9456e-5  false\n",
       "  10 │ 2.109e-6  1.9456e-5  false"
      ]
     },
     "metadata": {},
     "output_type": "display_data"
    }
   ],
   "source": [
    "df = simulate(50, 10)\n",
    "CSV.write(\"./2.csv\", df)\n",
    "df"
   ]
  },
  {
   "cell_type": "code",
   "execution_count": null,
   "metadata": {},
   "outputs": [
    {
     "name": "stdout",
     "output_type": "stream",
     "text": [
      "Total size: 10000\n",
      "Mean CPU: 0.0023815273\n",
      "Mean GPU: 0.0005711424\n"
     ]
    },
    {
     "data": {
      "text/html": [
       "<div><div style = \"float: left;\"><span>10×3 DataFrame</span></div><div style = \"clear: both;\"></div></div><div class = \"data-frame\" style = \"overflow-x: scroll;\"><table class = \"data-frame\" style = \"margin-bottom: 6px;\"><thead><tr class = \"header\"><th class = \"rowNumber\" style = \"font-weight: bold; text-align: right;\">Row</th><th style = \"text-align: left;\">CPU</th><th style = \"text-align: left;\">GPU</th><th style = \"text-align: left;\">Better_GPU</th></tr><tr class = \"subheader headerLastRow\"><th class = \"rowNumber\" style = \"font-weight: bold; text-align: right;\"></th><th title = \"Any\" style = \"text-align: left;\">Any</th><th title = \"Any\" style = \"text-align: left;\">Any</th><th title = \"Any\" style = \"text-align: left;\">Any</th></tr></thead><tbody><tr><td class = \"rowNumber\" style = \"font-weight: bold; text-align: right;\">1</td><td style = \"text-align: left;\">0.000240995</td><td style = \"text-align: left;\">0.000602752</td><td style = \"text-align: left;\">false</td></tr><tr><td class = \"rowNumber\" style = \"font-weight: bold; text-align: right;\">2</td><td style = \"text-align: left;\">0.000200691</td><td style = \"text-align: left;\">0.000589504</td><td style = \"text-align: left;\">false</td></tr><tr><td class = \"rowNumber\" style = \"font-weight: bold; text-align: right;\">3</td><td style = \"text-align: left;\">0.011989</td><td style = \"text-align: left;\">0.000547456</td><td style = \"text-align: left;\">true</td></tr><tr><td class = \"rowNumber\" style = \"font-weight: bold; text-align: right;\">4</td><td style = \"text-align: left;\">0.00201261</td><td style = \"text-align: left;\">0.000596192</td><td style = \"text-align: left;\">true</td></tr><tr><td class = \"rowNumber\" style = \"font-weight: bold; text-align: right;\">5</td><td style = \"text-align: left;\">0.00024286</td><td style = \"text-align: left;\">0.00054912</td><td style = \"text-align: left;\">false</td></tr><tr><td class = \"rowNumber\" style = \"font-weight: bold; text-align: right;\">6</td><td style = \"text-align: left;\">0.000233224</td><td style = \"text-align: left;\">0.000545536</td><td style = \"text-align: left;\">false</td></tr><tr><td class = \"rowNumber\" style = \"font-weight: bold; text-align: right;\">7</td><td style = \"text-align: left;\">0.00021233</td><td style = \"text-align: left;\">0.000524576</td><td style = \"text-align: left;\">false</td></tr><tr><td class = \"rowNumber\" style = \"font-weight: bold; text-align: right;\">8</td><td style = \"text-align: left;\">0.00820464</td><td style = \"text-align: left;\">0.00052816</td><td style = \"text-align: left;\">true</td></tr><tr><td class = \"rowNumber\" style = \"font-weight: bold; text-align: right;\">9</td><td style = \"text-align: left;\">0.000261372</td><td style = \"text-align: left;\">0.00067952</td><td style = \"text-align: left;\">false</td></tr><tr><td class = \"rowNumber\" style = \"font-weight: bold; text-align: right;\">10</td><td style = \"text-align: left;\">0.000217568</td><td style = \"text-align: left;\">0.000548608</td><td style = \"text-align: left;\">false</td></tr></tbody></table></div>"
      ],
      "text/latex": [
       "\\begin{tabular}{r|ccc}\n",
       "\t& CPU & GPU & Better\\_GPU\\\\\n",
       "\t\\hline\n",
       "\t& Any & Any & Any\\\\\n",
       "\t\\hline\n",
       "\t1 & 0.000240995 & 0.000602752 & 0 \\\\\n",
       "\t2 & 0.000200691 & 0.000589504 & 0 \\\\\n",
       "\t3 & 0.011989 & 0.000547456 & 1 \\\\\n",
       "\t4 & 0.00201261 & 0.000596192 & 1 \\\\\n",
       "\t5 & 0.00024286 & 0.00054912 & 0 \\\\\n",
       "\t6 & 0.000233224 & 0.000545536 & 0 \\\\\n",
       "\t7 & 0.00021233 & 0.000524576 & 0 \\\\\n",
       "\t8 & 0.00820464 & 0.00052816 & 1 \\\\\n",
       "\t9 & 0.000261372 & 0.00067952 & 0 \\\\\n",
       "\t10 & 0.000217568 & 0.000548608 & 0 \\\\\n",
       "\\end{tabular}\n"
      ],
      "text/plain": [
       "\u001b[1m10×3 DataFrame\u001b[0m\n",
       "\u001b[1m Row \u001b[0m│\u001b[1m CPU         \u001b[0m\u001b[1m GPU         \u001b[0m\u001b[1m Better_GPU \u001b[0m\n",
       "     │\u001b[90m Any         \u001b[0m\u001b[90m Any         \u001b[0m\u001b[90m Any        \u001b[0m\n",
       "─────┼──────────────────────────────────────\n",
       "   1 │ 0.000240995  0.000602752  false\n",
       "   2 │ 0.000200691  0.000589504  false\n",
       "   3 │ 0.011989     0.000547456  true\n",
       "   4 │ 0.00201261   0.000596192  true\n",
       "   5 │ 0.00024286   0.00054912   false\n",
       "   6 │ 0.000233224  0.000545536  false\n",
       "   7 │ 0.00021233   0.000524576  false\n",
       "   8 │ 0.00820464   0.00052816   true\n",
       "   9 │ 0.000261372  0.00067952   false\n",
       "  10 │ 0.000217568  0.000548608  false"
      ]
     },
     "metadata": {},
     "output_type": "display_data"
    }
   ],
   "source": [
    "df = simulate(100, 10)\n",
    "CSV.write(\"./3.csv\", df)\n",
    "df"
   ]
  },
  {
   "cell_type": "code",
   "execution_count": 25,
   "metadata": {},
   "outputs": [
    {
     "name": "stdout",
     "output_type": "stream",
     "text": [
      "Total size: 250000\n",
      "Mean CPU: 0.0004229625999999999\n",
      "Mean GPU: 0.00011472959\n"
     ]
    },
    {
     "data": {
      "text/html": [
       "<div><div style = \"float: left;\"><span>10×3 DataFrame</span></div><div style = \"clear: both;\"></div></div><div class = \"data-frame\" style = \"overflow-x: scroll;\"><table class = \"data-frame\" style = \"margin-bottom: 6px;\"><thead><tr class = \"header\"><th class = \"rowNumber\" style = \"font-weight: bold; text-align: right;\">Row</th><th style = \"text-align: left;\">CPU</th><th style = \"text-align: left;\">GPU</th><th style = \"text-align: left;\">Better_GPU</th></tr><tr class = \"subheader headerLastRow\"><th class = \"rowNumber\" style = \"font-weight: bold; text-align: right;\"></th><th title = \"Any\" style = \"text-align: left;\">Any</th><th title = \"Any\" style = \"text-align: left;\">Any</th><th title = \"Any\" style = \"text-align: left;\">Any</th></tr></thead><tbody><tr><td class = \"rowNumber\" style = \"font-weight: bold; text-align: right;\">1</td><td style = \"text-align: left;\">0.000266523</td><td style = \"text-align: left;\">0.000176544</td><td style = \"text-align: left;\">true</td></tr><tr><td class = \"rowNumber\" style = \"font-weight: bold; text-align: right;\">2</td><td style = \"text-align: left;\">0.000363702</td><td style = \"text-align: left;\">9.2832e-5</td><td style = \"text-align: left;\">true</td></tr><tr><td class = \"rowNumber\" style = \"font-weight: bold; text-align: right;\">3</td><td style = \"text-align: left;\">0.000564232</td><td style = \"text-align: left;\">0.000219424</td><td style = \"text-align: left;\">true</td></tr><tr><td class = \"rowNumber\" style = \"font-weight: bold; text-align: right;\">4</td><td style = \"text-align: left;\">0.000341592</td><td style = \"text-align: left;\">9.4496e-5</td><td style = \"text-align: left;\">true</td></tr><tr><td class = \"rowNumber\" style = \"font-weight: bold; text-align: right;\">5</td><td style = \"text-align: left;\">0.000607998</td><td style = \"text-align: left;\">0.000104128</td><td style = \"text-align: left;\">true</td></tr><tr><td class = \"rowNumber\" style = \"font-weight: bold; text-align: right;\">6</td><td style = \"text-align: left;\">0.000129485</td><td style = \"text-align: left;\">9.4528e-5</td><td style = \"text-align: left;\">true</td></tr><tr><td class = \"rowNumber\" style = \"font-weight: bold; text-align: right;\">7</td><td style = \"text-align: left;\">0.000293836</td><td style = \"text-align: left;\">9.04e-5</td><td style = \"text-align: left;\">true</td></tr><tr><td class = \"rowNumber\" style = \"font-weight: bold; text-align: right;\">8</td><td style = \"text-align: left;\">9.9423e-5</td><td style = \"text-align: left;\">8.6304e-5</td><td style = \"text-align: left;\">true</td></tr><tr><td class = \"rowNumber\" style = \"font-weight: bold; text-align: right;\">9</td><td style = \"text-align: left;\">0.00120903</td><td style = \"text-align: left;\">9.2768e-5</td><td style = \"text-align: left;\">true</td></tr><tr><td class = \"rowNumber\" style = \"font-weight: bold; text-align: right;\">10</td><td style = \"text-align: left;\">0.000353806</td><td style = \"text-align: left;\">9.5872e-5</td><td style = \"text-align: left;\">true</td></tr></tbody></table></div>"
      ],
      "text/latex": [
       "\\begin{tabular}{r|ccc}\n",
       "\t& CPU & GPU & Better\\_GPU\\\\\n",
       "\t\\hline\n",
       "\t& Any & Any & Any\\\\\n",
       "\t\\hline\n",
       "\t1 & 0.000266523 & 0.000176544 & 1 \\\\\n",
       "\t2 & 0.000363702 & 9.2832e-5 & 1 \\\\\n",
       "\t3 & 0.000564232 & 0.000219424 & 1 \\\\\n",
       "\t4 & 0.000341592 & 9.4496e-5 & 1 \\\\\n",
       "\t5 & 0.000607998 & 0.000104128 & 1 \\\\\n",
       "\t6 & 0.000129485 & 9.4528e-5 & 1 \\\\\n",
       "\t7 & 0.000293836 & 9.04e-5 & 1 \\\\\n",
       "\t8 & 9.9423e-5 & 8.6304e-5 & 1 \\\\\n",
       "\t9 & 0.00120903 & 9.2768e-5 & 1 \\\\\n",
       "\t10 & 0.000353806 & 9.5872e-5 & 1 \\\\\n",
       "\\end{tabular}\n"
      ],
      "text/plain": [
       "\u001b[1m10×3 DataFrame\u001b[0m\n",
       "\u001b[1m Row \u001b[0m│\u001b[1m CPU         \u001b[0m\u001b[1m GPU         \u001b[0m\u001b[1m Better_GPU \u001b[0m\n",
       "     │\u001b[90m Any         \u001b[0m\u001b[90m Any         \u001b[0m\u001b[90m Any        \u001b[0m\n",
       "─────┼──────────────────────────────────────\n",
       "   1 │ 0.000266523  0.000176544  true\n",
       "   2 │ 0.000363702  9.2832e-5    true\n",
       "   3 │ 0.000564232  0.000219424  true\n",
       "   4 │ 0.000341592  9.4496e-5    true\n",
       "   5 │ 0.000607998  0.000104128  true\n",
       "   6 │ 0.000129485  9.4528e-5    true\n",
       "   7 │ 0.000293836  9.04e-5      true\n",
       "   8 │ 9.9423e-5    8.6304e-5    true\n",
       "   9 │ 0.00120903   9.2768e-5    true\n",
       "  10 │ 0.000353806  9.5872e-5    true"
      ]
     },
     "metadata": {},
     "output_type": "display_data"
    }
   ],
   "source": [
    "df = simulate(500, 10)\n",
    "CSV.write(\"./4.csv\", df)\n",
    "df"
   ]
  },
  {
   "cell_type": "code",
   "execution_count": null,
   "metadata": {},
   "outputs": [
    {
     "name": "stdout",
     "output_type": "stream",
     "text": [
      "Mean CPU: 0.03808624000000001\n",
      "Mean GPU: 0.034511715\n"
     ]
    },
    {
     "data": {
      "text/html": [
       "<div><div style = \"float: left;\"><span>10×3 DataFrame</span></div><div style = \"clear: both;\"></div></div><div class = \"data-frame\" style = \"overflow-x: scroll;\"><table class = \"data-frame\" style = \"margin-bottom: 6px;\"><thead><tr class = \"header\"><th class = \"rowNumber\" style = \"font-weight: bold; text-align: right;\">Row</th><th style = \"text-align: left;\">CPU</th><th style = \"text-align: left;\">GPU</th><th style = \"text-align: left;\">Better_GPU</th></tr><tr class = \"subheader headerLastRow\"><th class = \"rowNumber\" style = \"font-weight: bold; text-align: right;\"></th><th title = \"Any\" style = \"text-align: left;\">Any</th><th title = \"Any\" style = \"text-align: left;\">Any</th><th title = \"Any\" style = \"text-align: left;\">Any</th></tr></thead><tbody><tr><td class = \"rowNumber\" style = \"font-weight: bold; text-align: right;\">1</td><td style = \"text-align: left;\">0.102373</td><td style = \"text-align: left;\">0.0338499</td><td style = \"text-align: left;\">true</td></tr><tr><td class = \"rowNumber\" style = \"font-weight: bold; text-align: right;\">2</td><td style = \"text-align: left;\">0.036042</td><td style = \"text-align: left;\">0.0431727</td><td style = \"text-align: left;\">false</td></tr><tr><td class = \"rowNumber\" style = \"font-weight: bold; text-align: right;\">3</td><td style = \"text-align: left;\">0.0331847</td><td style = \"text-align: left;\">0.0337169</td><td style = \"text-align: left;\">false</td></tr><tr><td class = \"rowNumber\" style = \"font-weight: bold; text-align: right;\">4</td><td style = \"text-align: left;\">0.0282845</td><td style = \"text-align: left;\">0.0339092</td><td style = \"text-align: left;\">false</td></tr><tr><td class = \"rowNumber\" style = \"font-weight: bold; text-align: right;\">5</td><td style = \"text-align: left;\">0.0266976</td><td style = \"text-align: left;\">0.0326739</td><td style = \"text-align: left;\">false</td></tr><tr><td class = \"rowNumber\" style = \"font-weight: bold; text-align: right;\">6</td><td style = \"text-align: left;\">0.0309375</td><td style = \"text-align: left;\">0.0339364</td><td style = \"text-align: left;\">false</td></tr><tr><td class = \"rowNumber\" style = \"font-weight: bold; text-align: right;\">7</td><td style = \"text-align: left;\">0.0281929</td><td style = \"text-align: left;\">0.0326613</td><td style = \"text-align: left;\">false</td></tr><tr><td class = \"rowNumber\" style = \"font-weight: bold; text-align: right;\">8</td><td style = \"text-align: left;\">0.0310332</td><td style = \"text-align: left;\">0.0336127</td><td style = \"text-align: left;\">false</td></tr><tr><td class = \"rowNumber\" style = \"font-weight: bold; text-align: right;\">9</td><td style = \"text-align: left;\">0.0331889</td><td style = \"text-align: left;\">0.0349366</td><td style = \"text-align: left;\">false</td></tr><tr><td class = \"rowNumber\" style = \"font-weight: bold; text-align: right;\">10</td><td style = \"text-align: left;\">0.0309277</td><td style = \"text-align: left;\">0.0326476</td><td style = \"text-align: left;\">false</td></tr></tbody></table></div>"
      ],
      "text/latex": [
       "\\begin{tabular}{r|ccc}\n",
       "\t& CPU & GPU & Better\\_GPU\\\\\n",
       "\t\\hline\n",
       "\t& Any & Any & Any\\\\\n",
       "\t\\hline\n",
       "\t1 & 0.102373 & 0.0338499 & 1 \\\\\n",
       "\t2 & 0.036042 & 0.0431727 & 0 \\\\\n",
       "\t3 & 0.0331847 & 0.0337169 & 0 \\\\\n",
       "\t4 & 0.0282845 & 0.0339092 & 0 \\\\\n",
       "\t5 & 0.0266976 & 0.0326739 & 0 \\\\\n",
       "\t6 & 0.0309375 & 0.0339364 & 0 \\\\\n",
       "\t7 & 0.0281929 & 0.0326613 & 0 \\\\\n",
       "\t8 & 0.0310332 & 0.0336127 & 0 \\\\\n",
       "\t9 & 0.0331889 & 0.0349366 & 0 \\\\\n",
       "\t10 & 0.0309277 & 0.0326476 & 0 \\\\\n",
       "\\end{tabular}\n"
      ],
      "text/plain": [
       "\u001b[1m10×3 DataFrame\u001b[0m\n",
       "\u001b[1m Row \u001b[0m│\u001b[1m CPU       \u001b[0m\u001b[1m GPU       \u001b[0m\u001b[1m Better_GPU \u001b[0m\n",
       "     │\u001b[90m Any       \u001b[0m\u001b[90m Any       \u001b[0m\u001b[90m Any        \u001b[0m\n",
       "─────┼──────────────────────────────────\n",
       "   1 │ 0.102373   0.0338499  true\n",
       "   2 │ 0.036042   0.0431727  false\n",
       "   3 │ 0.0331847  0.0337169  false\n",
       "   4 │ 0.0282845  0.0339092  false\n",
       "   5 │ 0.0266976  0.0326739  false\n",
       "   6 │ 0.0309375  0.0339364  false\n",
       "   7 │ 0.0281929  0.0326613  false\n",
       "   8 │ 0.0310332  0.0336127  false\n",
       "   9 │ 0.0331889  0.0349366  false\n",
       "  10 │ 0.0309277  0.0326476  false"
      ]
     },
     "metadata": {},
     "output_type": "display_data"
    }
   ],
   "source": [
    "df = simulate(1000, 10)\n",
    "CSV.write(\"./5.csv\", df)\n",
    "df"
   ]
  },
  {
   "cell_type": "code",
   "execution_count": 7,
   "metadata": {},
   "outputs": [
    {
     "name": "stdout",
     "output_type": "stream",
     "text": [
      "Total size: 25000000\n",
      "Mean CPU: 0.06828963769999999\n",
      "Mean GPU: 0.00859279\n"
     ]
    },
    {
     "data": {
      "text/html": [
       "<div><div style = \"float: left;\"><span>10×3 DataFrame</span></div><div style = \"clear: both;\"></div></div><div class = \"data-frame\" style = \"overflow-x: scroll;\"><table class = \"data-frame\" style = \"margin-bottom: 6px;\"><thead><tr class = \"header\"><th class = \"rowNumber\" style = \"font-weight: bold; text-align: right;\">Row</th><th style = \"text-align: left;\">CPU</th><th style = \"text-align: left;\">GPU</th><th style = \"text-align: left;\">Better_GPU</th></tr><tr class = \"subheader headerLastRow\"><th class = \"rowNumber\" style = \"font-weight: bold; text-align: right;\"></th><th title = \"Any\" style = \"text-align: left;\">Any</th><th title = \"Any\" style = \"text-align: left;\">Any</th><th title = \"Any\" style = \"text-align: left;\">Any</th></tr></thead><tbody><tr><td class = \"rowNumber\" style = \"font-weight: bold; text-align: right;\">1</td><td style = \"text-align: left;\">0.0255337</td><td style = \"text-align: left;\">0.00852186</td><td style = \"text-align: left;\">true</td></tr><tr><td class = \"rowNumber\" style = \"font-weight: bold; text-align: right;\">2</td><td style = \"text-align: left;\">0.0250889</td><td style = \"text-align: left;\">0.00857926</td><td style = \"text-align: left;\">true</td></tr><tr><td class = \"rowNumber\" style = \"font-weight: bold; text-align: right;\">3</td><td style = \"text-align: left;\">0.0252369</td><td style = \"text-align: left;\">0.0086783</td><td style = \"text-align: left;\">true</td></tr><tr><td class = \"rowNumber\" style = \"font-weight: bold; text-align: right;\">4</td><td style = \"text-align: left;\">0.237156</td><td style = \"text-align: left;\">0.00861869</td><td style = \"text-align: left;\">true</td></tr><tr><td class = \"rowNumber\" style = \"font-weight: bold; text-align: right;\">5</td><td style = \"text-align: left;\">0.0301566</td><td style = \"text-align: left;\">0.008596</td><td style = \"text-align: left;\">true</td></tr><tr><td class = \"rowNumber\" style = \"font-weight: bold; text-align: right;\">6</td><td style = \"text-align: left;\">0.0270888</td><td style = \"text-align: left;\">0.00857837</td><td style = \"text-align: left;\">true</td></tr><tr><td class = \"rowNumber\" style = \"font-weight: bold; text-align: right;\">7</td><td style = \"text-align: left;\">0.0245357</td><td style = \"text-align: left;\">0.00862134</td><td style = \"text-align: left;\">true</td></tr><tr><td class = \"rowNumber\" style = \"font-weight: bold; text-align: right;\">8</td><td style = \"text-align: left;\">0.0266175</td><td style = \"text-align: left;\">0.00858384</td><td style = \"text-align: left;\">true</td></tr><tr><td class = \"rowNumber\" style = \"font-weight: bold; text-align: right;\">9</td><td style = \"text-align: left;\">0.0288135</td><td style = \"text-align: left;\">0.00858598</td><td style = \"text-align: left;\">true</td></tr><tr><td class = \"rowNumber\" style = \"font-weight: bold; text-align: right;\">10</td><td style = \"text-align: left;\">0.232669</td><td style = \"text-align: left;\">0.00856426</td><td style = \"text-align: left;\">true</td></tr></tbody></table></div>"
      ],
      "text/latex": [
       "\\begin{tabular}{r|ccc}\n",
       "\t& CPU & GPU & Better\\_GPU\\\\\n",
       "\t\\hline\n",
       "\t& Any & Any & Any\\\\\n",
       "\t\\hline\n",
       "\t1 & 0.0255337 & 0.00852186 & 1 \\\\\n",
       "\t2 & 0.0250889 & 0.00857926 & 1 \\\\\n",
       "\t3 & 0.0252369 & 0.0086783 & 1 \\\\\n",
       "\t4 & 0.237156 & 0.00861869 & 1 \\\\\n",
       "\t5 & 0.0301566 & 0.008596 & 1 \\\\\n",
       "\t6 & 0.0270888 & 0.00857837 & 1 \\\\\n",
       "\t7 & 0.0245357 & 0.00862134 & 1 \\\\\n",
       "\t8 & 0.0266175 & 0.00858384 & 1 \\\\\n",
       "\t9 & 0.0288135 & 0.00858598 & 1 \\\\\n",
       "\t10 & 0.232669 & 0.00856426 & 1 \\\\\n",
       "\\end{tabular}\n"
      ],
      "text/plain": [
       "\u001b[1m10×3 DataFrame\u001b[0m\n",
       "\u001b[1m Row \u001b[0m│\u001b[1m CPU       \u001b[0m\u001b[1m GPU        \u001b[0m\u001b[1m Better_GPU \u001b[0m\n",
       "     │\u001b[90m Any       \u001b[0m\u001b[90m Any        \u001b[0m\u001b[90m Any        \u001b[0m\n",
       "─────┼───────────────────────────────────\n",
       "   1 │ 0.0255337  0.00852186  true\n",
       "   2 │ 0.0250889  0.00857926  true\n",
       "   3 │ 0.0252369  0.0086783   true\n",
       "   4 │ 0.237156   0.00861869  true\n",
       "   5 │ 0.0301566  0.008596    true\n",
       "   6 │ 0.0270888  0.00857837  true\n",
       "   7 │ 0.0245357  0.00862134  true\n",
       "   8 │ 0.0266175  0.00858384  true\n",
       "   9 │ 0.0288135  0.00858598  true\n",
       "  10 │ 0.232669   0.00856426  true"
      ]
     },
     "metadata": {},
     "output_type": "display_data"
    }
   ],
   "source": [
    "df = simulate(5000, 10)\n",
    "CSV.write(\"./6.csv\", df)\n",
    "df"
   ]
  },
  {
   "cell_type": "code",
   "execution_count": 11,
   "metadata": {},
   "outputs": [
    {
     "name": "stdout",
     "output_type": "stream",
     "text": [
      "Total size: 100000000\n",
      "Mean CPU: 0.1029982564\n",
      "Mean GPU: 0.034617256\n"
     ]
    },
    {
     "data": {
      "text/html": [
       "<div><div style = \"float: left;\"><span>10×3 DataFrame</span></div><div style = \"clear: both;\"></div></div><div class = \"data-frame\" style = \"overflow-x: scroll;\"><table class = \"data-frame\" style = \"margin-bottom: 6px;\"><thead><tr class = \"header\"><th class = \"rowNumber\" style = \"font-weight: bold; text-align: right;\">Row</th><th style = \"text-align: left;\">CPU</th><th style = \"text-align: left;\">GPU</th><th style = \"text-align: left;\">Better_GPU</th></tr><tr class = \"subheader headerLastRow\"><th class = \"rowNumber\" style = \"font-weight: bold; text-align: right;\"></th><th title = \"Any\" style = \"text-align: left;\">Any</th><th title = \"Any\" style = \"text-align: left;\">Any</th><th title = \"Any\" style = \"text-align: left;\">Any</th></tr></thead><tbody><tr><td class = \"rowNumber\" style = \"font-weight: bold; text-align: right;\">1</td><td style = \"text-align: left;\">0.115745</td><td style = \"text-align: left;\">0.0353693</td><td style = \"text-align: left;\">true</td></tr><tr><td class = \"rowNumber\" style = \"font-weight: bold; text-align: right;\">2</td><td style = \"text-align: left;\">0.10413</td><td style = \"text-align: left;\">0.0345934</td><td style = \"text-align: left;\">true</td></tr><tr><td class = \"rowNumber\" style = \"font-weight: bold; text-align: right;\">3</td><td style = \"text-align: left;\">0.102146</td><td style = \"text-align: left;\">0.0345645</td><td style = \"text-align: left;\">true</td></tr><tr><td class = \"rowNumber\" style = \"font-weight: bold; text-align: right;\">4</td><td style = \"text-align: left;\">0.101021</td><td style = \"text-align: left;\">0.034473</td><td style = \"text-align: left;\">true</td></tr><tr><td class = \"rowNumber\" style = \"font-weight: bold; text-align: right;\">5</td><td style = \"text-align: left;\">0.101615</td><td style = \"text-align: left;\">0.0344561</td><td style = \"text-align: left;\">true</td></tr><tr><td class = \"rowNumber\" style = \"font-weight: bold; text-align: right;\">6</td><td style = \"text-align: left;\">0.100552</td><td style = \"text-align: left;\">0.0346676</td><td style = \"text-align: left;\">true</td></tr><tr><td class = \"rowNumber\" style = \"font-weight: bold; text-align: right;\">7</td><td style = \"text-align: left;\">0.0986861</td><td style = \"text-align: left;\">0.0340877</td><td style = \"text-align: left;\">true</td></tr><tr><td class = \"rowNumber\" style = \"font-weight: bold; text-align: right;\">8</td><td style = \"text-align: left;\">0.103456</td><td style = \"text-align: left;\">0.035154</td><td style = \"text-align: left;\">true</td></tr><tr><td class = \"rowNumber\" style = \"font-weight: bold; text-align: right;\">9</td><td style = \"text-align: left;\">0.100334</td><td style = \"text-align: left;\">0.0345364</td><td style = \"text-align: left;\">true</td></tr><tr><td class = \"rowNumber\" style = \"font-weight: bold; text-align: right;\">10</td><td style = \"text-align: left;\">0.102298</td><td style = \"text-align: left;\">0.0342706</td><td style = \"text-align: left;\">true</td></tr></tbody></table></div>"
      ],
      "text/latex": [
       "\\begin{tabular}{r|ccc}\n",
       "\t& CPU & GPU & Better\\_GPU\\\\\n",
       "\t\\hline\n",
       "\t& Any & Any & Any\\\\\n",
       "\t\\hline\n",
       "\t1 & 0.115745 & 0.0353693 & 1 \\\\\n",
       "\t2 & 0.10413 & 0.0345934 & 1 \\\\\n",
       "\t3 & 0.102146 & 0.0345645 & 1 \\\\\n",
       "\t4 & 0.101021 & 0.034473 & 1 \\\\\n",
       "\t5 & 0.101615 & 0.0344561 & 1 \\\\\n",
       "\t6 & 0.100552 & 0.0346676 & 1 \\\\\n",
       "\t7 & 0.0986861 & 0.0340877 & 1 \\\\\n",
       "\t8 & 0.103456 & 0.035154 & 1 \\\\\n",
       "\t9 & 0.100334 & 0.0345364 & 1 \\\\\n",
       "\t10 & 0.102298 & 0.0342706 & 1 \\\\\n",
       "\\end{tabular}\n"
      ],
      "text/plain": [
       "\u001b[1m10×3 DataFrame\u001b[0m\n",
       "\u001b[1m Row \u001b[0m│\u001b[1m CPU       \u001b[0m\u001b[1m GPU       \u001b[0m\u001b[1m Better_GPU \u001b[0m\n",
       "     │\u001b[90m Any       \u001b[0m\u001b[90m Any       \u001b[0m\u001b[90m Any        \u001b[0m\n",
       "─────┼──────────────────────────────────\n",
       "   1 │ 0.115745   0.0353693  true\n",
       "   2 │ 0.10413    0.0345934  true\n",
       "   3 │ 0.102146   0.0345645  true\n",
       "   4 │ 0.101021   0.034473   true\n",
       "   5 │ 0.101615   0.0344561  true\n",
       "   6 │ 0.100552   0.0346676  true\n",
       "   7 │ 0.0986861  0.0340877  true\n",
       "   8 │ 0.103456   0.035154   true\n",
       "   9 │ 0.100334   0.0345364  true\n",
       "  10 │ 0.102298   0.0342706  true"
      ]
     },
     "metadata": {},
     "output_type": "display_data"
    }
   ],
   "source": [
    "df = simulate(10000, 10)\n",
    "CSV.write(\"./7.csv\", df)\n",
    "df"
   ]
  },
  {
   "cell_type": "code",
   "execution_count": 9,
   "metadata": {},
   "outputs": [
    {
     "name": "stdout",
     "output_type": "stream",
     "text": [
      "Total size: 144000000\n",
      "Mean CPU: 0.1706702263\n",
      "Mean GPU: 0.05084932\n"
     ]
    },
    {
     "data": {
      "text/html": [
       "<div><div style = \"float: left;\"><span>10×3 DataFrame</span></div><div style = \"clear: both;\"></div></div><div class = \"data-frame\" style = \"overflow-x: scroll;\"><table class = \"data-frame\" style = \"margin-bottom: 6px;\"><thead><tr class = \"header\"><th class = \"rowNumber\" style = \"font-weight: bold; text-align: right;\">Row</th><th style = \"text-align: left;\">CPU</th><th style = \"text-align: left;\">GPU</th><th style = \"text-align: left;\">Better_GPU</th></tr><tr class = \"subheader headerLastRow\"><th class = \"rowNumber\" style = \"font-weight: bold; text-align: right;\"></th><th title = \"Any\" style = \"text-align: left;\">Any</th><th title = \"Any\" style = \"text-align: left;\">Any</th><th title = \"Any\" style = \"text-align: left;\">Any</th></tr></thead><tbody><tr><td class = \"rowNumber\" style = \"font-weight: bold; text-align: right;\">1</td><td style = \"text-align: left;\">0.152844</td><td style = \"text-align: left;\">0.0507771</td><td style = \"text-align: left;\">true</td></tr><tr><td class = \"rowNumber\" style = \"font-weight: bold; text-align: right;\">2</td><td style = \"text-align: left;\">0.150039</td><td style = \"text-align: left;\">0.0507752</td><td style = \"text-align: left;\">true</td></tr><tr><td class = \"rowNumber\" style = \"font-weight: bold; text-align: right;\">3</td><td style = \"text-align: left;\">0.143741</td><td style = \"text-align: left;\">0.0514088</td><td style = \"text-align: left;\">true</td></tr><tr><td class = \"rowNumber\" style = \"font-weight: bold; text-align: right;\">4</td><td style = \"text-align: left;\">0.14522</td><td style = \"text-align: left;\">0.0500374</td><td style = \"text-align: left;\">true</td></tr><tr><td class = \"rowNumber\" style = \"font-weight: bold; text-align: right;\">5</td><td style = \"text-align: left;\">0.14616</td><td style = \"text-align: left;\">0.0511594</td><td style = \"text-align: left;\">true</td></tr><tr><td class = \"rowNumber\" style = \"font-weight: bold; text-align: right;\">6</td><td style = \"text-align: left;\">0.367195</td><td style = \"text-align: left;\">0.0508206</td><td style = \"text-align: left;\">true</td></tr><tr><td class = \"rowNumber\" style = \"font-weight: bold; text-align: right;\">7</td><td style = \"text-align: left;\">0.153099</td><td style = \"text-align: left;\">0.0509309</td><td style = \"text-align: left;\">true</td></tr><tr><td class = \"rowNumber\" style = \"font-weight: bold; text-align: right;\">8</td><td style = \"text-align: left;\">0.15398</td><td style = \"text-align: left;\">0.0505505</td><td style = \"text-align: left;\">true</td></tr><tr><td class = \"rowNumber\" style = \"font-weight: bold; text-align: right;\">9</td><td style = \"text-align: left;\">0.145202</td><td style = \"text-align: left;\">0.0515425</td><td style = \"text-align: left;\">true</td></tr><tr><td class = \"rowNumber\" style = \"font-weight: bold; text-align: right;\">10</td><td style = \"text-align: left;\">0.149222</td><td style = \"text-align: left;\">0.0504907</td><td style = \"text-align: left;\">true</td></tr></tbody></table></div>"
      ],
      "text/latex": [
       "\\begin{tabular}{r|ccc}\n",
       "\t& CPU & GPU & Better\\_GPU\\\\\n",
       "\t\\hline\n",
       "\t& Any & Any & Any\\\\\n",
       "\t\\hline\n",
       "\t1 & 0.152844 & 0.0507771 & 1 \\\\\n",
       "\t2 & 0.150039 & 0.0507752 & 1 \\\\\n",
       "\t3 & 0.143741 & 0.0514088 & 1 \\\\\n",
       "\t4 & 0.14522 & 0.0500374 & 1 \\\\\n",
       "\t5 & 0.14616 & 0.0511594 & 1 \\\\\n",
       "\t6 & 0.367195 & 0.0508206 & 1 \\\\\n",
       "\t7 & 0.153099 & 0.0509309 & 1 \\\\\n",
       "\t8 & 0.15398 & 0.0505505 & 1 \\\\\n",
       "\t9 & 0.145202 & 0.0515425 & 1 \\\\\n",
       "\t10 & 0.149222 & 0.0504907 & 1 \\\\\n",
       "\\end{tabular}\n"
      ],
      "text/plain": [
       "\u001b[1m10×3 DataFrame\u001b[0m\n",
       "\u001b[1m Row \u001b[0m│\u001b[1m CPU      \u001b[0m\u001b[1m GPU       \u001b[0m\u001b[1m Better_GPU \u001b[0m\n",
       "     │\u001b[90m Any      \u001b[0m\u001b[90m Any       \u001b[0m\u001b[90m Any        \u001b[0m\n",
       "─────┼─────────────────────────────────\n",
       "   1 │ 0.152844  0.0507771  true\n",
       "   2 │ 0.150039  0.0507752  true\n",
       "   3 │ 0.143741  0.0514088  true\n",
       "   4 │ 0.14522   0.0500374  true\n",
       "   5 │ 0.14616   0.0511594  true\n",
       "   6 │ 0.367195  0.0508206  true\n",
       "   7 │ 0.153099  0.0509309  true\n",
       "   8 │ 0.15398   0.0505505  true\n",
       "   9 │ 0.145202  0.0515425  true\n",
       "  10 │ 0.149222  0.0504907  true"
      ]
     },
     "metadata": {},
     "output_type": "display_data"
    }
   ],
   "source": [
    "df = simulate(12000, 10)\n",
    "CSV.write(\"./8.csv\", df)\n",
    "df"
   ]
  },
  {
   "cell_type": "code",
   "execution_count": 10,
   "metadata": {},
   "outputs": [
    {
     "name": "stdout",
     "output_type": "stream",
     "text": [
      "Total size: 225000000\n",
      "Mean CPU: 0.2826372088\n",
      "Mean GPU: 0.080456495\n"
     ]
    },
    {
     "data": {
      "text/html": [
       "<div><div style = \"float: left;\"><span>10×3 DataFrame</span></div><div style = \"clear: both;\"></div></div><div class = \"data-frame\" style = \"overflow-x: scroll;\"><table class = \"data-frame\" style = \"margin-bottom: 6px;\"><thead><tr class = \"header\"><th class = \"rowNumber\" style = \"font-weight: bold; text-align: right;\">Row</th><th style = \"text-align: left;\">CPU</th><th style = \"text-align: left;\">GPU</th><th style = \"text-align: left;\">Better_GPU</th></tr><tr class = \"subheader headerLastRow\"><th class = \"rowNumber\" style = \"font-weight: bold; text-align: right;\"></th><th title = \"Any\" style = \"text-align: left;\">Any</th><th title = \"Any\" style = \"text-align: left;\">Any</th><th title = \"Any\" style = \"text-align: left;\">Any</th></tr></thead><tbody><tr><td class = \"rowNumber\" style = \"font-weight: bold; text-align: right;\">1</td><td style = \"text-align: left;\">0.28097</td><td style = \"text-align: left;\">0.0806427</td><td style = \"text-align: left;\">true</td></tr><tr><td class = \"rowNumber\" style = \"font-weight: bold; text-align: right;\">2</td><td style = \"text-align: left;\">0.44095</td><td style = \"text-align: left;\">0.0800832</td><td style = \"text-align: left;\">true</td></tr><tr><td class = \"rowNumber\" style = \"font-weight: bold; text-align: right;\">3</td><td style = \"text-align: left;\">0.235266</td><td style = \"text-align: left;\">0.0795047</td><td style = \"text-align: left;\">true</td></tr><tr><td class = \"rowNumber\" style = \"font-weight: bold; text-align: right;\">4</td><td style = \"text-align: left;\">0.230861</td><td style = \"text-align: left;\">0.080595</td><td style = \"text-align: left;\">true</td></tr><tr><td class = \"rowNumber\" style = \"font-weight: bold; text-align: right;\">5</td><td style = \"text-align: left;\">0.228501</td><td style = \"text-align: left;\">0.0816556</td><td style = \"text-align: left;\">true</td></tr><tr><td class = \"rowNumber\" style = \"font-weight: bold; text-align: right;\">6</td><td style = \"text-align: left;\">0.312136</td><td style = \"text-align: left;\">0.0800674</td><td style = \"text-align: left;\">true</td></tr><tr><td class = \"rowNumber\" style = \"font-weight: bold; text-align: right;\">7</td><td style = \"text-align: left;\">0.431667</td><td style = \"text-align: left;\">0.0803558</td><td style = \"text-align: left;\">true</td></tr><tr><td class = \"rowNumber\" style = \"font-weight: bold; text-align: right;\">8</td><td style = \"text-align: left;\">0.2183</td><td style = \"text-align: left;\">0.0808327</td><td style = \"text-align: left;\">true</td></tr><tr><td class = \"rowNumber\" style = \"font-weight: bold; text-align: right;\">9</td><td style = \"text-align: left;\">0.221465</td><td style = \"text-align: left;\">0.0802348</td><td style = \"text-align: left;\">true</td></tr><tr><td class = \"rowNumber\" style = \"font-weight: bold; text-align: right;\">10</td><td style = \"text-align: left;\">0.226255</td><td style = \"text-align: left;\">0.0805931</td><td style = \"text-align: left;\">true</td></tr></tbody></table></div>"
      ],
      "text/latex": [
       "\\begin{tabular}{r|ccc}\n",
       "\t& CPU & GPU & Better\\_GPU\\\\\n",
       "\t\\hline\n",
       "\t& Any & Any & Any\\\\\n",
       "\t\\hline\n",
       "\t1 & 0.28097 & 0.0806427 & 1 \\\\\n",
       "\t2 & 0.44095 & 0.0800832 & 1 \\\\\n",
       "\t3 & 0.235266 & 0.0795047 & 1 \\\\\n",
       "\t4 & 0.230861 & 0.080595 & 1 \\\\\n",
       "\t5 & 0.228501 & 0.0816556 & 1 \\\\\n",
       "\t6 & 0.312136 & 0.0800674 & 1 \\\\\n",
       "\t7 & 0.431667 & 0.0803558 & 1 \\\\\n",
       "\t8 & 0.2183 & 0.0808327 & 1 \\\\\n",
       "\t9 & 0.221465 & 0.0802348 & 1 \\\\\n",
       "\t10 & 0.226255 & 0.0805931 & 1 \\\\\n",
       "\\end{tabular}\n"
      ],
      "text/plain": [
       "\u001b[1m10×3 DataFrame\u001b[0m\n",
       "\u001b[1m Row \u001b[0m│\u001b[1m CPU      \u001b[0m\u001b[1m GPU       \u001b[0m\u001b[1m Better_GPU \u001b[0m\n",
       "     │\u001b[90m Any      \u001b[0m\u001b[90m Any       \u001b[0m\u001b[90m Any        \u001b[0m\n",
       "─────┼─────────────────────────────────\n",
       "   1 │ 0.28097   0.0806427  true\n",
       "   2 │ 0.44095   0.0800832  true\n",
       "   3 │ 0.235266  0.0795047  true\n",
       "   4 │ 0.230861  0.080595   true\n",
       "   5 │ 0.228501  0.0816556  true\n",
       "   6 │ 0.312136  0.0800674  true\n",
       "   7 │ 0.431667  0.0803558  true\n",
       "   8 │ 0.2183    0.0808327  true\n",
       "   9 │ 0.221465  0.0802348  true\n",
       "  10 │ 0.226255  0.0805931  true"
      ]
     },
     "metadata": {},
     "output_type": "display_data"
    }
   ],
   "source": [
    "df = simulate(15000, 10)\n",
    "CSV.write(\"./9.csv\", df)\n",
    "df"
   ]
  },
  {
   "cell_type": "code",
   "execution_count": null,
   "metadata": {},
   "outputs": [],
   "source": []
  }
 ],
 "metadata": {
  "kernelspec": {
   "display_name": "Julia 1.10.2",
   "language": "julia",
   "name": "julia-1.10"
  },
  "language_info": {
   "file_extension": ".jl",
   "mimetype": "application/julia",
   "name": "julia",
   "version": "1.10.2"
  }
 },
 "nbformat": 4,
 "nbformat_minor": 2
}
