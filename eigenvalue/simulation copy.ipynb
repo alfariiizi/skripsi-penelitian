{
 "cells": [
  {
   "cell_type": "code",
   "execution_count": 1,
   "metadata": {},
   "outputs": [],
   "source": [
    "using CUDA\n",
    "using TypedTables\n",
    "using DataFrames\n",
    "using Statistics\n",
    "using CSV"
   ]
  },
  {
   "cell_type": "code",
   "execution_count": 21,
   "metadata": {},
   "outputs": [
    {
     "data": {
      "text/plain": [
       "simulate_gpu (generic function with 1 method)"
      ]
     },
     "metadata": {},
     "output_type": "display_data"
    }
   ],
   "source": [
    "# CUDA\n",
    "\n",
    "# function operation_matrices_cuda(A)\n",
    "#     # C = CUDA.zeros(Float64, size(A))\n",
    "#     # CUDA.@sync C = inv(A)\n",
    "#     # return C\n",
    "#     gpu_matrix = CUDA.cu(A)  # Transfer matrix to GPU\n",
    "#     inverted_gpu_matrix = inv(gpu_matrix)  # Invert matrix on GPU\n",
    "#     return CUDA.collect(inverted_gpu_matrix)  # Transfer back to CPU\n",
    "# end\n",
    "\n",
    "# function simulate_gpu(A_normal)\n",
    "#     # Convert your Float64 matrices to Float32 and then to CuArray{Float32}\n",
    "#     A = CUDA.convert(CuArray{Float32}, A_normal)\n",
    "#     # Mengukur waktu eksekusi\n",
    "#     cuda_start = CUDA.@elapsed result_gpu = operation_matrices_cuda(A)\n",
    "#     return cuda_start\n",
    "# end\n",
    "\n",
    "# ---\n",
    "\n",
    "# function operation_matrices_cuda(A)\n",
    "#     gpu_matrix = CUDA.cu(A)  # Transfer matrix to GPU\n",
    "#     inverted_gpu_matrix = inv(gpu_matrix)  # Invert matrix on GPU\n",
    "#     return CUDA.collect(inverted_gpu_matrix)  # Transfer back to CPU\n",
    "# end\n",
    "\n",
    "# function simulate_gpu(A_normal)\n",
    "#     # Convert your matrices to CuArray\n",
    "#     A = CUDA.cu(A_normal)\n",
    "#     # Measure execution time\n",
    "#     cuda_start = CUDA.@elapsed result_gpu = operation_matrices_cuda(A)\n",
    "#     return cuda_start\n",
    "# end\n",
    "\n",
    "function operation_matrices_cuda(gpu_matrix)\n",
    "    # Sudah menerima CuArray, tidak perlu konversi lagi\n",
    "    inverted_gpu_matrix = inv(gpu_matrix)  # Invert matrix on GPU\n",
    "    return inverted_gpu_matrix  # Keep the inverted matrix on GPU if possible\n",
    "end\n",
    "\n",
    "function simulate_gpu(A_normal)\n",
    "    # Mengkonversi dan menjaga matriks di GPU\n",
    "    A = CUDA.cu(A_normal)  # Convert to CuArray, Float32 if possible\n",
    "    \n",
    "    # Optimalisasi: Pertimbangkan konversi A_normal ke Float32 sebelum konversi ke CuArray jika presisi tinggi tidak diperlukan\n",
    "    # A = CUDA.cu(Float32.(A_normal))\n",
    "    \n",
    "    # Measure execution time\n",
    "    result_gpu, cuda_start = CUDA.@timed operation_matrices_cuda(A)\n",
    "    \n",
    "    # Opsi: Jika Anda perlu matriks hasil di CPU, transfer di sini\n",
    "    # result_cpu = CUDA.collect(result_gpu)\n",
    "    \n",
    "    return cuda_start \n",
    "end"
   ]
  },
  {
   "cell_type": "code",
   "execution_count": 3,
   "metadata": {},
   "outputs": [
    {
     "data": {
      "text/plain": [
       "simulate_cpu (generic function with 1 method)"
      ]
     },
     "metadata": {},
     "output_type": "display_data"
    }
   ],
   "source": [
    "# CPU\n",
    "\n",
    "function operation_matrices_normal(A)\n",
    "    C = zeros(Float32, size(A))\n",
    "    C = inv(A)\n",
    "    return C\n",
    "end\n",
    "\n",
    "function simulate_cpu(A_normal)\n",
    "    normal_start = @elapsed result_cpu = operation_matrices_normal(A_normal)\n",
    "    # println(\"Waktu eksekusi dengan CPU: $normal_start detik\")\n",
    "    return normal_start\n",
    "end"
   ]
  },
  {
   "cell_type": "code",
   "execution_count": 4,
   "metadata": {},
   "outputs": [
    {
     "data": {
      "text/plain": [
       "simulate (generic function with 1 method)"
      ]
     },
     "metadata": {},
     "output_type": "display_data"
    }
   ],
   "source": [
    "function simulate(N::Int64, n_loop::Int64)\n",
    "    # println(\"Total size: $(N*N)\")\n",
    "    results_gpu = []\n",
    "    results_cpu = []\n",
    "    is_better_gpu = []\n",
    "    for i in 1:n_loop\n",
    "        A_normal = rand(Float32, N, N)\n",
    "        # B_normal = rand(Float32, N, N)\n",
    "        benchmark_gpu = simulate_gpu(A_normal)\n",
    "        benchmark_cpu = simulate_cpu(A_normal)\n",
    "        push!(results_gpu, benchmark_gpu)\n",
    "        push!(results_cpu, benchmark_cpu)\n",
    "        push!(is_better_gpu, benchmark_gpu < benchmark_cpu)\n",
    "    end\n",
    "    println(\"Mean CPU: $(mean(results_cpu))\")\n",
    "    println(\"Mean GPU: $(mean(results_gpu))\")\n",
    "    return DataFrame(CPU=results_cpu, GPU=results_gpu, Better_GPU=is_better_gpu)\n",
    "end"
   ]
  },
  {
   "cell_type": "code",
   "execution_count": 24,
   "metadata": {},
   "outputs": [
    {
     "name": "stdout",
     "output_type": "stream",
     "text": [
      "Mean CPU: 8.2195e-6\n",
      "Mean GPU: 0.00012493090000000002\n"
     ]
    },
    {
     "data": {
      "text/html": [
       "<div><div style = \"float: left;\"><span>10×3 DataFrame</span></div><div style = \"clear: both;\"></div></div><div class = \"data-frame\" style = \"overflow-x: scroll;\"><table class = \"data-frame\" style = \"margin-bottom: 6px;\"><thead><tr class = \"header\"><th class = \"rowNumber\" style = \"font-weight: bold; text-align: right;\">Row</th><th style = \"text-align: left;\">CPU</th><th style = \"text-align: left;\">GPU</th><th style = \"text-align: left;\">Better_GPU</th></tr><tr class = \"subheader headerLastRow\"><th class = \"rowNumber\" style = \"font-weight: bold; text-align: right;\"></th><th title = \"Any\" style = \"text-align: left;\">Any</th><th title = \"Any\" style = \"text-align: left;\">Any</th><th title = \"Any\" style = \"text-align: left;\">Any</th></tr></thead><tbody><tr><td class = \"rowNumber\" style = \"font-weight: bold; text-align: right;\">1</td><td style = \"text-align: left;\">1.7404e-5</td><td style = \"text-align: left;\">0.000178785</td><td style = \"text-align: left;\">false</td></tr><tr><td class = \"rowNumber\" style = \"font-weight: bold; text-align: right;\">2</td><td style = \"text-align: left;\">8.485e-6</td><td style = \"text-align: left;\">0.000114816</td><td style = \"text-align: left;\">false</td></tr><tr><td class = \"rowNumber\" style = \"font-weight: bold; text-align: right;\">3</td><td style = \"text-align: left;\">7.135e-6</td><td style = \"text-align: left;\">0.000113152</td><td style = \"text-align: left;\">false</td></tr><tr><td class = \"rowNumber\" style = \"font-weight: bold; text-align: right;\">4</td><td style = \"text-align: left;\">6.877e-6</td><td style = \"text-align: left;\">0.00011146</td><td style = \"text-align: left;\">false</td></tr><tr><td class = \"rowNumber\" style = \"font-weight: bold; text-align: right;\">5</td><td style = \"text-align: left;\">6.48e-6</td><td style = \"text-align: left;\">0.000114034</td><td style = \"text-align: left;\">false</td></tr><tr><td class = \"rowNumber\" style = \"font-weight: bold; text-align: right;\">6</td><td style = \"text-align: left;\">5.88e-6</td><td style = \"text-align: left;\">0.000114583</td><td style = \"text-align: left;\">false</td></tr><tr><td class = \"rowNumber\" style = \"font-weight: bold; text-align: right;\">7</td><td style = \"text-align: left;\">6.34e-6</td><td style = \"text-align: left;\">0.000112649</td><td style = \"text-align: left;\">false</td></tr><tr><td class = \"rowNumber\" style = \"font-weight: bold; text-align: right;\">8</td><td style = \"text-align: left;\">6.331e-6</td><td style = \"text-align: left;\">0.000113051</td><td style = \"text-align: left;\">false</td></tr><tr><td class = \"rowNumber\" style = \"font-weight: bold; text-align: right;\">9</td><td style = \"text-align: left;\">7.105e-6</td><td style = \"text-align: left;\">0.000134021</td><td style = \"text-align: left;\">false</td></tr><tr><td class = \"rowNumber\" style = \"font-weight: bold; text-align: right;\">10</td><td style = \"text-align: left;\">1.0158e-5</td><td style = \"text-align: left;\">0.000142758</td><td style = \"text-align: left;\">false</td></tr></tbody></table></div>"
      ],
      "text/latex": [
       "\\begin{tabular}{r|ccc}\n",
       "\t& CPU & GPU & Better\\_GPU\\\\\n",
       "\t\\hline\n",
       "\t& Any & Any & Any\\\\\n",
       "\t\\hline\n",
       "\t1 & 1.7404e-5 & 0.000178785 & 0 \\\\\n",
       "\t2 & 8.485e-6 & 0.000114816 & 0 \\\\\n",
       "\t3 & 7.135e-6 & 0.000113152 & 0 \\\\\n",
       "\t4 & 6.877e-6 & 0.00011146 & 0 \\\\\n",
       "\t5 & 6.48e-6 & 0.000114034 & 0 \\\\\n",
       "\t6 & 5.88e-6 & 0.000114583 & 0 \\\\\n",
       "\t7 & 6.34e-6 & 0.000112649 & 0 \\\\\n",
       "\t8 & 6.331e-6 & 0.000113051 & 0 \\\\\n",
       "\t9 & 7.105e-6 & 0.000134021 & 0 \\\\\n",
       "\t10 & 1.0158e-5 & 0.000142758 & 0 \\\\\n",
       "\\end{tabular}\n"
      ],
      "text/plain": [
       "\u001b[1m10×3 DataFrame\u001b[0m\n",
       "\u001b[1m Row \u001b[0m│\u001b[1m CPU       \u001b[0m\u001b[1m GPU         \u001b[0m\u001b[1m Better_GPU \u001b[0m\n",
       "     │\u001b[90m Any       \u001b[0m\u001b[90m Any         \u001b[0m\u001b[90m Any        \u001b[0m\n",
       "─────┼────────────────────────────────────\n",
       "   1 │ 1.7404e-5  0.000178785  false\n",
       "   2 │ 8.485e-6   0.000114816  false\n",
       "   3 │ 7.135e-6   0.000113152  false\n",
       "   4 │ 6.877e-6   0.00011146   false\n",
       "   5 │ 6.48e-6    0.000114034  false\n",
       "   6 │ 5.88e-6    0.000114583  false\n",
       "   7 │ 6.34e-6    0.000112649  false\n",
       "   8 │ 6.331e-6   0.000113051  false\n",
       "   9 │ 7.105e-6   0.000134021  false\n",
       "  10 │ 1.0158e-5  0.000142758  false"
      ]
     },
     "metadata": {},
     "output_type": "display_data"
    }
   ],
   "source": [
    "df = simulate(10, 10)"
   ]
  },
  {
   "cell_type": "code",
   "execution_count": 16,
   "metadata": {},
   "outputs": [
    {
     "name": "stdout",
     "output_type": "stream",
     "text": [
      "Mean CPU: 1.4290099999999999e-5\n",
      "Mean GPU: 0.00019739517\n"
     ]
    },
    {
     "data": {
      "text/html": [
       "<div><div style = \"float: left;\"><span>10×3 DataFrame</span></div><div style = \"clear: both;\"></div></div><div class = \"data-frame\" style = \"overflow-x: scroll;\"><table class = \"data-frame\" style = \"margin-bottom: 6px;\"><thead><tr class = \"header\"><th class = \"rowNumber\" style = \"font-weight: bold; text-align: right;\">Row</th><th style = \"text-align: left;\">CPU</th><th style = \"text-align: left;\">GPU</th><th style = \"text-align: left;\">Better_GPU</th></tr><tr class = \"subheader headerLastRow\"><th class = \"rowNumber\" style = \"font-weight: bold; text-align: right;\"></th><th title = \"Any\" style = \"text-align: left;\">Any</th><th title = \"Any\" style = \"text-align: left;\">Any</th><th title = \"Any\" style = \"text-align: left;\">Any</th></tr></thead><tbody><tr><td class = \"rowNumber\" style = \"font-weight: bold; text-align: right;\">1</td><td style = \"text-align: left;\">2.9804e-5</td><td style = \"text-align: left;\">0.00034928</td><td style = \"text-align: left;\">false</td></tr><tr><td class = \"rowNumber\" style = \"font-weight: bold; text-align: right;\">2</td><td style = \"text-align: left;\">1.5107e-5</td><td style = \"text-align: left;\">0.000198944</td><td style = \"text-align: left;\">false</td></tr><tr><td class = \"rowNumber\" style = \"font-weight: bold; text-align: right;\">3</td><td style = \"text-align: left;\">1.1465e-5</td><td style = \"text-align: left;\">0.000187936</td><td style = \"text-align: left;\">false</td></tr><tr><td class = \"rowNumber\" style = \"font-weight: bold; text-align: right;\">4</td><td style = \"text-align: left;\">1.1371e-5</td><td style = \"text-align: left;\">0.000182656</td><td style = \"text-align: left;\">false</td></tr><tr><td class = \"rowNumber\" style = \"font-weight: bold; text-align: right;\">5</td><td style = \"text-align: left;\">1.1165e-5</td><td style = \"text-align: left;\">0.000176352</td><td style = \"text-align: left;\">false</td></tr><tr><td class = \"rowNumber\" style = \"font-weight: bold; text-align: right;\">6</td><td style = \"text-align: left;\">9.739e-6</td><td style = \"text-align: left;\">0.000175744</td><td style = \"text-align: left;\">false</td></tr><tr><td class = \"rowNumber\" style = \"font-weight: bold; text-align: right;\">7</td><td style = \"text-align: left;\">2.157e-5</td><td style = \"text-align: left;\">0.000167904</td><td style = \"text-align: left;\">false</td></tr><tr><td class = \"rowNumber\" style = \"font-weight: bold; text-align: right;\">8</td><td style = \"text-align: left;\">1.0629e-5</td><td style = \"text-align: left;\">0.000173696</td><td style = \"text-align: left;\">false</td></tr><tr><td class = \"rowNumber\" style = \"font-weight: bold; text-align: right;\">9</td><td style = \"text-align: left;\">1.1077e-5</td><td style = \"text-align: left;\">0.000178144</td><td style = \"text-align: left;\">false</td></tr><tr><td class = \"rowNumber\" style = \"font-weight: bold; text-align: right;\">10</td><td style = \"text-align: left;\">1.0974e-5</td><td style = \"text-align: left;\">0.000183296</td><td style = \"text-align: left;\">false</td></tr></tbody></table></div>"
      ],
      "text/latex": [
       "\\begin{tabular}{r|ccc}\n",
       "\t& CPU & GPU & Better\\_GPU\\\\\n",
       "\t\\hline\n",
       "\t& Any & Any & Any\\\\\n",
       "\t\\hline\n",
       "\t1 & 2.9804e-5 & 0.00034928 & 0 \\\\\n",
       "\t2 & 1.5107e-5 & 0.000198944 & 0 \\\\\n",
       "\t3 & 1.1465e-5 & 0.000187936 & 0 \\\\\n",
       "\t4 & 1.1371e-5 & 0.000182656 & 0 \\\\\n",
       "\t5 & 1.1165e-5 & 0.000176352 & 0 \\\\\n",
       "\t6 & 9.739e-6 & 0.000175744 & 0 \\\\\n",
       "\t7 & 2.157e-5 & 0.000167904 & 0 \\\\\n",
       "\t8 & 1.0629e-5 & 0.000173696 & 0 \\\\\n",
       "\t9 & 1.1077e-5 & 0.000178144 & 0 \\\\\n",
       "\t10 & 1.0974e-5 & 0.000183296 & 0 \\\\\n",
       "\\end{tabular}\n"
      ],
      "text/plain": [
       "\u001b[1m10×3 DataFrame\u001b[0m\n",
       "\u001b[1m Row \u001b[0m│\u001b[1m CPU       \u001b[0m\u001b[1m GPU         \u001b[0m\u001b[1m Better_GPU \u001b[0m\n",
       "     │\u001b[90m Any       \u001b[0m\u001b[90m Any         \u001b[0m\u001b[90m Any        \u001b[0m\n",
       "─────┼────────────────────────────────────\n",
       "   1 │ 2.9804e-5  0.00034928   false\n",
       "   2 │ 1.5107e-5  0.000198944  false\n",
       "   3 │ 1.1465e-5  0.000187936  false\n",
       "   4 │ 1.1371e-5  0.000182656  false\n",
       "   5 │ 1.1165e-5  0.000176352  false\n",
       "   6 │ 9.739e-6   0.000175744  false\n",
       "   7 │ 2.157e-5   0.000167904  false\n",
       "   8 │ 1.0629e-5  0.000173696  false\n",
       "   9 │ 1.1077e-5  0.000178144  false\n",
       "  10 │ 1.0974e-5  0.000183296  false"
      ]
     },
     "metadata": {},
     "output_type": "display_data"
    }
   ],
   "source": [
    "df = simulate(10, 10)\n",
    "CSV.write(\"./1.csv\", df)\n",
    "df"
   ]
  },
  {
   "cell_type": "code",
   "execution_count": 38,
   "metadata": {},
   "outputs": [
    {
     "name": "stdout",
     "output_type": "stream",
     "text": [
      "Mean CPU: 0.0001356064\n",
      "Mean GPU: 0.00039810556\n"
     ]
    },
    {
     "data": {
      "text/html": [
       "<div><div style = \"float: left;\"><span>10×3 DataFrame</span></div><div style = \"clear: both;\"></div></div><div class = \"data-frame\" style = \"overflow-x: scroll;\"><table class = \"data-frame\" style = \"margin-bottom: 6px;\"><thead><tr class = \"header\"><th class = \"rowNumber\" style = \"font-weight: bold; text-align: right;\">Row</th><th style = \"text-align: left;\">CPU</th><th style = \"text-align: left;\">GPU</th><th style = \"text-align: left;\">Better_GPU</th></tr><tr class = \"subheader headerLastRow\"><th class = \"rowNumber\" style = \"font-weight: bold; text-align: right;\"></th><th title = \"Any\" style = \"text-align: left;\">Any</th><th title = \"Any\" style = \"text-align: left;\">Any</th><th title = \"Any\" style = \"text-align: left;\">Any</th></tr></thead><tbody><tr><td class = \"rowNumber\" style = \"font-weight: bold; text-align: right;\">1</td><td style = \"text-align: left;\">0.000153234</td><td style = \"text-align: left;\">0.000454112</td><td style = \"text-align: left;\">false</td></tr><tr><td class = \"rowNumber\" style = \"font-weight: bold; text-align: right;\">2</td><td style = \"text-align: left;\">0.000138019</td><td style = \"text-align: left;\">0.000448256</td><td style = \"text-align: left;\">false</td></tr><tr><td class = \"rowNumber\" style = \"font-weight: bold; text-align: right;\">3</td><td style = \"text-align: left;\">0.000138955</td><td style = \"text-align: left;\">0.000399904</td><td style = \"text-align: left;\">false</td></tr><tr><td class = \"rowNumber\" style = \"font-weight: bold; text-align: right;\">4</td><td style = \"text-align: left;\">0.000141373</td><td style = \"text-align: left;\">0.000456384</td><td style = \"text-align: left;\">false</td></tr><tr><td class = \"rowNumber\" style = \"font-weight: bold; text-align: right;\">5</td><td style = \"text-align: left;\">0.000132432</td><td style = \"text-align: left;\">0.000358336</td><td style = \"text-align: left;\">false</td></tr><tr><td class = \"rowNumber\" style = \"font-weight: bold; text-align: right;\">6</td><td style = \"text-align: left;\">0.000139432</td><td style = \"text-align: left;\">0.00038064</td><td style = \"text-align: left;\">false</td></tr><tr><td class = \"rowNumber\" style = \"font-weight: bold; text-align: right;\">7</td><td style = \"text-align: left;\">0.000121847</td><td style = \"text-align: left;\">0.000387456</td><td style = \"text-align: left;\">false</td></tr><tr><td class = \"rowNumber\" style = \"font-weight: bold; text-align: right;\">8</td><td style = \"text-align: left;\">0.000128773</td><td style = \"text-align: left;\">0.000372832</td><td style = \"text-align: left;\">false</td></tr><tr><td class = \"rowNumber\" style = \"font-weight: bold; text-align: right;\">9</td><td style = \"text-align: left;\">0.000127195</td><td style = \"text-align: left;\">0.00036832</td><td style = \"text-align: left;\">false</td></tr><tr><td class = \"rowNumber\" style = \"font-weight: bold; text-align: right;\">10</td><td style = \"text-align: left;\">0.000134804</td><td style = \"text-align: left;\">0.000354816</td><td style = \"text-align: left;\">false</td></tr></tbody></table></div>"
      ],
      "text/latex": [
       "\\begin{tabular}{r|ccc}\n",
       "\t& CPU & GPU & Better\\_GPU\\\\\n",
       "\t\\hline\n",
       "\t& Any & Any & Any\\\\\n",
       "\t\\hline\n",
       "\t1 & 0.000153234 & 0.000454112 & 0 \\\\\n",
       "\t2 & 0.000138019 & 0.000448256 & 0 \\\\\n",
       "\t3 & 0.000138955 & 0.000399904 & 0 \\\\\n",
       "\t4 & 0.000141373 & 0.000456384 & 0 \\\\\n",
       "\t5 & 0.000132432 & 0.000358336 & 0 \\\\\n",
       "\t6 & 0.000139432 & 0.00038064 & 0 \\\\\n",
       "\t7 & 0.000121847 & 0.000387456 & 0 \\\\\n",
       "\t8 & 0.000128773 & 0.000372832 & 0 \\\\\n",
       "\t9 & 0.000127195 & 0.00036832 & 0 \\\\\n",
       "\t10 & 0.000134804 & 0.000354816 & 0 \\\\\n",
       "\\end{tabular}\n"
      ],
      "text/plain": [
       "\u001b[1m10×3 DataFrame\u001b[0m\n",
       "\u001b[1m Row \u001b[0m│\u001b[1m CPU         \u001b[0m\u001b[1m GPU         \u001b[0m\u001b[1m Better_GPU \u001b[0m\n",
       "     │\u001b[90m Any         \u001b[0m\u001b[90m Any         \u001b[0m\u001b[90m Any        \u001b[0m\n",
       "─────┼──────────────────────────────────────\n",
       "   1 │ 0.000153234  0.000454112  false\n",
       "   2 │ 0.000138019  0.000448256  false\n",
       "   3 │ 0.000138955  0.000399904  false\n",
       "   4 │ 0.000141373  0.000456384  false\n",
       "   5 │ 0.000132432  0.000358336  false\n",
       "   6 │ 0.000139432  0.00038064   false\n",
       "   7 │ 0.000121847  0.000387456  false\n",
       "   8 │ 0.000128773  0.000372832  false\n",
       "   9 │ 0.000127195  0.00036832   false\n",
       "  10 │ 0.000134804  0.000354816  false"
      ]
     },
     "metadata": {},
     "output_type": "display_data"
    }
   ],
   "source": [
    "df = simulate(50, 10)\n",
    "CSV.write(\"./2.csv\", df)\n",
    "df"
   ]
  },
  {
   "cell_type": "code",
   "execution_count": 85,
   "metadata": {},
   "outputs": [
    {
     "name": "stdout",
     "output_type": "stream",
     "text": [
      "Total size: 10000\n",
      "Mean CPU: 0.0023815273\n",
      "Mean GPU: 0.0005711424\n"
     ]
    },
    {
     "data": {
      "text/html": [
       "<div><div style = \"float: left;\"><span>10×3 DataFrame</span></div><div style = \"clear: both;\"></div></div><div class = \"data-frame\" style = \"overflow-x: scroll;\"><table class = \"data-frame\" style = \"margin-bottom: 6px;\"><thead><tr class = \"header\"><th class = \"rowNumber\" style = \"font-weight: bold; text-align: right;\">Row</th><th style = \"text-align: left;\">CPU</th><th style = \"text-align: left;\">GPU</th><th style = \"text-align: left;\">Better_GPU</th></tr><tr class = \"subheader headerLastRow\"><th class = \"rowNumber\" style = \"font-weight: bold; text-align: right;\"></th><th title = \"Any\" style = \"text-align: left;\">Any</th><th title = \"Any\" style = \"text-align: left;\">Any</th><th title = \"Any\" style = \"text-align: left;\">Any</th></tr></thead><tbody><tr><td class = \"rowNumber\" style = \"font-weight: bold; text-align: right;\">1</td><td style = \"text-align: left;\">0.000240995</td><td style = \"text-align: left;\">0.000602752</td><td style = \"text-align: left;\">false</td></tr><tr><td class = \"rowNumber\" style = \"font-weight: bold; text-align: right;\">2</td><td style = \"text-align: left;\">0.000200691</td><td style = \"text-align: left;\">0.000589504</td><td style = \"text-align: left;\">false</td></tr><tr><td class = \"rowNumber\" style = \"font-weight: bold; text-align: right;\">3</td><td style = \"text-align: left;\">0.011989</td><td style = \"text-align: left;\">0.000547456</td><td style = \"text-align: left;\">true</td></tr><tr><td class = \"rowNumber\" style = \"font-weight: bold; text-align: right;\">4</td><td style = \"text-align: left;\">0.00201261</td><td style = \"text-align: left;\">0.000596192</td><td style = \"text-align: left;\">true</td></tr><tr><td class = \"rowNumber\" style = \"font-weight: bold; text-align: right;\">5</td><td style = \"text-align: left;\">0.00024286</td><td style = \"text-align: left;\">0.00054912</td><td style = \"text-align: left;\">false</td></tr><tr><td class = \"rowNumber\" style = \"font-weight: bold; text-align: right;\">6</td><td style = \"text-align: left;\">0.000233224</td><td style = \"text-align: left;\">0.000545536</td><td style = \"text-align: left;\">false</td></tr><tr><td class = \"rowNumber\" style = \"font-weight: bold; text-align: right;\">7</td><td style = \"text-align: left;\">0.00021233</td><td style = \"text-align: left;\">0.000524576</td><td style = \"text-align: left;\">false</td></tr><tr><td class = \"rowNumber\" style = \"font-weight: bold; text-align: right;\">8</td><td style = \"text-align: left;\">0.00820464</td><td style = \"text-align: left;\">0.00052816</td><td style = \"text-align: left;\">true</td></tr><tr><td class = \"rowNumber\" style = \"font-weight: bold; text-align: right;\">9</td><td style = \"text-align: left;\">0.000261372</td><td style = \"text-align: left;\">0.00067952</td><td style = \"text-align: left;\">false</td></tr><tr><td class = \"rowNumber\" style = \"font-weight: bold; text-align: right;\">10</td><td style = \"text-align: left;\">0.000217568</td><td style = \"text-align: left;\">0.000548608</td><td style = \"text-align: left;\">false</td></tr></tbody></table></div>"
      ],
      "text/latex": [
       "\\begin{tabular}{r|ccc}\n",
       "\t& CPU & GPU & Better\\_GPU\\\\\n",
       "\t\\hline\n",
       "\t& Any & Any & Any\\\\\n",
       "\t\\hline\n",
       "\t1 & 0.000240995 & 0.000602752 & 0 \\\\\n",
       "\t2 & 0.000200691 & 0.000589504 & 0 \\\\\n",
       "\t3 & 0.011989 & 0.000547456 & 1 \\\\\n",
       "\t4 & 0.00201261 & 0.000596192 & 1 \\\\\n",
       "\t5 & 0.00024286 & 0.00054912 & 0 \\\\\n",
       "\t6 & 0.000233224 & 0.000545536 & 0 \\\\\n",
       "\t7 & 0.00021233 & 0.000524576 & 0 \\\\\n",
       "\t8 & 0.00820464 & 0.00052816 & 1 \\\\\n",
       "\t9 & 0.000261372 & 0.00067952 & 0 \\\\\n",
       "\t10 & 0.000217568 & 0.000548608 & 0 \\\\\n",
       "\\end{tabular}\n"
      ],
      "text/plain": [
       "\u001b[1m10×3 DataFrame\u001b[0m\n",
       "\u001b[1m Row \u001b[0m│\u001b[1m CPU         \u001b[0m\u001b[1m GPU         \u001b[0m\u001b[1m Better_GPU \u001b[0m\n",
       "     │\u001b[90m Any         \u001b[0m\u001b[90m Any         \u001b[0m\u001b[90m Any        \u001b[0m\n",
       "─────┼──────────────────────────────────────\n",
       "   1 │ 0.000240995  0.000602752  false\n",
       "   2 │ 0.000200691  0.000589504  false\n",
       "   3 │ 0.011989     0.000547456  true\n",
       "   4 │ 0.00201261   0.000596192  true\n",
       "   5 │ 0.00024286   0.00054912   false\n",
       "   6 │ 0.000233224  0.000545536  false\n",
       "   7 │ 0.00021233   0.000524576  false\n",
       "   8 │ 0.00820464   0.00052816   true\n",
       "   9 │ 0.000261372  0.00067952   false\n",
       "  10 │ 0.000217568  0.000548608  false"
      ]
     },
     "metadata": {},
     "output_type": "display_data"
    }
   ],
   "source": [
    "df = simulate(100, 10)\n",
    "CSV.write(\"./3.csv\", df)\n",
    "df"
   ]
  },
  {
   "cell_type": "code",
   "execution_count": 30,
   "metadata": {},
   "outputs": [
    {
     "name": "stdout",
     "output_type": "stream",
     "text": [
      "Mean CPU: 0.007007174099999999\n",
      "Mean GPU: 0.0131891974\n"
     ]
    },
    {
     "data": {
      "text/html": [
       "<div><div style = \"float: left;\"><span>10×3 DataFrame</span></div><div style = \"clear: both;\"></div></div><div class = \"data-frame\" style = \"overflow-x: scroll;\"><table class = \"data-frame\" style = \"margin-bottom: 6px;\"><thead><tr class = \"header\"><th class = \"rowNumber\" style = \"font-weight: bold; text-align: right;\">Row</th><th style = \"text-align: left;\">CPU</th><th style = \"text-align: left;\">GPU</th><th style = \"text-align: left;\">Better_GPU</th></tr><tr class = \"subheader headerLastRow\"><th class = \"rowNumber\" style = \"font-weight: bold; text-align: right;\"></th><th title = \"Any\" style = \"text-align: left;\">Any</th><th title = \"Any\" style = \"text-align: left;\">Any</th><th title = \"Any\" style = \"text-align: left;\">Any</th></tr></thead><tbody><tr><td class = \"rowNumber\" style = \"font-weight: bold; text-align: right;\">1</td><td style = \"text-align: left;\">0.00655469</td><td style = \"text-align: left;\">0.0132898</td><td style = \"text-align: left;\">false</td></tr><tr><td class = \"rowNumber\" style = \"font-weight: bold; text-align: right;\">2</td><td style = \"text-align: left;\">0.00533701</td><td style = \"text-align: left;\">0.0130558</td><td style = \"text-align: left;\">false</td></tr><tr><td class = \"rowNumber\" style = \"font-weight: bold; text-align: right;\">3</td><td style = \"text-align: left;\">0.00904639</td><td style = \"text-align: left;\">0.0130758</td><td style = \"text-align: left;\">false</td></tr><tr><td class = \"rowNumber\" style = \"font-weight: bold; text-align: right;\">4</td><td style = \"text-align: left;\">0.00687869</td><td style = \"text-align: left;\">0.0133207</td><td style = \"text-align: left;\">false</td></tr><tr><td class = \"rowNumber\" style = \"font-weight: bold; text-align: right;\">5</td><td style = \"text-align: left;\">0.00640635</td><td style = \"text-align: left;\">0.0130118</td><td style = \"text-align: left;\">false</td></tr><tr><td class = \"rowNumber\" style = \"font-weight: bold; text-align: right;\">6</td><td style = \"text-align: left;\">0.0101512</td><td style = \"text-align: left;\">0.0130129</td><td style = \"text-align: left;\">false</td></tr><tr><td class = \"rowNumber\" style = \"font-weight: bold; text-align: right;\">7</td><td style = \"text-align: left;\">0.0062136</td><td style = \"text-align: left;\">0.0135257</td><td style = \"text-align: left;\">false</td></tr><tr><td class = \"rowNumber\" style = \"font-weight: bold; text-align: right;\">8</td><td style = \"text-align: left;\">0.00538275</td><td style = \"text-align: left;\">0.0131631</td><td style = \"text-align: left;\">false</td></tr><tr><td class = \"rowNumber\" style = \"font-weight: bold; text-align: right;\">9</td><td style = \"text-align: left;\">0.00538277</td><td style = \"text-align: left;\">0.013115</td><td style = \"text-align: left;\">false</td></tr><tr><td class = \"rowNumber\" style = \"font-weight: bold; text-align: right;\">10</td><td style = \"text-align: left;\">0.00871826</td><td style = \"text-align: left;\">0.0133216</td><td style = \"text-align: left;\">false</td></tr></tbody></table></div>"
      ],
      "text/latex": [
       "\\begin{tabular}{r|ccc}\n",
       "\t& CPU & GPU & Better\\_GPU\\\\\n",
       "\t\\hline\n",
       "\t& Any & Any & Any\\\\\n",
       "\t\\hline\n",
       "\t1 & 0.00655469 & 0.0132898 & 0 \\\\\n",
       "\t2 & 0.00533701 & 0.0130558 & 0 \\\\\n",
       "\t3 & 0.00904639 & 0.0130758 & 0 \\\\\n",
       "\t4 & 0.00687869 & 0.0133207 & 0 \\\\\n",
       "\t5 & 0.00640635 & 0.0130118 & 0 \\\\\n",
       "\t6 & 0.0101512 & 0.0130129 & 0 \\\\\n",
       "\t7 & 0.0062136 & 0.0135257 & 0 \\\\\n",
       "\t8 & 0.00538275 & 0.0131631 & 0 \\\\\n",
       "\t9 & 0.00538277 & 0.013115 & 0 \\\\\n",
       "\t10 & 0.00871826 & 0.0133216 & 0 \\\\\n",
       "\\end{tabular}\n"
      ],
      "text/plain": [
       "\u001b[1m10×3 DataFrame\u001b[0m\n",
       "\u001b[1m Row \u001b[0m│\u001b[1m CPU        \u001b[0m\u001b[1m GPU       \u001b[0m\u001b[1m Better_GPU \u001b[0m\n",
       "     │\u001b[90m Any        \u001b[0m\u001b[90m Any       \u001b[0m\u001b[90m Any        \u001b[0m\n",
       "─────┼───────────────────────────────────\n",
       "   1 │ 0.00655469  0.0132898  false\n",
       "   2 │ 0.00533701  0.0130558  false\n",
       "   3 │ 0.00904639  0.0130758  false\n",
       "   4 │ 0.00687869  0.0133207  false\n",
       "   5 │ 0.00640635  0.0130118  false\n",
       "   6 │ 0.0101512   0.0130129  false\n",
       "   7 │ 0.0062136   0.0135257  false\n",
       "   8 │ 0.00538275  0.0131631  false\n",
       "   9 │ 0.00538277  0.013115   false\n",
       "  10 │ 0.00871826  0.0133216  false"
      ]
     },
     "metadata": {},
     "output_type": "display_data"
    }
   ],
   "source": [
    "df = simulate(500, 10)\n",
    "CSV.write(\"./4.csv\", df)\n",
    "df"
   ]
  },
  {
   "cell_type": "code",
   "execution_count": 114,
   "metadata": {},
   "outputs": [
    {
     "name": "stdout",
     "output_type": "stream",
     "text": [
      "Mean CPU: 0.03808624000000001\n",
      "Mean GPU: 0.034511715\n"
     ]
    },
    {
     "data": {
      "text/html": [
       "<div><div style = \"float: left;\"><span>10×3 DataFrame</span></div><div style = \"clear: both;\"></div></div><div class = \"data-frame\" style = \"overflow-x: scroll;\"><table class = \"data-frame\" style = \"margin-bottom: 6px;\"><thead><tr class = \"header\"><th class = \"rowNumber\" style = \"font-weight: bold; text-align: right;\">Row</th><th style = \"text-align: left;\">CPU</th><th style = \"text-align: left;\">GPU</th><th style = \"text-align: left;\">Better_GPU</th></tr><tr class = \"subheader headerLastRow\"><th class = \"rowNumber\" style = \"font-weight: bold; text-align: right;\"></th><th title = \"Any\" style = \"text-align: left;\">Any</th><th title = \"Any\" style = \"text-align: left;\">Any</th><th title = \"Any\" style = \"text-align: left;\">Any</th></tr></thead><tbody><tr><td class = \"rowNumber\" style = \"font-weight: bold; text-align: right;\">1</td><td style = \"text-align: left;\">0.102373</td><td style = \"text-align: left;\">0.0338499</td><td style = \"text-align: left;\">true</td></tr><tr><td class = \"rowNumber\" style = \"font-weight: bold; text-align: right;\">2</td><td style = \"text-align: left;\">0.036042</td><td style = \"text-align: left;\">0.0431727</td><td style = \"text-align: left;\">false</td></tr><tr><td class = \"rowNumber\" style = \"font-weight: bold; text-align: right;\">3</td><td style = \"text-align: left;\">0.0331847</td><td style = \"text-align: left;\">0.0337169</td><td style = \"text-align: left;\">false</td></tr><tr><td class = \"rowNumber\" style = \"font-weight: bold; text-align: right;\">4</td><td style = \"text-align: left;\">0.0282845</td><td style = \"text-align: left;\">0.0339092</td><td style = \"text-align: left;\">false</td></tr><tr><td class = \"rowNumber\" style = \"font-weight: bold; text-align: right;\">5</td><td style = \"text-align: left;\">0.0266976</td><td style = \"text-align: left;\">0.0326739</td><td style = \"text-align: left;\">false</td></tr><tr><td class = \"rowNumber\" style = \"font-weight: bold; text-align: right;\">6</td><td style = \"text-align: left;\">0.0309375</td><td style = \"text-align: left;\">0.0339364</td><td style = \"text-align: left;\">false</td></tr><tr><td class = \"rowNumber\" style = \"font-weight: bold; text-align: right;\">7</td><td style = \"text-align: left;\">0.0281929</td><td style = \"text-align: left;\">0.0326613</td><td style = \"text-align: left;\">false</td></tr><tr><td class = \"rowNumber\" style = \"font-weight: bold; text-align: right;\">8</td><td style = \"text-align: left;\">0.0310332</td><td style = \"text-align: left;\">0.0336127</td><td style = \"text-align: left;\">false</td></tr><tr><td class = \"rowNumber\" style = \"font-weight: bold; text-align: right;\">9</td><td style = \"text-align: left;\">0.0331889</td><td style = \"text-align: left;\">0.0349366</td><td style = \"text-align: left;\">false</td></tr><tr><td class = \"rowNumber\" style = \"font-weight: bold; text-align: right;\">10</td><td style = \"text-align: left;\">0.0309277</td><td style = \"text-align: left;\">0.0326476</td><td style = \"text-align: left;\">false</td></tr></tbody></table></div>"
      ],
      "text/latex": [
       "\\begin{tabular}{r|ccc}\n",
       "\t& CPU & GPU & Better\\_GPU\\\\\n",
       "\t\\hline\n",
       "\t& Any & Any & Any\\\\\n",
       "\t\\hline\n",
       "\t1 & 0.102373 & 0.0338499 & 1 \\\\\n",
       "\t2 & 0.036042 & 0.0431727 & 0 \\\\\n",
       "\t3 & 0.0331847 & 0.0337169 & 0 \\\\\n",
       "\t4 & 0.0282845 & 0.0339092 & 0 \\\\\n",
       "\t5 & 0.0266976 & 0.0326739 & 0 \\\\\n",
       "\t6 & 0.0309375 & 0.0339364 & 0 \\\\\n",
       "\t7 & 0.0281929 & 0.0326613 & 0 \\\\\n",
       "\t8 & 0.0310332 & 0.0336127 & 0 \\\\\n",
       "\t9 & 0.0331889 & 0.0349366 & 0 \\\\\n",
       "\t10 & 0.0309277 & 0.0326476 & 0 \\\\\n",
       "\\end{tabular}\n"
      ],
      "text/plain": [
       "\u001b[1m10×3 DataFrame\u001b[0m\n",
       "\u001b[1m Row \u001b[0m│\u001b[1m CPU       \u001b[0m\u001b[1m GPU       \u001b[0m\u001b[1m Better_GPU \u001b[0m\n",
       "     │\u001b[90m Any       \u001b[0m\u001b[90m Any       \u001b[0m\u001b[90m Any        \u001b[0m\n",
       "─────┼──────────────────────────────────\n",
       "   1 │ 0.102373   0.0338499  true\n",
       "   2 │ 0.036042   0.0431727  false\n",
       "   3 │ 0.0331847  0.0337169  false\n",
       "   4 │ 0.0282845  0.0339092  false\n",
       "   5 │ 0.0266976  0.0326739  false\n",
       "   6 │ 0.0309375  0.0339364  false\n",
       "   7 │ 0.0281929  0.0326613  false\n",
       "   8 │ 0.0310332  0.0336127  false\n",
       "   9 │ 0.0331889  0.0349366  false\n",
       "  10 │ 0.0309277  0.0326476  false"
      ]
     },
     "metadata": {},
     "output_type": "display_data"
    }
   ],
   "source": [
    "df = simulate(1000, 10)\n",
    "CSV.write(\"./5.csv\", df)\n",
    "df"
   ]
  },
  {
   "cell_type": "code",
   "execution_count": null,
   "metadata": {},
   "outputs": [
    {
     "name": "stdout",
     "output_type": "stream",
     "text": [
      "Mean CPU: 2.8235273936\n",
      "Mean GPU: 1.0687475\n"
     ]
    },
    {
     "data": {
      "text/html": [
       "<div><div style = \"float: left;\"><span>10×3 DataFrame</span></div><div style = \"clear: both;\"></div></div><div class = \"data-frame\" style = \"overflow-x: scroll;\"><table class = \"data-frame\" style = \"margin-bottom: 6px;\"><thead><tr class = \"header\"><th class = \"rowNumber\" style = \"font-weight: bold; text-align: right;\">Row</th><th style = \"text-align: left;\">CPU</th><th style = \"text-align: left;\">GPU</th><th style = \"text-align: left;\">Better_GPU</th></tr><tr class = \"subheader headerLastRow\"><th class = \"rowNumber\" style = \"font-weight: bold; text-align: right;\"></th><th title = \"Any\" style = \"text-align: left;\">Any</th><th title = \"Any\" style = \"text-align: left;\">Any</th><th title = \"Any\" style = \"text-align: left;\">Any</th></tr></thead><tbody><tr><td class = \"rowNumber\" style = \"font-weight: bold; text-align: right;\">1</td><td style = \"text-align: left;\">1.72934</td><td style = \"text-align: left;\">1.23179</td><td style = \"text-align: left;\">true</td></tr><tr><td class = \"rowNumber\" style = \"font-weight: bold; text-align: right;\">2</td><td style = \"text-align: left;\">1.97266</td><td style = \"text-align: left;\">0.953998</td><td style = \"text-align: left;\">true</td></tr><tr><td class = \"rowNumber\" style = \"font-weight: bold; text-align: right;\">3</td><td style = \"text-align: left;\">2.05915</td><td style = \"text-align: left;\">1.18418</td><td style = \"text-align: left;\">true</td></tr><tr><td class = \"rowNumber\" style = \"font-weight: bold; text-align: right;\">4</td><td style = \"text-align: left;\">1.86756</td><td style = \"text-align: left;\">0.997821</td><td style = \"text-align: left;\">true</td></tr><tr><td class = \"rowNumber\" style = \"font-weight: bold; text-align: right;\">5</td><td style = \"text-align: left;\">2.09291</td><td style = \"text-align: left;\">0.952682</td><td style = \"text-align: left;\">true</td></tr><tr><td class = \"rowNumber\" style = \"font-weight: bold; text-align: right;\">6</td><td style = \"text-align: left;\">2.60417</td><td style = \"text-align: left;\">0.986451</td><td style = \"text-align: left;\">true</td></tr><tr><td class = \"rowNumber\" style = \"font-weight: bold; text-align: right;\">7</td><td style = \"text-align: left;\">2.50567</td><td style = \"text-align: left;\">1.17317</td><td style = \"text-align: left;\">true</td></tr><tr><td class = \"rowNumber\" style = \"font-weight: bold; text-align: right;\">8</td><td style = \"text-align: left;\">3.41478</td><td style = \"text-align: left;\">0.995665</td><td style = \"text-align: left;\">true</td></tr><tr><td class = \"rowNumber\" style = \"font-weight: bold; text-align: right;\">9</td><td style = \"text-align: left;\">4.55945</td><td style = \"text-align: left;\">1.19971</td><td style = \"text-align: left;\">true</td></tr><tr><td class = \"rowNumber\" style = \"font-weight: bold; text-align: right;\">10</td><td style = \"text-align: left;\">5.42959</td><td style = \"text-align: left;\">1.012</td><td style = \"text-align: left;\">true</td></tr></tbody></table></div>"
      ],
      "text/latex": [
       "\\begin{tabular}{r|ccc}\n",
       "\t& CPU & GPU & Better\\_GPU\\\\\n",
       "\t\\hline\n",
       "\t& Any & Any & Any\\\\\n",
       "\t\\hline\n",
       "\t1 & 1.72934 & 1.23179 & 1 \\\\\n",
       "\t2 & 1.97266 & 0.953998 & 1 \\\\\n",
       "\t3 & 2.05915 & 1.18418 & 1 \\\\\n",
       "\t4 & 1.86756 & 0.997821 & 1 \\\\\n",
       "\t5 & 2.09291 & 0.952682 & 1 \\\\\n",
       "\t6 & 2.60417 & 0.986451 & 1 \\\\\n",
       "\t7 & 2.50567 & 1.17317 & 1 \\\\\n",
       "\t8 & 3.41478 & 0.995665 & 1 \\\\\n",
       "\t9 & 4.55945 & 1.19971 & 1 \\\\\n",
       "\t10 & 5.42959 & 1.012 & 1 \\\\\n",
       "\\end{tabular}\n"
      ],
      "text/plain": [
       "\u001b[1m10×3 DataFrame\u001b[0m\n",
       "\u001b[1m Row \u001b[0m│\u001b[1m CPU     \u001b[0m\u001b[1m GPU      \u001b[0m\u001b[1m Better_GPU \u001b[0m\n",
       "     │\u001b[90m Any     \u001b[0m\u001b[90m Any      \u001b[0m\u001b[90m Any        \u001b[0m\n",
       "─────┼───────────────────────────────\n",
       "   1 │ 1.72934  1.23179   true\n",
       "   2 │ 1.97266  0.953998  true\n",
       "   3 │ 2.05915  1.18418   true\n",
       "   4 │ 1.86756  0.997821  true\n",
       "   5 │ 2.09291  0.952682  true\n",
       "   6 │ 2.60417  0.986451  true\n",
       "   7 │ 2.50567  1.17317   true\n",
       "   8 │ 3.41478  0.995665  true\n",
       "   9 │ 4.55945  1.19971   true\n",
       "  10 │ 5.42959  1.012     true"
      ]
     },
     "metadata": {},
     "output_type": "display_data"
    }
   ],
   "source": [
    "df = simulate(5000, 10)\n",
    "CSV.write(\"./6.csv\", df)\n",
    "df"
   ]
  },
  {
   "cell_type": "code",
   "execution_count": 101,
   "metadata": {},
   "outputs": [
    {
     "name": "stdout",
     "output_type": "stream",
     "text": [
      "Total size: 100000000\n",
      "Mean CPU: 210.2052650053\n",
      "Mean GPU: 10.711182\n"
     ]
    },
    {
     "data": {
      "text/html": [
       "<div><div style = \"float: left;\"><span>10×3 DataFrame</span></div><div style = \"clear: both;\"></div></div><div class = \"data-frame\" style = \"overflow-x: scroll;\"><table class = \"data-frame\" style = \"margin-bottom: 6px;\"><thead><tr class = \"header\"><th class = \"rowNumber\" style = \"font-weight: bold; text-align: right;\">Row</th><th style = \"text-align: left;\">CPU</th><th style = \"text-align: left;\">GPU</th><th style = \"text-align: left;\">Better_GPU</th></tr><tr class = \"subheader headerLastRow\"><th class = \"rowNumber\" style = \"font-weight: bold; text-align: right;\"></th><th title = \"Any\" style = \"text-align: left;\">Any</th><th title = \"Any\" style = \"text-align: left;\">Any</th><th title = \"Any\" style = \"text-align: left;\">Any</th></tr></thead><tbody><tr><td class = \"rowNumber\" style = \"font-weight: bold; text-align: right;\">1</td><td style = \"text-align: left;\">72.3738</td><td style = \"text-align: left;\">8.33046</td><td style = \"text-align: left;\">true</td></tr><tr><td class = \"rowNumber\" style = \"font-weight: bold; text-align: right;\">2</td><td style = \"text-align: left;\">105.515</td><td style = \"text-align: left;\">9.10068</td><td style = \"text-align: left;\">true</td></tr><tr><td class = \"rowNumber\" style = \"font-weight: bold; text-align: right;\">3</td><td style = \"text-align: left;\">152.726</td><td style = \"text-align: left;\">9.41615</td><td style = \"text-align: left;\">true</td></tr><tr><td class = \"rowNumber\" style = \"font-weight: bold; text-align: right;\">4</td><td style = \"text-align: left;\">188.216</td><td style = \"text-align: left;\">10.1229</td><td style = \"text-align: left;\">true</td></tr><tr><td class = \"rowNumber\" style = \"font-weight: bold; text-align: right;\">5</td><td style = \"text-align: left;\">232.592</td><td style = \"text-align: left;\">10.9771</td><td style = \"text-align: left;\">true</td></tr><tr><td class = \"rowNumber\" style = \"font-weight: bold; text-align: right;\">6</td><td style = \"text-align: left;\">243.761</td><td style = \"text-align: left;\">10.8583</td><td style = \"text-align: left;\">true</td></tr><tr><td class = \"rowNumber\" style = \"font-weight: bold; text-align: right;\">7</td><td style = \"text-align: left;\">264.309</td><td style = \"text-align: left;\">10.9443</td><td style = \"text-align: left;\">true</td></tr><tr><td class = \"rowNumber\" style = \"font-weight: bold; text-align: right;\">8</td><td style = \"text-align: left;\">279.165</td><td style = \"text-align: left;\">12.5396</td><td style = \"text-align: left;\">true</td></tr><tr><td class = \"rowNumber\" style = \"font-weight: bold; text-align: right;\">9</td><td style = \"text-align: left;\">281.007</td><td style = \"text-align: left;\">11.8832</td><td style = \"text-align: left;\">true</td></tr><tr><td class = \"rowNumber\" style = \"font-weight: bold; text-align: right;\">10</td><td style = \"text-align: left;\">282.387</td><td style = \"text-align: left;\">12.9391</td><td style = \"text-align: left;\">true</td></tr></tbody></table></div>"
      ],
      "text/latex": [
       "\\begin{tabular}{r|ccc}\n",
       "\t& CPU & GPU & Better\\_GPU\\\\\n",
       "\t\\hline\n",
       "\t& Any & Any & Any\\\\\n",
       "\t\\hline\n",
       "\t1 & 72.3738 & 8.33046 & 1 \\\\\n",
       "\t2 & 105.515 & 9.10068 & 1 \\\\\n",
       "\t3 & 152.726 & 9.41615 & 1 \\\\\n",
       "\t4 & 188.216 & 10.1229 & 1 \\\\\n",
       "\t5 & 232.592 & 10.9771 & 1 \\\\\n",
       "\t6 & 243.761 & 10.8583 & 1 \\\\\n",
       "\t7 & 264.309 & 10.9443 & 1 \\\\\n",
       "\t8 & 279.165 & 12.5396 & 1 \\\\\n",
       "\t9 & 281.007 & 11.8832 & 1 \\\\\n",
       "\t10 & 282.387 & 12.9391 & 1 \\\\\n",
       "\\end{tabular}\n"
      ],
      "text/plain": [
       "\u001b[1m10×3 DataFrame\u001b[0m\n",
       "\u001b[1m Row \u001b[0m│\u001b[1m CPU     \u001b[0m\u001b[1m GPU     \u001b[0m\u001b[1m Better_GPU \u001b[0m\n",
       "     │\u001b[90m Any     \u001b[0m\u001b[90m Any     \u001b[0m\u001b[90m Any        \u001b[0m\n",
       "─────┼──────────────────────────────\n",
       "   1 │ 72.3738  8.33046  true\n",
       "   2 │ 105.515  9.10068  true\n",
       "   3 │ 152.726  9.41615  true\n",
       "   4 │ 188.216  10.1229  true\n",
       "   5 │ 232.592  10.9771  true\n",
       "   6 │ 243.761  10.8583  true\n",
       "   7 │ 264.309  10.9443  true\n",
       "   8 │ 279.165  12.5396  true\n",
       "   9 │ 281.007  11.8832  true\n",
       "  10 │ 282.387  12.9391  true"
      ]
     },
     "metadata": {},
     "output_type": "display_data"
    }
   ],
   "source": [
    "df = simulate(10000, 10)\n",
    "CSV.write(\"./7.csv\", df)\n",
    "df"
   ]
  },
  {
   "cell_type": "code",
   "execution_count": 18,
   "metadata": {},
   "outputs": [
    {
     "ename": "OutOfGPUMemoryError",
     "evalue": "Out of GPU memory trying to allocate 549.316 MiB\nEffective GPU memory usage: 98.41% (1.917 GiB/1.948 GiB)\nMemory pool usage: 1.609 GiB (1.844 GiB reserved)\n",
     "output_type": "error",
     "traceback": [
      "Out of GPU memory trying to allocate 549.316 MiB\n",
      "Effective GPU memory usage: 98.41% (1.917 GiB/1.948 GiB)\n",
      "Memory pool usage: 1.609 GiB (1.844 GiB reserved)\n",
      "\n",
      "\n",
      "Stacktrace:\n",
      "  [1] macro expansion\n",
      "    @ ~/.julia/packages/CUDA/htRwP/src/pool.jl:453 [inlined]\n",
      "  [2] macro expansion\n",
      "    @ ./timing.jl:395 [inlined]\n",
      "  [3] #_alloc#1015\n",
      "    @ ~/.julia/packages/CUDA/htRwP/src/pool.jl:441 [inlined]\n",
      "  [4] _alloc\n",
      "    @ ~/.julia/packages/CUDA/htRwP/src/pool.jl:437 [inlined]\n",
      "  [5] #alloc#1014\n",
      "    @ ~/.julia/packages/CUDA/htRwP/src/pool.jl:427 [inlined]\n",
      "  [6] alloc\n",
      "    @ ~/.julia/packages/CUDA/htRwP/src/pool.jl:421 [inlined]\n",
      "  [7] CuArray{Float32, 2, CUDA.Mem.DeviceBuffer}(::UndefInitializer, dims::Tuple{Int64, Int64})\n",
      "    @ CUDA ~/.julia/packages/CUDA/htRwP/src/array.jl:74\n",
      "  [8] CuArray\n",
      "    @ ~/.julia/packages/CUDA/htRwP/src/array.jl:147 [inlined]\n",
      "  [9] similar\n",
      "    @ ./abstractarray.jl:877 [inlined]\n",
      " [10] Type\n",
      "    @ ~/.julia/packages/GPUArrays/Hd5Sk/src/host/construction.jl:34 [inlined]\n",
      " [11] Type\n",
      "    @ ~/.julia/packages/GPUArrays/Hd5Sk/src/host/construction.jl:42 [inlined]\n",
      " [12] inv(A::CuArray{Float32, 2, CUDA.Mem.DeviceBuffer})\n",
      "    @ CUDA.CUSOLVER ~/.julia/packages/CUDA/htRwP/lib/cusolver/linalg.jl:363\n",
      " [13] operation_matrices_cuda(A::CuArray{Float32, 2, CUDA.Mem.DeviceBuffer})\n",
      "    @ Main ~/dev/skripsi/skripsi/playgrounds/research/inverse/simulation.ipynb:22\n",
      " [14] macro expansion\n",
      "    @ ~/.julia/packages/CUDA/htRwP/lib/cudadrv/events.jl:121 [inlined]\n",
      " [15] simulate_gpu(A_normal::Matrix{Float32})\n",
      "    @ Main ~/dev/skripsi/skripsi/playgrounds/research/inverse/simulation.ipynb:30\n",
      " [16] simulate(N::Int64, n_loop::Int64)\n",
      "    @ Main ~/dev/skripsi/skripsi/playgrounds/research/inverse/simulation.ipynb:9\n",
      " [17] top-level scope\n",
      "    @ ~/dev/skripsi/skripsi/playgrounds/research/inverse/simulation.ipynb:1"
     ]
    }
   ],
   "source": [
    "df = simulate(12000, 10)\n",
    "CSV.write(\"./8.csv\", df)\n",
    "df"
   ]
  }
 ],
 "metadata": {
  "kernelspec": {
   "display_name": "Julia 1.10.2",
   "language": "julia",
   "name": "julia-1.10"
  },
  "language_info": {
   "file_extension": ".jl",
   "mimetype": "application/julia",
   "name": "julia",
   "version": "1.10.2"
  }
 },
 "nbformat": 4,
 "nbformat_minor": 2
}
