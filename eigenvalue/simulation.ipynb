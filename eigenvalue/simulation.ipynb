{
 "cells": [
  {
   "cell_type": "code",
   "execution_count": 1,
   "metadata": {},
   "outputs": [],
   "source": [
    "using CUDA, CUDA.CUSOLVER\n",
    "using TypedTables\n",
    "using DataFrames\n",
    "using Statistics\n",
    "using CSV\n",
    "using LinearAlgebra"
   ]
  },
  {
   "cell_type": "code",
   "execution_count": 2,
   "metadata": {},
   "outputs": [
    {
     "data": {
      "text/plain": [
       "simulate_gpu (generic function with 1 method)"
      ]
     },
     "metadata": {},
     "output_type": "display_data"
    }
   ],
   "source": [
    "# CUDA\n",
    "\n",
    "# function operation_matrices_cuda(A)\n",
    "#     gpu_matrix = CUDA.cu(A)  # Transfer matrix to GPU\n",
    "#     inverted_gpu_matrix = inv(gpu_matrix)  # Invert matrix on GPU\n",
    "#     return CUDA.collect(inverted_gpu_matrix)  # Transfer back to CPU\n",
    "# end\n",
    "\n",
    "# Function to compute eigenvalues on the GPU\n",
    "function operation_matrices_cuda(A, N)\n",
    "    gpu_matrix = CUDA.cu(A)  # Transfer matrix to GPU\n",
    "    # Compute eigenvalues (CUDA.jl does not directly support eigenvalue computations,\n",
    "    # so this is a placeholder for analogous operations or library calls)\n",
    "    # eigenvalues = CUDA.linalg.eigvals(gpu_matrix)  # Placeholder function call\n",
    "    eigenvalues = CUDA.zeros(eltype(A), N)\n",
    "    # CUDA.CUSOLVER.syevd!('N', 'U', gpu_matrix, eigenvalues)\n",
    "    return CUDA.collect(eigenvalues)  # Transfer eigenvalues back to CPU\n",
    "end\n",
    "\n",
    "function simulate_gpu(A_normal, N)\n",
    "    # Convert your matrices to CuArray\n",
    "    # A = CUDA.cu(A_normal)\n",
    "\n",
    "    # Measure execution time\n",
    "    cuda_start = CUDA.@elapsed result_gpu = operation_matrices_cuda(A_normal, N)\n",
    "    return cuda_start\n",
    "end"
   ]
  },
  {
   "cell_type": "code",
   "execution_count": 3,
   "metadata": {},
   "outputs": [
    {
     "data": {
      "text/plain": [
       "simulate_cpu (generic function with 1 method)"
      ]
     },
     "metadata": {},
     "output_type": "display_data"
    }
   ],
   "source": [
    "# CPU\n",
    "\n",
    "# function operation_matrices_normal(A)\n",
    "#     C = zeros(Float32, size(A))\n",
    "#     C = inv(A)\n",
    "#     return C\n",
    "# end\n",
    "\n",
    "# Function to compute eigenvalues on the CPU\n",
    "function eigenvalues_cpu(A)\n",
    "    return eigen(A).values\n",
    "end\n",
    "\n",
    "function simulate_cpu(A_normal)\n",
    "    normal_start = @elapsed result_cpu = eigenvalues_cpu(A_normal)\n",
    "    # println(\"Waktu eksekusi dengan CPU: $normal_start detik\")\n",
    "    return normal_start\n",
    "end"
   ]
  },
  {
   "cell_type": "code",
   "execution_count": 4,
   "metadata": {},
   "outputs": [
    {
     "data": {
      "text/plain": [
       "simulate (generic function with 1 method)"
      ]
     },
     "metadata": {},
     "output_type": "display_data"
    }
   ],
   "source": [
    "function simulate(N::Int64, n_loop::Int64)\n",
    "    println(\"Total size: $(N*N)\")\n",
    "    results_gpu = []\n",
    "    results_cpu = []\n",
    "    is_better_gpu = []\n",
    "    for i in 1:n_loop\n",
    "        A_normal = rand(Float32, N, N)\n",
    "        # B_normal = rand(Float32, N, N)\n",
    "        benchmark_gpu = simulate_gpu(A_normal, N)\n",
    "        benchmark_cpu = simulate_cpu(A_normal)\n",
    "        push!(results_gpu, benchmark_gpu)\n",
    "        push!(results_cpu, benchmark_cpu)\n",
    "        push!(is_better_gpu, benchmark_gpu < benchmark_cpu)\n",
    "    end\n",
    "    println(\"Mean CPU: $(mean(results_cpu))\")\n",
    "    println(\"Mean GPU: $(mean(results_gpu))\")\n",
    "    return DataFrame(CPU=results_cpu, GPU=results_gpu, Better_GPU=is_better_gpu)\n",
    "end"
   ]
  },
  {
   "cell_type": "code",
   "execution_count": 4,
   "metadata": {},
   "outputs": [
    {
     "data": {
      "text/plain": [
       "simulate (generic function with 1 method)"
      ]
     },
     "metadata": {},
     "output_type": "display_data"
    }
   ],
   "source": [
    "# Function to compute eigenvalues on the CPU\n",
    "function eigen_cpu(A)\n",
    "    return eigvals(A)\n",
    "end\n",
    "\n",
    "# Placeholder function to simulate GPU eigenvalue computation\n",
    "function eigen_gpu(A_gpu)\n",
    "    # Convert GPU array back to a CPU array and cast to Float64 for computation\n",
    "    A_cpu = Array{Float64}(A_gpu)\n",
    "    return eigvals(A_cpu)\n",
    "end\n",
    "\n",
    "# Simulate operation on CPU\n",
    "function simulate_cpu(A_normal)\n",
    "    cpu_start = @elapsed result_cpu = eigen_cpu(A_normal)\n",
    "    return cpu_start\n",
    "end\n",
    "\n",
    "# Simulate operation on GPU using placeholder\n",
    "function simulate_gpu(A_normal)\n",
    "    A_gpu = CUDA.cu(A_normal)\n",
    "    gpu_start = CUDA.@elapsed result_gpu = eigen_gpu(A_gpu)\n",
    "    return gpu_start\n",
    "end\n",
    "\n",
    "function simulate(N::Int64, n_loop::Int64)\n",
    "    println(\"Matrix size: $(N)x$(N)\")\n",
    "    results_gpu = []\n",
    "    results_cpu = []\n",
    "    is_better_gpu = []\n",
    "    for i in 1:n_loop\n",
    "        A_normal = rand(Float64, N, N)  # Use Float64 for better precision in eigenvalue calculations\n",
    "        benchmark_gpu = simulate_gpu(A_normal)\n",
    "        benchmark_cpu = simulate_cpu(A_normal)\n",
    "        push!(results_gpu, benchmark_gpu)\n",
    "        push!(results_cpu, benchmark_cpu)\n",
    "        push!(is_better_gpu, benchmark_gpu < benchmark_cpu)\n",
    "    end\n",
    "    println(\"Mean CPU time: $(mean(results_cpu))\")\n",
    "    println(\"Mean GPU time: $(mean(results_gpu))\")\n",
    "    return DataFrame(CPU=results_cpu, GPU=results_gpu, Better_GPU=is_better_gpu)\n",
    "end"
   ]
  },
  {
   "cell_type": "code",
   "execution_count": 6,
   "metadata": {},
   "outputs": [
    {
     "name": "stdout",
     "output_type": "stream",
     "text": [
      "Matrix size: 10x10\n",
      "Mean CPU time: 2.67146e-5\n",
      "Mean GPU time: 5.0716793e-5\n"
     ]
    },
    {
     "data": {
      "text/html": [
       "<div><div style = \"float: left;\"><span>10×3 DataFrame</span></div><div style = \"clear: both;\"></div></div><div class = \"data-frame\" style = \"overflow-x: scroll;\"><table class = \"data-frame\" style = \"margin-bottom: 6px;\"><thead><tr class = \"header\"><th class = \"rowNumber\" style = \"font-weight: bold; text-align: right;\">Row</th><th style = \"text-align: left;\">CPU</th><th style = \"text-align: left;\">GPU</th><th style = \"text-align: left;\">Better_GPU</th></tr><tr class = \"subheader headerLastRow\"><th class = \"rowNumber\" style = \"font-weight: bold; text-align: right;\"></th><th title = \"Any\" style = \"text-align: left;\">Any</th><th title = \"Any\" style = \"text-align: left;\">Any</th><th title = \"Any\" style = \"text-align: left;\">Any</th></tr></thead><tbody><tr><td class = \"rowNumber\" style = \"font-weight: bold; text-align: right;\">1</td><td style = \"text-align: left;\">4.6941e-5</td><td style = \"text-align: left;\">0.000118432</td><td style = \"text-align: left;\">false</td></tr><tr><td class = \"rowNumber\" style = \"font-weight: bold; text-align: right;\">2</td><td style = \"text-align: left;\">2.4946e-5</td><td style = \"text-align: left;\">4.88e-5</td><td style = \"text-align: left;\">false</td></tr><tr><td class = \"rowNumber\" style = \"font-weight: bold; text-align: right;\">3</td><td style = \"text-align: left;\">2.4644e-5</td><td style = \"text-align: left;\">4.4448e-5</td><td style = \"text-align: left;\">false</td></tr><tr><td class = \"rowNumber\" style = \"font-weight: bold; text-align: right;\">4</td><td style = \"text-align: left;\">2.486e-5</td><td style = \"text-align: left;\">4.256e-5</td><td style = \"text-align: left;\">false</td></tr><tr><td class = \"rowNumber\" style = \"font-weight: bold; text-align: right;\">5</td><td style = \"text-align: left;\">2.4599e-5</td><td style = \"text-align: left;\">4.1984e-5</td><td style = \"text-align: left;\">false</td></tr><tr><td class = \"rowNumber\" style = \"font-weight: bold; text-align: right;\">6</td><td style = \"text-align: left;\">2.3517e-5</td><td style = \"text-align: left;\">4.272e-5</td><td style = \"text-align: left;\">false</td></tr><tr><td class = \"rowNumber\" style = \"font-weight: bold; text-align: right;\">7</td><td style = \"text-align: left;\">2.3401e-5</td><td style = \"text-align: left;\">4.0928e-5</td><td style = \"text-align: left;\">false</td></tr><tr><td class = \"rowNumber\" style = \"font-weight: bold; text-align: right;\">8</td><td style = \"text-align: left;\">2.6571e-5</td><td style = \"text-align: left;\">4.4128e-5</td><td style = \"text-align: left;\">false</td></tr><tr><td class = \"rowNumber\" style = \"font-weight: bold; text-align: right;\">9</td><td style = \"text-align: left;\">2.3646e-5</td><td style = \"text-align: left;\">4.1344e-5</td><td style = \"text-align: left;\">false</td></tr><tr><td class = \"rowNumber\" style = \"font-weight: bold; text-align: right;\">10</td><td style = \"text-align: left;\">2.4021e-5</td><td style = \"text-align: left;\">4.1824e-5</td><td style = \"text-align: left;\">false</td></tr></tbody></table></div>"
      ],
      "text/latex": [
       "\\begin{tabular}{r|ccc}\n",
       "\t& CPU & GPU & Better\\_GPU\\\\\n",
       "\t\\hline\n",
       "\t& Any & Any & Any\\\\\n",
       "\t\\hline\n",
       "\t1 & 4.6941e-5 & 0.000118432 & 0 \\\\\n",
       "\t2 & 2.4946e-5 & 4.88e-5 & 0 \\\\\n",
       "\t3 & 2.4644e-5 & 4.4448e-5 & 0 \\\\\n",
       "\t4 & 2.486e-5 & 4.256e-5 & 0 \\\\\n",
       "\t5 & 2.4599e-5 & 4.1984e-5 & 0 \\\\\n",
       "\t6 & 2.3517e-5 & 4.272e-5 & 0 \\\\\n",
       "\t7 & 2.3401e-5 & 4.0928e-5 & 0 \\\\\n",
       "\t8 & 2.6571e-5 & 4.4128e-5 & 0 \\\\\n",
       "\t9 & 2.3646e-5 & 4.1344e-5 & 0 \\\\\n",
       "\t10 & 2.4021e-5 & 4.1824e-5 & 0 \\\\\n",
       "\\end{tabular}\n"
      ],
      "text/plain": [
       "\u001b[1m10×3 DataFrame\u001b[0m\n",
       "\u001b[1m Row \u001b[0m│\u001b[1m CPU       \u001b[0m\u001b[1m GPU         \u001b[0m\u001b[1m Better_GPU \u001b[0m\n",
       "     │\u001b[90m Any       \u001b[0m\u001b[90m Any         \u001b[0m\u001b[90m Any        \u001b[0m\n",
       "─────┼────────────────────────────────────\n",
       "   1 │ 4.6941e-5  0.000118432  false\n",
       "   2 │ 2.4946e-5  4.88e-5      false\n",
       "   3 │ 2.4644e-5  4.4448e-5    false\n",
       "   4 │ 2.486e-5   4.256e-5     false\n",
       "   5 │ 2.4599e-5  4.1984e-5    false\n",
       "   6 │ 2.3517e-5  4.272e-5     false\n",
       "   7 │ 2.3401e-5  4.0928e-5    false\n",
       "   8 │ 2.6571e-5  4.4128e-5    false\n",
       "   9 │ 2.3646e-5  4.1344e-5    false\n",
       "  10 │ 2.4021e-5  4.1824e-5    false"
      ]
     },
     "metadata": {},
     "output_type": "display_data"
    }
   ],
   "source": [
    "df = simulate(10, 10)\n",
    "CSV.write(\"./1.csv\", df)\n",
    "df"
   ]
  },
  {
   "cell_type": "code",
   "execution_count": 18,
   "metadata": {},
   "outputs": [
    {
     "name": "stdout",
     "output_type": "stream",
     "text": [
      "Matrix size: 50x50\n",
      "Mean CPU time: 0.0007598637\n",
      "Mean GPU time: 0.0007910561\n"
     ]
    },
    {
     "data": {
      "text/html": [
       "<div><div style = \"float: left;\"><span>10×3 DataFrame</span></div><div style = \"clear: both;\"></div></div><div class = \"data-frame\" style = \"overflow-x: scroll;\"><table class = \"data-frame\" style = \"margin-bottom: 6px;\"><thead><tr class = \"header\"><th class = \"rowNumber\" style = \"font-weight: bold; text-align: right;\">Row</th><th style = \"text-align: left;\">CPU</th><th style = \"text-align: left;\">GPU</th><th style = \"text-align: left;\">Better_GPU</th></tr><tr class = \"subheader headerLastRow\"><th class = \"rowNumber\" style = \"font-weight: bold; text-align: right;\"></th><th title = \"Any\" style = \"text-align: left;\">Any</th><th title = \"Any\" style = \"text-align: left;\">Any</th><th title = \"Any\" style = \"text-align: left;\">Any</th></tr></thead><tbody><tr><td class = \"rowNumber\" style = \"font-weight: bold; text-align: right;\">1</td><td style = \"text-align: left;\">0.000631315</td><td style = \"text-align: left;\">0.000723072</td><td style = \"text-align: left;\">false</td></tr><tr><td class = \"rowNumber\" style = \"font-weight: bold; text-align: right;\">2</td><td style = \"text-align: left;\">0.000868031</td><td style = \"text-align: left;\">0.000663168</td><td style = \"text-align: left;\">true</td></tr><tr><td class = \"rowNumber\" style = \"font-weight: bold; text-align: right;\">3</td><td style = \"text-align: left;\">0.000921584</td><td style = \"text-align: left;\">0.000726528</td><td style = \"text-align: left;\">true</td></tr><tr><td class = \"rowNumber\" style = \"font-weight: bold; text-align: right;\">4</td><td style = \"text-align: left;\">0.00104189</td><td style = \"text-align: left;\">0.00115709</td><td style = \"text-align: left;\">false</td></tr><tr><td class = \"rowNumber\" style = \"font-weight: bold; text-align: right;\">5</td><td style = \"text-align: left;\">0.000713696</td><td style = \"text-align: left;\">0.00100576</td><td style = \"text-align: left;\">false</td></tr><tr><td class = \"rowNumber\" style = \"font-weight: bold; text-align: right;\">6</td><td style = \"text-align: left;\">0.000700826</td><td style = \"text-align: left;\">0.000717536</td><td style = \"text-align: left;\">false</td></tr><tr><td class = \"rowNumber\" style = \"font-weight: bold; text-align: right;\">7</td><td style = \"text-align: left;\">0.00070687</td><td style = \"text-align: left;\">0.000785344</td><td style = \"text-align: left;\">false</td></tr><tr><td class = \"rowNumber\" style = \"font-weight: bold; text-align: right;\">8</td><td style = \"text-align: left;\">0.000722648</td><td style = \"text-align: left;\">0.000697376</td><td style = \"text-align: left;\">true</td></tr><tr><td class = \"rowNumber\" style = \"font-weight: bold; text-align: right;\">9</td><td style = \"text-align: left;\">0.000681085</td><td style = \"text-align: left;\">0.000795008</td><td style = \"text-align: left;\">false</td></tr><tr><td class = \"rowNumber\" style = \"font-weight: bold; text-align: right;\">10</td><td style = \"text-align: left;\">0.000610692</td><td style = \"text-align: left;\">0.00063968</td><td style = \"text-align: left;\">false</td></tr></tbody></table></div>"
      ],
      "text/latex": [
       "\\begin{tabular}{r|ccc}\n",
       "\t& CPU & GPU & Better\\_GPU\\\\\n",
       "\t\\hline\n",
       "\t& Any & Any & Any\\\\\n",
       "\t\\hline\n",
       "\t1 & 0.000631315 & 0.000723072 & 0 \\\\\n",
       "\t2 & 0.000868031 & 0.000663168 & 1 \\\\\n",
       "\t3 & 0.000921584 & 0.000726528 & 1 \\\\\n",
       "\t4 & 0.00104189 & 0.00115709 & 0 \\\\\n",
       "\t5 & 0.000713696 & 0.00100576 & 0 \\\\\n",
       "\t6 & 0.000700826 & 0.000717536 & 0 \\\\\n",
       "\t7 & 0.00070687 & 0.000785344 & 0 \\\\\n",
       "\t8 & 0.000722648 & 0.000697376 & 1 \\\\\n",
       "\t9 & 0.000681085 & 0.000795008 & 0 \\\\\n",
       "\t10 & 0.000610692 & 0.00063968 & 0 \\\\\n",
       "\\end{tabular}\n"
      ],
      "text/plain": [
       "\u001b[1m10×3 DataFrame\u001b[0m\n",
       "\u001b[1m Row \u001b[0m│\u001b[1m CPU         \u001b[0m\u001b[1m GPU         \u001b[0m\u001b[1m Better_GPU \u001b[0m\n",
       "     │\u001b[90m Any         \u001b[0m\u001b[90m Any         \u001b[0m\u001b[90m Any        \u001b[0m\n",
       "─────┼──────────────────────────────────────\n",
       "   1 │ 0.000631315  0.000723072  false\n",
       "   2 │ 0.000868031  0.000663168  true\n",
       "   3 │ 0.000921584  0.000726528  true\n",
       "   4 │ 0.00104189   0.00115709   false\n",
       "   5 │ 0.000713696  0.00100576   false\n",
       "   6 │ 0.000700826  0.000717536  false\n",
       "   7 │ 0.00070687   0.000785344  false\n",
       "   8 │ 0.000722648  0.000697376  true\n",
       "   9 │ 0.000681085  0.000795008  false\n",
       "  10 │ 0.000610692  0.00063968   false"
      ]
     },
     "metadata": {},
     "output_type": "display_data"
    }
   ],
   "source": [
    "df = simulate(50, 10)\n",
    "CSV.write(\"./2.csv\", df)\n",
    "df"
   ]
  },
  {
   "cell_type": "code",
   "execution_count": 23,
   "metadata": {},
   "outputs": [
    {
     "name": "stdout",
     "output_type": "stream",
     "text": [
      "Matrix size: 100x100\n",
      "Mean CPU time: 0.005174710900000001\n",
      "Mean GPU time: 0.00484689\n"
     ]
    },
    {
     "data": {
      "text/html": [
       "<div><div style = \"float: left;\"><span>10×3 DataFrame</span></div><div style = \"clear: both;\"></div></div><div class = \"data-frame\" style = \"overflow-x: scroll;\"><table class = \"data-frame\" style = \"margin-bottom: 6px;\"><thead><tr class = \"header\"><th class = \"rowNumber\" style = \"font-weight: bold; text-align: right;\">Row</th><th style = \"text-align: left;\">CPU</th><th style = \"text-align: left;\">GPU</th><th style = \"text-align: left;\">Better_GPU</th></tr><tr class = \"subheader headerLastRow\"><th class = \"rowNumber\" style = \"font-weight: bold; text-align: right;\"></th><th title = \"Any\" style = \"text-align: left;\">Any</th><th title = \"Any\" style = \"text-align: left;\">Any</th><th title = \"Any\" style = \"text-align: left;\">Any</th></tr></thead><tbody><tr><td class = \"rowNumber\" style = \"font-weight: bold; text-align: right;\">1</td><td style = \"text-align: left;\">0.0109836</td><td style = \"text-align: left;\">0.00871072</td><td style = \"text-align: left;\">true</td></tr><tr><td class = \"rowNumber\" style = \"font-weight: bold; text-align: right;\">2</td><td style = \"text-align: left;\">0.00562893</td><td style = \"text-align: left;\">0.0042425</td><td style = \"text-align: left;\">true</td></tr><tr><td class = \"rowNumber\" style = \"font-weight: bold; text-align: right;\">3</td><td style = \"text-align: left;\">0.00437378</td><td style = \"text-align: left;\">0.00416118</td><td style = \"text-align: left;\">true</td></tr><tr><td class = \"rowNumber\" style = \"font-weight: bold; text-align: right;\">4</td><td style = \"text-align: left;\">0.00534084</td><td style = \"text-align: left;\">0.0042255</td><td style = \"text-align: left;\">true</td></tr><tr><td class = \"rowNumber\" style = \"font-weight: bold; text-align: right;\">5</td><td style = \"text-align: left;\">0.00445999</td><td style = \"text-align: left;\">0.00433024</td><td style = \"text-align: left;\">true</td></tr><tr><td class = \"rowNumber\" style = \"font-weight: bold; text-align: right;\">6</td><td style = \"text-align: left;\">0.0044766</td><td style = \"text-align: left;\">0.00509347</td><td style = \"text-align: left;\">false</td></tr><tr><td class = \"rowNumber\" style = \"font-weight: bold; text-align: right;\">7</td><td style = \"text-align: left;\">0.00368292</td><td style = \"text-align: left;\">0.00413696</td><td style = \"text-align: left;\">false</td></tr><tr><td class = \"rowNumber\" style = \"font-weight: bold; text-align: right;\">8</td><td style = \"text-align: left;\">0.00407031</td><td style = \"text-align: left;\">0.00474042</td><td style = \"text-align: left;\">false</td></tr><tr><td class = \"rowNumber\" style = \"font-weight: bold; text-align: right;\">9</td><td style = \"text-align: left;\">0.00456927</td><td style = \"text-align: left;\">0.00410045</td><td style = \"text-align: left;\">true</td></tr><tr><td class = \"rowNumber\" style = \"font-weight: bold; text-align: right;\">10</td><td style = \"text-align: left;\">0.00416084</td><td style = \"text-align: left;\">0.00472746</td><td style = \"text-align: left;\">false</td></tr></tbody></table></div>"
      ],
      "text/latex": [
       "\\begin{tabular}{r|ccc}\n",
       "\t& CPU & GPU & Better\\_GPU\\\\\n",
       "\t\\hline\n",
       "\t& Any & Any & Any\\\\\n",
       "\t\\hline\n",
       "\t1 & 0.0109836 & 0.00871072 & 1 \\\\\n",
       "\t2 & 0.00562893 & 0.0042425 & 1 \\\\\n",
       "\t3 & 0.00437378 & 0.00416118 & 1 \\\\\n",
       "\t4 & 0.00534084 & 0.0042255 & 1 \\\\\n",
       "\t5 & 0.00445999 & 0.00433024 & 1 \\\\\n",
       "\t6 & 0.0044766 & 0.00509347 & 0 \\\\\n",
       "\t7 & 0.00368292 & 0.00413696 & 0 \\\\\n",
       "\t8 & 0.00407031 & 0.00474042 & 0 \\\\\n",
       "\t9 & 0.00456927 & 0.00410045 & 1 \\\\\n",
       "\t10 & 0.00416084 & 0.00472746 & 0 \\\\\n",
       "\\end{tabular}\n"
      ],
      "text/plain": [
       "\u001b[1m10×3 DataFrame\u001b[0m\n",
       "\u001b[1m Row \u001b[0m│\u001b[1m CPU        \u001b[0m\u001b[1m GPU        \u001b[0m\u001b[1m Better_GPU \u001b[0m\n",
       "     │\u001b[90m Any        \u001b[0m\u001b[90m Any        \u001b[0m\u001b[90m Any        \u001b[0m\n",
       "─────┼────────────────────────────────────\n",
       "   1 │ 0.0109836   0.00871072  true\n",
       "   2 │ 0.00562893  0.0042425   true\n",
       "   3 │ 0.00437378  0.00416118  true\n",
       "   4 │ 0.00534084  0.0042255   true\n",
       "   5 │ 0.00445999  0.00433024  true\n",
       "   6 │ 0.0044766   0.00509347  false\n",
       "   7 │ 0.00368292  0.00413696  false\n",
       "   8 │ 0.00407031  0.00474042  false\n",
       "   9 │ 0.00456927  0.00410045  true\n",
       "  10 │ 0.00416084  0.00472746  false"
      ]
     },
     "metadata": {},
     "output_type": "display_data"
    }
   ],
   "source": [
    "df = simulate(100, 10)\n",
    "CSV.write(\"./3.csv\", df)\n",
    "df"
   ]
  },
  {
   "cell_type": "code",
   "execution_count": 29,
   "metadata": {},
   "outputs": [
    {
     "name": "stdout",
     "output_type": "stream",
     "text": [
      "Matrix size: 500x500\n",
      "Mean CPU time: 0.22621564679999998\n",
      "Mean GPU time: 0.21905796\n"
     ]
    },
    {
     "data": {
      "text/html": [
       "<div><div style = \"float: left;\"><span>10×3 DataFrame</span></div><div style = \"clear: both;\"></div></div><div class = \"data-frame\" style = \"overflow-x: scroll;\"><table class = \"data-frame\" style = \"margin-bottom: 6px;\"><thead><tr class = \"header\"><th class = \"rowNumber\" style = \"font-weight: bold; text-align: right;\">Row</th><th style = \"text-align: left;\">CPU</th><th style = \"text-align: left;\">GPU</th><th style = \"text-align: left;\">Better_GPU</th></tr><tr class = \"subheader headerLastRow\"><th class = \"rowNumber\" style = \"font-weight: bold; text-align: right;\"></th><th title = \"Any\" style = \"text-align: left;\">Any</th><th title = \"Any\" style = \"text-align: left;\">Any</th><th title = \"Any\" style = \"text-align: left;\">Any</th></tr></thead><tbody><tr><td class = \"rowNumber\" style = \"font-weight: bold; text-align: right;\">1</td><td style = \"text-align: left;\">0.318166</td><td style = \"text-align: left;\">0.221644</td><td style = \"text-align: left;\">true</td></tr><tr><td class = \"rowNumber\" style = \"font-weight: bold; text-align: right;\">2</td><td style = \"text-align: left;\">0.217924</td><td style = \"text-align: left;\">0.244743</td><td style = \"text-align: left;\">false</td></tr><tr><td class = \"rowNumber\" style = \"font-weight: bold; text-align: right;\">3</td><td style = \"text-align: left;\">0.232485</td><td style = \"text-align: left;\">0.216691</td><td style = \"text-align: left;\">true</td></tr><tr><td class = \"rowNumber\" style = \"font-weight: bold; text-align: right;\">4</td><td style = \"text-align: left;\">0.211161</td><td style = \"text-align: left;\">0.222412</td><td style = \"text-align: left;\">false</td></tr><tr><td class = \"rowNumber\" style = \"font-weight: bold; text-align: right;\">5</td><td style = \"text-align: left;\">0.217809</td><td style = \"text-align: left;\">0.220374</td><td style = \"text-align: left;\">false</td></tr><tr><td class = \"rowNumber\" style = \"font-weight: bold; text-align: right;\">6</td><td style = \"text-align: left;\">0.209655</td><td style = \"text-align: left;\">0.208358</td><td style = \"text-align: left;\">true</td></tr><tr><td class = \"rowNumber\" style = \"font-weight: bold; text-align: right;\">7</td><td style = \"text-align: left;\">0.212917</td><td style = \"text-align: left;\">0.219806</td><td style = \"text-align: left;\">false</td></tr><tr><td class = \"rowNumber\" style = \"font-weight: bold; text-align: right;\">8</td><td style = \"text-align: left;\">0.218339</td><td style = \"text-align: left;\">0.236126</td><td style = \"text-align: left;\">false</td></tr><tr><td class = \"rowNumber\" style = \"font-weight: bold; text-align: right;\">9</td><td style = \"text-align: left;\">0.176018</td><td style = \"text-align: left;\">0.173416</td><td style = \"text-align: left;\">true</td></tr><tr><td class = \"rowNumber\" style = \"font-weight: bold; text-align: right;\">10</td><td style = \"text-align: left;\">0.247682</td><td style = \"text-align: left;\">0.227009</td><td style = \"text-align: left;\">true</td></tr></tbody></table></div>"
      ],
      "text/latex": [
       "\\begin{tabular}{r|ccc}\n",
       "\t& CPU & GPU & Better\\_GPU\\\\\n",
       "\t\\hline\n",
       "\t& Any & Any & Any\\\\\n",
       "\t\\hline\n",
       "\t1 & 0.318166 & 0.221644 & 1 \\\\\n",
       "\t2 & 0.217924 & 0.244743 & 0 \\\\\n",
       "\t3 & 0.232485 & 0.216691 & 1 \\\\\n",
       "\t4 & 0.211161 & 0.222412 & 0 \\\\\n",
       "\t5 & 0.217809 & 0.220374 & 0 \\\\\n",
       "\t6 & 0.209655 & 0.208358 & 1 \\\\\n",
       "\t7 & 0.212917 & 0.219806 & 0 \\\\\n",
       "\t8 & 0.218339 & 0.236126 & 0 \\\\\n",
       "\t9 & 0.176018 & 0.173416 & 1 \\\\\n",
       "\t10 & 0.247682 & 0.227009 & 1 \\\\\n",
       "\\end{tabular}\n"
      ],
      "text/plain": [
       "\u001b[1m10×3 DataFrame\u001b[0m\n",
       "\u001b[1m Row \u001b[0m│\u001b[1m CPU      \u001b[0m\u001b[1m GPU      \u001b[0m\u001b[1m Better_GPU \u001b[0m\n",
       "     │\u001b[90m Any      \u001b[0m\u001b[90m Any      \u001b[0m\u001b[90m Any        \u001b[0m\n",
       "─────┼────────────────────────────────\n",
       "   1 │ 0.318166  0.221644  true\n",
       "   2 │ 0.217924  0.244743  false\n",
       "   3 │ 0.232485  0.216691  true\n",
       "   4 │ 0.211161  0.222412  false\n",
       "   5 │ 0.217809  0.220374  false\n",
       "   6 │ 0.209655  0.208358  true\n",
       "   7 │ 0.212917  0.219806  false\n",
       "   8 │ 0.218339  0.236126  false\n",
       "   9 │ 0.176018  0.173416  true\n",
       "  10 │ 0.247682  0.227009  true"
      ]
     },
     "metadata": {},
     "output_type": "display_data"
    }
   ],
   "source": [
    "df = simulate(500, 10)\n",
    "CSV.write(\"./4.csv\", df)\n",
    "df"
   ]
  },
  {
   "cell_type": "code",
   "execution_count": 31,
   "metadata": {},
   "outputs": [
    {
     "name": "stdout",
     "output_type": "stream",
     "text": [
      "Matrix size: 1000x1000\n",
      "Mean CPU time: 1.0050245189\n",
      "Mean GPU time: 1.0036176\n"
     ]
    },
    {
     "data": {
      "text/html": [
       "<div><div style = \"float: left;\"><span>10×3 DataFrame</span></div><div style = \"clear: both;\"></div></div><div class = \"data-frame\" style = \"overflow-x: scroll;\"><table class = \"data-frame\" style = \"margin-bottom: 6px;\"><thead><tr class = \"header\"><th class = \"rowNumber\" style = \"font-weight: bold; text-align: right;\">Row</th><th style = \"text-align: left;\">CPU</th><th style = \"text-align: left;\">GPU</th><th style = \"text-align: left;\">Better_GPU</th></tr><tr class = \"subheader headerLastRow\"><th class = \"rowNumber\" style = \"font-weight: bold; text-align: right;\"></th><th title = \"Any\" style = \"text-align: left;\">Any</th><th title = \"Any\" style = \"text-align: left;\">Any</th><th title = \"Any\" style = \"text-align: left;\">Any</th></tr></thead><tbody><tr><td class = \"rowNumber\" style = \"font-weight: bold; text-align: right;\">1</td><td style = \"text-align: left;\">0.862765</td><td style = \"text-align: left;\">1.24286</td><td style = \"text-align: left;\">false</td></tr><tr><td class = \"rowNumber\" style = \"font-weight: bold; text-align: right;\">2</td><td style = \"text-align: left;\">0.908936</td><td style = \"text-align: left;\">0.778609</td><td style = \"text-align: left;\">true</td></tr><tr><td class = \"rowNumber\" style = \"font-weight: bold; text-align: right;\">3</td><td style = \"text-align: left;\">0.792418</td><td style = \"text-align: left;\">0.861367</td><td style = \"text-align: left;\">false</td></tr><tr><td class = \"rowNumber\" style = \"font-weight: bold; text-align: right;\">4</td><td style = \"text-align: left;\">1.00584</td><td style = \"text-align: left;\">0.973661</td><td style = \"text-align: left;\">true</td></tr><tr><td class = \"rowNumber\" style = \"font-weight: bold; text-align: right;\">5</td><td style = \"text-align: left;\">1.01586</td><td style = \"text-align: left;\">0.937266</td><td style = \"text-align: left;\">true</td></tr><tr><td class = \"rowNumber\" style = \"font-weight: bold; text-align: right;\">6</td><td style = \"text-align: left;\">0.862171</td><td style = \"text-align: left;\">0.865705</td><td style = \"text-align: left;\">false</td></tr><tr><td class = \"rowNumber\" style = \"font-weight: bold; text-align: right;\">7</td><td style = \"text-align: left;\">1.17492</td><td style = \"text-align: left;\">0.996656</td><td style = \"text-align: left;\">true</td></tr><tr><td class = \"rowNumber\" style = \"font-weight: bold; text-align: right;\">8</td><td style = \"text-align: left;\">0.908927</td><td style = \"text-align: left;\">1.10976</td><td style = \"text-align: left;\">false</td></tr><tr><td class = \"rowNumber\" style = \"font-weight: bold; text-align: right;\">9</td><td style = \"text-align: left;\">1.08249</td><td style = \"text-align: left;\">1.05117</td><td style = \"text-align: left;\">true</td></tr><tr><td class = \"rowNumber\" style = \"font-weight: bold; text-align: right;\">10</td><td style = \"text-align: left;\">1.43591</td><td style = \"text-align: left;\">1.21912</td><td style = \"text-align: left;\">true</td></tr></tbody></table></div>"
      ],
      "text/latex": [
       "\\begin{tabular}{r|ccc}\n",
       "\t& CPU & GPU & Better\\_GPU\\\\\n",
       "\t\\hline\n",
       "\t& Any & Any & Any\\\\\n",
       "\t\\hline\n",
       "\t1 & 0.862765 & 1.24286 & 0 \\\\\n",
       "\t2 & 0.908936 & 0.778609 & 1 \\\\\n",
       "\t3 & 0.792418 & 0.861367 & 0 \\\\\n",
       "\t4 & 1.00584 & 0.973661 & 1 \\\\\n",
       "\t5 & 1.01586 & 0.937266 & 1 \\\\\n",
       "\t6 & 0.862171 & 0.865705 & 0 \\\\\n",
       "\t7 & 1.17492 & 0.996656 & 1 \\\\\n",
       "\t8 & 0.908927 & 1.10976 & 0 \\\\\n",
       "\t9 & 1.08249 & 1.05117 & 1 \\\\\n",
       "\t10 & 1.43591 & 1.21912 & 1 \\\\\n",
       "\\end{tabular}\n"
      ],
      "text/plain": [
       "\u001b[1m10×3 DataFrame\u001b[0m\n",
       "\u001b[1m Row \u001b[0m│\u001b[1m CPU      \u001b[0m\u001b[1m GPU      \u001b[0m\u001b[1m Better_GPU \u001b[0m\n",
       "     │\u001b[90m Any      \u001b[0m\u001b[90m Any      \u001b[0m\u001b[90m Any        \u001b[0m\n",
       "─────┼────────────────────────────────\n",
       "   1 │ 0.862765  1.24286   false\n",
       "   2 │ 0.908936  0.778609  true\n",
       "   3 │ 0.792418  0.861367  false\n",
       "   4 │ 1.00584   0.973661  true\n",
       "   5 │ 1.01586   0.937266  true\n",
       "   6 │ 0.862171  0.865705  false\n",
       "   7 │ 1.17492   0.996656  true\n",
       "   8 │ 0.908927  1.10976   false\n",
       "   9 │ 1.08249   1.05117   true\n",
       "  10 │ 1.43591   1.21912   true"
      ]
     },
     "metadata": {},
     "output_type": "display_data"
    }
   ],
   "source": [
    "df = simulate(1000, 10)\n",
    "CSV.write(\"./5.csv\", df)\n",
    "df"
   ]
  },
  {
   "cell_type": "code",
   "execution_count": null,
   "metadata": {},
   "outputs": [],
   "source": [
    "df = simulate(5000, 10)\n",
    "CSV.write(\"./6.csv\", df)\n",
    "df"
   ]
  },
  {
   "cell_type": "code",
   "execution_count": null,
   "metadata": {},
   "outputs": [],
   "source": [
    "df = simulate(10000, 10)\n",
    "CSV.write(\"./7.csv\", df)\n",
    "df"
   ]
  },
  {
   "cell_type": "code",
   "execution_count": null,
   "metadata": {},
   "outputs": [],
   "source": []
  }
 ],
 "metadata": {
  "kernelspec": {
   "display_name": "Julia 1.10.2",
   "language": "julia",
   "name": "julia-1.10"
  },
  "language_info": {
   "file_extension": ".jl",
   "mimetype": "application/julia",
   "name": "julia",
   "version": "1.10.2"
  }
 },
 "nbformat": 4,
 "nbformat_minor": 2
}
