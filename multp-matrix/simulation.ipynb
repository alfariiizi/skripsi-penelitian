{
 "cells": [
  {
   "cell_type": "code",
   "execution_count": 1,
   "metadata": {},
   "outputs": [],
   "source": [
    "using CUDA\n",
    "using TypedTables\n",
    "using DataFrames\n",
    "using Statistics\n",
    "using CSV"
   ]
  },
  {
   "cell_type": "code",
   "execution_count": 14,
   "metadata": {},
   "outputs": [
    {
     "data": {
      "text/plain": [
       "simulate_gpu (generic function with 1 method)"
      ]
     },
     "metadata": {},
     "output_type": "display_data"
    }
   ],
   "source": [
    "# CUDA\n",
    "\n",
    "function operation_gpu(A, B)\n",
    "    C = CUDA.zeros(Float32, size(A))\n",
    "    CUDA.@sync C = A * B\n",
    "    return C\n",
    "end\n",
    "\n",
    "function simulate_gpu(A_normal, B_normal)\n",
    "    # Convert your Float32 matrices to Float32 and then to CuArray{Float32}\n",
    "    A = CUDA.convert(CuArray{Float32}, A_normal)\n",
    "    B = CUDA.convert(CuArray{Float32}, B_normal)\n",
    "    # Mengukur waktu eksekusi\n",
    "    cuda_start = CUDA.@elapsed result_gpu = operation_gpu(A, B)\n",
    "    # println(\"Waktu eksekusi dengan CUDA: $cuda_start detik\")\n",
    "    return cuda_start\n",
    "end"
   ]
  },
  {
   "cell_type": "code",
   "execution_count": 15,
   "metadata": {},
   "outputs": [
    {
     "data": {
      "text/plain": [
       "simulate_cpu (generic function with 1 method)"
      ]
     },
     "metadata": {},
     "output_type": "display_data"
    }
   ],
   "source": [
    "# CPU\n",
    "\n",
    "function operation_cpu(A, B)\n",
    "    C = zeros(Float32, size(A))\n",
    "    C = A * B\n",
    "    return C\n",
    "end\n",
    "\n",
    "function simulate_cpu(A_normal, B_normal)\n",
    "    normal_start = @elapsed result_cpu = operation_cpu(A_normal, B_normal)\n",
    "    # println(\"Waktu eksekusi dengan CPU: $normal_start detik\")\n",
    "    return normal_start\n",
    "end"
   ]
  },
  {
   "cell_type": "code",
   "execution_count": 16,
   "metadata": {},
   "outputs": [
    {
     "data": {
      "text/plain": [
       "simulate (generic function with 1 method)"
      ]
     },
     "metadata": {},
     "output_type": "display_data"
    }
   ],
   "source": [
    "function simulate(N::Int64, n_loop::Int64)\n",
    "    println(\"Total size: $(N*N)\")\n",
    "    results_gpu = []\n",
    "    results_cpu = []\n",
    "    is_better_gpu = []\n",
    "    for i in 1:n_loop\n",
    "        A_normal = rand(Float32, N, N)\n",
    "        B_normal = rand(Float32, N, N)\n",
    "        benchmark_gpu = simulate_gpu(A_normal, B_normal)\n",
    "        benchmark_cpu = simulate_cpu(A_normal, B_normal)\n",
    "        push!(results_gpu, benchmark_gpu)\n",
    "        push!(results_cpu, benchmark_cpu)\n",
    "        push!(is_better_gpu, benchmark_gpu < benchmark_cpu)\n",
    "    end\n",
    "    println(\"Mean CPU: $(mean(results_cpu))\")\n",
    "    println(\"Mean GPU: $(mean(results_gpu))\")\n",
    "    return DataFrame(CPU=results_cpu, GPU=results_gpu, Better_GPU=is_better_gpu)\n",
    "end"
   ]
  },
  {
   "cell_type": "code",
   "execution_count": 20,
   "metadata": {},
   "outputs": [
    {
     "name": "stdout",
     "output_type": "stream",
     "text": [
      "Total size: 100\n",
      "Mean CPU: 2.1719000000000003e-6\n",
      "Mean GPU: 6.03936e-5\n"
     ]
    },
    {
     "data": {
      "text/html": [
       "<div><div style = \"float: left;\"><span>10×3 DataFrame</span></div><div style = \"clear: both;\"></div></div><div class = \"data-frame\" style = \"overflow-x: scroll;\"><table class = \"data-frame\" style = \"margin-bottom: 6px;\"><thead><tr class = \"header\"><th class = \"rowNumber\" style = \"font-weight: bold; text-align: right;\">Row</th><th style = \"text-align: left;\">CPU</th><th style = \"text-align: left;\">GPU</th><th style = \"text-align: left;\">Better_GPU</th></tr><tr class = \"subheader headerLastRow\"><th class = \"rowNumber\" style = \"font-weight: bold; text-align: right;\"></th><th title = \"Any\" style = \"text-align: left;\">Any</th><th title = \"Any\" style = \"text-align: left;\">Any</th><th title = \"Any\" style = \"text-align: left;\">Any</th></tr></thead><tbody><tr><td class = \"rowNumber\" style = \"font-weight: bold; text-align: right;\">1</td><td style = \"text-align: left;\">6.548e-6</td><td style = \"text-align: left;\">0.000151552</td><td style = \"text-align: left;\">false</td></tr><tr><td class = \"rowNumber\" style = \"font-weight: bold; text-align: right;\">2</td><td style = \"text-align: left;\">2.424e-6</td><td style = \"text-align: left;\">6.5536e-5</td><td style = \"text-align: left;\">false</td></tr><tr><td class = \"rowNumber\" style = \"font-weight: bold; text-align: right;\">3</td><td style = \"text-align: left;\">1.697e-6</td><td style = \"text-align: left;\">5.1104e-5</td><td style = \"text-align: left;\">false</td></tr><tr><td class = \"rowNumber\" style = \"font-weight: bold; text-align: right;\">4</td><td style = \"text-align: left;\">1.825e-6</td><td style = \"text-align: left;\">4.8128e-5</td><td style = \"text-align: left;\">false</td></tr><tr><td class = \"rowNumber\" style = \"font-weight: bold; text-align: right;\">5</td><td style = \"text-align: left;\">1.525e-6</td><td style = \"text-align: left;\">4.7104e-5</td><td style = \"text-align: left;\">false</td></tr><tr><td class = \"rowNumber\" style = \"font-weight: bold; text-align: right;\">6</td><td style = \"text-align: left;\">1.52e-6</td><td style = \"text-align: left;\">4.7104e-5</td><td style = \"text-align: left;\">false</td></tr><tr><td class = \"rowNumber\" style = \"font-weight: bold; text-align: right;\">7</td><td style = \"text-align: left;\">1.461e-6</td><td style = \"text-align: left;\">4.6976e-5</td><td style = \"text-align: left;\">false</td></tr><tr><td class = \"rowNumber\" style = \"font-weight: bold; text-align: right;\">8</td><td style = \"text-align: left;\">1.47e-6</td><td style = \"text-align: left;\">4.7104e-5</td><td style = \"text-align: left;\">false</td></tr><tr><td class = \"rowNumber\" style = \"font-weight: bold; text-align: right;\">9</td><td style = \"text-align: left;\">1.603e-6</td><td style = \"text-align: left;\">4.8128e-5</td><td style = \"text-align: left;\">false</td></tr><tr><td class = \"rowNumber\" style = \"font-weight: bold; text-align: right;\">10</td><td style = \"text-align: left;\">1.646e-6</td><td style = \"text-align: left;\">5.12e-5</td><td style = \"text-align: left;\">false</td></tr></tbody></table></div>"
      ],
      "text/latex": [
       "\\begin{tabular}{r|ccc}\n",
       "\t& CPU & GPU & Better\\_GPU\\\\\n",
       "\t\\hline\n",
       "\t& Any & Any & Any\\\\\n",
       "\t\\hline\n",
       "\t1 & 6.548e-6 & 0.000151552 & 0 \\\\\n",
       "\t2 & 2.424e-6 & 6.5536e-5 & 0 \\\\\n",
       "\t3 & 1.697e-6 & 5.1104e-5 & 0 \\\\\n",
       "\t4 & 1.825e-6 & 4.8128e-5 & 0 \\\\\n",
       "\t5 & 1.525e-6 & 4.7104e-5 & 0 \\\\\n",
       "\t6 & 1.52e-6 & 4.7104e-5 & 0 \\\\\n",
       "\t7 & 1.461e-6 & 4.6976e-5 & 0 \\\\\n",
       "\t8 & 1.47e-6 & 4.7104e-5 & 0 \\\\\n",
       "\t9 & 1.603e-6 & 4.8128e-5 & 0 \\\\\n",
       "\t10 & 1.646e-6 & 5.12e-5 & 0 \\\\\n",
       "\\end{tabular}\n"
      ],
      "text/plain": [
       "\u001b[1m10×3 DataFrame\u001b[0m\n",
       "\u001b[1m Row \u001b[0m│\u001b[1m CPU      \u001b[0m\u001b[1m GPU         \u001b[0m\u001b[1m Better_GPU \u001b[0m\n",
       "     │\u001b[90m Any      \u001b[0m\u001b[90m Any         \u001b[0m\u001b[90m Any        \u001b[0m\n",
       "─────┼───────────────────────────────────\n",
       "   1 │ 6.548e-6  0.000151552  false\n",
       "   2 │ 2.424e-6  6.5536e-5    false\n",
       "   3 │ 1.697e-6  5.1104e-5    false\n",
       "   4 │ 1.825e-6  4.8128e-5    false\n",
       "   5 │ 1.525e-6  4.7104e-5    false\n",
       "   6 │ 1.52e-6   4.7104e-5    false\n",
       "   7 │ 1.461e-6  4.6976e-5    false\n",
       "   8 │ 1.47e-6   4.7104e-5    false\n",
       "   9 │ 1.603e-6  4.8128e-5    false\n",
       "  10 │ 1.646e-6  5.12e-5      false"
      ]
     },
     "metadata": {},
     "output_type": "display_data"
    }
   ],
   "source": [
    "df = simulate(10, 10)\n",
    "CSV.write(\"./1.csv\", df)\n",
    "df"
   ]
  },
  {
   "cell_type": "code",
   "execution_count": 24,
   "metadata": {},
   "outputs": [
    {
     "name": "stdout",
     "output_type": "stream",
     "text": [
      "Total size: 2500\n",
      "Mean CPU: 2.88459e-5\n",
      "Mean GPU: 9.71872e-5\n"
     ]
    },
    {
     "data": {
      "text/html": [
       "<div><div style = \"float: left;\"><span>10×3 DataFrame</span></div><div style = \"clear: both;\"></div></div><div class = \"data-frame\" style = \"overflow-x: scroll;\"><table class = \"data-frame\" style = \"margin-bottom: 6px;\"><thead><tr class = \"header\"><th class = \"rowNumber\" style = \"font-weight: bold; text-align: right;\">Row</th><th style = \"text-align: left;\">CPU</th><th style = \"text-align: left;\">GPU</th><th style = \"text-align: left;\">Better_GPU</th></tr><tr class = \"subheader headerLastRow\"><th class = \"rowNumber\" style = \"font-weight: bold; text-align: right;\"></th><th title = \"Any\" style = \"text-align: left;\">Any</th><th title = \"Any\" style = \"text-align: left;\">Any</th><th title = \"Any\" style = \"text-align: left;\">Any</th></tr></thead><tbody><tr><td class = \"rowNumber\" style = \"font-weight: bold; text-align: right;\">1</td><td style = \"text-align: left;\">3.1027e-5</td><td style = \"text-align: left;\">0.000177152</td><td style = \"text-align: left;\">false</td></tr><tr><td class = \"rowNumber\" style = \"font-weight: bold; text-align: right;\">2</td><td style = \"text-align: left;\">2.3951e-5</td><td style = \"text-align: left;\">0.000116736</td><td style = \"text-align: left;\">false</td></tr><tr><td class = \"rowNumber\" style = \"font-weight: bold; text-align: right;\">3</td><td style = \"text-align: left;\">8.6114e-5</td><td style = \"text-align: left;\">8.6016e-5</td><td style = \"text-align: left;\">true</td></tr><tr><td class = \"rowNumber\" style = \"font-weight: bold; text-align: right;\">4</td><td style = \"text-align: left;\">1.804e-5</td><td style = \"text-align: left;\">8.8064e-5</td><td style = \"text-align: left;\">false</td></tr><tr><td class = \"rowNumber\" style = \"font-weight: bold; text-align: right;\">5</td><td style = \"text-align: left;\">2.2871e-5</td><td style = \"text-align: left;\">7.6896e-5</td><td style = \"text-align: left;\">false</td></tr><tr><td class = \"rowNumber\" style = \"font-weight: bold; text-align: right;\">6</td><td style = \"text-align: left;\">2.4908e-5</td><td style = \"text-align: left;\">8.192e-5</td><td style = \"text-align: left;\">false</td></tr><tr><td class = \"rowNumber\" style = \"font-weight: bold; text-align: right;\">7</td><td style = \"text-align: left;\">1.7488e-5</td><td style = \"text-align: left;\">7.9872e-5</td><td style = \"text-align: left;\">false</td></tr><tr><td class = \"rowNumber\" style = \"font-weight: bold; text-align: right;\">8</td><td style = \"text-align: left;\">2.1475e-5</td><td style = \"text-align: left;\">0.000104448</td><td style = \"text-align: left;\">false</td></tr><tr><td class = \"rowNumber\" style = \"font-weight: bold; text-align: right;\">9</td><td style = \"text-align: left;\">2.0318e-5</td><td style = \"text-align: left;\">8.192e-5</td><td style = \"text-align: left;\">false</td></tr><tr><td class = \"rowNumber\" style = \"font-weight: bold; text-align: right;\">10</td><td style = \"text-align: left;\">2.2267e-5</td><td style = \"text-align: left;\">7.8848e-5</td><td style = \"text-align: left;\">false</td></tr></tbody></table></div>"
      ],
      "text/latex": [
       "\\begin{tabular}{r|ccc}\n",
       "\t& CPU & GPU & Better\\_GPU\\\\\n",
       "\t\\hline\n",
       "\t& Any & Any & Any\\\\\n",
       "\t\\hline\n",
       "\t1 & 3.1027e-5 & 0.000177152 & 0 \\\\\n",
       "\t2 & 2.3951e-5 & 0.000116736 & 0 \\\\\n",
       "\t3 & 8.6114e-5 & 8.6016e-5 & 1 \\\\\n",
       "\t4 & 1.804e-5 & 8.8064e-5 & 0 \\\\\n",
       "\t5 & 2.2871e-5 & 7.6896e-5 & 0 \\\\\n",
       "\t6 & 2.4908e-5 & 8.192e-5 & 0 \\\\\n",
       "\t7 & 1.7488e-5 & 7.9872e-5 & 0 \\\\\n",
       "\t8 & 2.1475e-5 & 0.000104448 & 0 \\\\\n",
       "\t9 & 2.0318e-5 & 8.192e-5 & 0 \\\\\n",
       "\t10 & 2.2267e-5 & 7.8848e-5 & 0 \\\\\n",
       "\\end{tabular}\n"
      ],
      "text/plain": [
       "\u001b[1m10×3 DataFrame\u001b[0m\n",
       "\u001b[1m Row \u001b[0m│\u001b[1m CPU       \u001b[0m\u001b[1m GPU         \u001b[0m\u001b[1m Better_GPU \u001b[0m\n",
       "     │\u001b[90m Any       \u001b[0m\u001b[90m Any         \u001b[0m\u001b[90m Any        \u001b[0m\n",
       "─────┼────────────────────────────────────\n",
       "   1 │ 3.1027e-5  0.000177152  false\n",
       "   2 │ 2.3951e-5  0.000116736  false\n",
       "   3 │ 8.6114e-5  8.6016e-5    true\n",
       "   4 │ 1.804e-5   8.8064e-5    false\n",
       "   5 │ 2.2871e-5  7.6896e-5    false\n",
       "   6 │ 2.4908e-5  8.192e-5     false\n",
       "   7 │ 1.7488e-5  7.9872e-5    false\n",
       "   8 │ 2.1475e-5  0.000104448  false\n",
       "   9 │ 2.0318e-5  8.192e-5     false\n",
       "  10 │ 2.2267e-5  7.8848e-5    false"
      ]
     },
     "metadata": {},
     "output_type": "display_data"
    }
   ],
   "source": [
    "df = simulate(50, 10)\n",
    "CSV.write(\"./2.csv\", df)\n",
    "df"
   ]
  },
  {
   "cell_type": "code",
   "execution_count": 25,
   "metadata": {},
   "outputs": [
    {
     "name": "stdout",
     "output_type": "stream",
     "text": [
      "Total size: 10000\n",
      "Mean CPU: 0.0004589816\n",
      "Mean GPU: 9.81152e-5\n"
     ]
    },
    {
     "data": {
      "text/html": [
       "<div><div style = \"float: left;\"><span>10×3 DataFrame</span></div><div style = \"clear: both;\"></div></div><div class = \"data-frame\" style = \"overflow-x: scroll;\"><table class = \"data-frame\" style = \"margin-bottom: 6px;\"><thead><tr class = \"header\"><th class = \"rowNumber\" style = \"font-weight: bold; text-align: right;\">Row</th><th style = \"text-align: left;\">CPU</th><th style = \"text-align: left;\">GPU</th><th style = \"text-align: left;\">Better_GPU</th></tr><tr class = \"subheader headerLastRow\"><th class = \"rowNumber\" style = \"font-weight: bold; text-align: right;\"></th><th title = \"Any\" style = \"text-align: left;\">Any</th><th title = \"Any\" style = \"text-align: left;\">Any</th><th title = \"Any\" style = \"text-align: left;\">Any</th></tr></thead><tbody><tr><td class = \"rowNumber\" style = \"font-weight: bold; text-align: right;\">1</td><td style = \"text-align: left;\">0.00225168</td><td style = \"text-align: left;\">0.000140352</td><td style = \"text-align: left;\">true</td></tr><tr><td class = \"rowNumber\" style = \"font-weight: bold; text-align: right;\">2</td><td style = \"text-align: left;\">0.000431572</td><td style = \"text-align: left;\">0.000185344</td><td style = \"text-align: left;\">true</td></tr><tr><td class = \"rowNumber\" style = \"font-weight: bold; text-align: right;\">3</td><td style = \"text-align: left;\">0.000255873</td><td style = \"text-align: left;\">0.000111712</td><td style = \"text-align: left;\">true</td></tr><tr><td class = \"rowNumber\" style = \"font-weight: bold; text-align: right;\">4</td><td style = \"text-align: left;\">0.000256908</td><td style = \"text-align: left;\">8.3968e-5</td><td style = \"text-align: left;\">true</td></tr><tr><td class = \"rowNumber\" style = \"font-weight: bold; text-align: right;\">5</td><td style = \"text-align: left;\">0.000234081</td><td style = \"text-align: left;\">7.8848e-5</td><td style = \"text-align: left;\">true</td></tr><tr><td class = \"rowNumber\" style = \"font-weight: bold; text-align: right;\">6</td><td style = \"text-align: left;\">0.00024398</td><td style = \"text-align: left;\">7.68e-5</td><td style = \"text-align: left;\">true</td></tr><tr><td class = \"rowNumber\" style = \"font-weight: bold; text-align: right;\">7</td><td style = \"text-align: left;\">0.000231346</td><td style = \"text-align: left;\">7.2704e-5</td><td style = \"text-align: left;\">true</td></tr><tr><td class = \"rowNumber\" style = \"font-weight: bold; text-align: right;\">8</td><td style = \"text-align: left;\">0.000234882</td><td style = \"text-align: left;\">7.7824e-5</td><td style = \"text-align: left;\">true</td></tr><tr><td class = \"rowNumber\" style = \"font-weight: bold; text-align: right;\">9</td><td style = \"text-align: left;\">0.000229383</td><td style = \"text-align: left;\">7.7824e-5</td><td style = \"text-align: left;\">true</td></tr><tr><td class = \"rowNumber\" style = \"font-weight: bold; text-align: right;\">10</td><td style = \"text-align: left;\">0.000220115</td><td style = \"text-align: left;\">7.5776e-5</td><td style = \"text-align: left;\">true</td></tr></tbody></table></div>"
      ],
      "text/latex": [
       "\\begin{tabular}{r|ccc}\n",
       "\t& CPU & GPU & Better\\_GPU\\\\\n",
       "\t\\hline\n",
       "\t& Any & Any & Any\\\\\n",
       "\t\\hline\n",
       "\t1 & 0.00225168 & 0.000140352 & 1 \\\\\n",
       "\t2 & 0.000431572 & 0.000185344 & 1 \\\\\n",
       "\t3 & 0.000255873 & 0.000111712 & 1 \\\\\n",
       "\t4 & 0.000256908 & 8.3968e-5 & 1 \\\\\n",
       "\t5 & 0.000234081 & 7.8848e-5 & 1 \\\\\n",
       "\t6 & 0.00024398 & 7.68e-5 & 1 \\\\\n",
       "\t7 & 0.000231346 & 7.2704e-5 & 1 \\\\\n",
       "\t8 & 0.000234882 & 7.7824e-5 & 1 \\\\\n",
       "\t9 & 0.000229383 & 7.7824e-5 & 1 \\\\\n",
       "\t10 & 0.000220115 & 7.5776e-5 & 1 \\\\\n",
       "\\end{tabular}\n"
      ],
      "text/plain": [
       "\u001b[1m10×3 DataFrame\u001b[0m\n",
       "\u001b[1m Row \u001b[0m│\u001b[1m CPU         \u001b[0m\u001b[1m GPU         \u001b[0m\u001b[1m Better_GPU \u001b[0m\n",
       "     │\u001b[90m Any         \u001b[0m\u001b[90m Any         \u001b[0m\u001b[90m Any        \u001b[0m\n",
       "─────┼──────────────────────────────────────\n",
       "   1 │ 0.00225168   0.000140352  true\n",
       "   2 │ 0.000431572  0.000185344  true\n",
       "   3 │ 0.000255873  0.000111712  true\n",
       "   4 │ 0.000256908  8.3968e-5    true\n",
       "   5 │ 0.000234081  7.8848e-5    true\n",
       "   6 │ 0.00024398   7.68e-5      true\n",
       "   7 │ 0.000231346  7.2704e-5    true\n",
       "   8 │ 0.000234882  7.7824e-5    true\n",
       "   9 │ 0.000229383  7.7824e-5    true\n",
       "  10 │ 0.000220115  7.5776e-5    true"
      ]
     },
     "metadata": {},
     "output_type": "display_data"
    }
   ],
   "source": [
    "df = simulate(100, 10)\n",
    "CSV.write(\"./3.csv\", df)\n",
    "df"
   ]
  },
  {
   "cell_type": "code",
   "execution_count": 26,
   "metadata": {},
   "outputs": [
    {
     "name": "stdout",
     "output_type": "stream",
     "text": [
      "Total size: 250000\n",
      "Mean CPU: 0.0032832404000000003\n",
      "Mean GPU: 0.0004160896\n"
     ]
    },
    {
     "data": {
      "text/html": [
       "<div><div style = \"float: left;\"><span>10×3 DataFrame</span></div><div style = \"clear: both;\"></div></div><div class = \"data-frame\" style = \"overflow-x: scroll;\"><table class = \"data-frame\" style = \"margin-bottom: 6px;\"><thead><tr class = \"header\"><th class = \"rowNumber\" style = \"font-weight: bold; text-align: right;\">Row</th><th style = \"text-align: left;\">CPU</th><th style = \"text-align: left;\">GPU</th><th style = \"text-align: left;\">Better_GPU</th></tr><tr class = \"subheader headerLastRow\"><th class = \"rowNumber\" style = \"font-weight: bold; text-align: right;\"></th><th title = \"Any\" style = \"text-align: left;\">Any</th><th title = \"Any\" style = \"text-align: left;\">Any</th><th title = \"Any\" style = \"text-align: left;\">Any</th></tr></thead><tbody><tr><td class = \"rowNumber\" style = \"font-weight: bold; text-align: right;\">1</td><td style = \"text-align: left;\">0.0033096</td><td style = \"text-align: left;\">0.000554848</td><td style = \"text-align: left;\">true</td></tr><tr><td class = \"rowNumber\" style = \"font-weight: bold; text-align: right;\">2</td><td style = \"text-align: left;\">0.0021114</td><td style = \"text-align: left;\">0.000408864</td><td style = \"text-align: left;\">true</td></tr><tr><td class = \"rowNumber\" style = \"font-weight: bold; text-align: right;\">3</td><td style = \"text-align: left;\">0.00209852</td><td style = \"text-align: left;\">0.000382816</td><td style = \"text-align: left;\">true</td></tr><tr><td class = \"rowNumber\" style = \"font-weight: bold; text-align: right;\">4</td><td style = \"text-align: left;\">0.00258531</td><td style = \"text-align: left;\">0.000388608</td><td style = \"text-align: left;\">true</td></tr><tr><td class = \"rowNumber\" style = \"font-weight: bold; text-align: right;\">5</td><td style = \"text-align: left;\">0.00274567</td><td style = \"text-align: left;\">0.000389888</td><td style = \"text-align: left;\">true</td></tr><tr><td class = \"rowNumber\" style = \"font-weight: bold; text-align: right;\">6</td><td style = \"text-align: left;\">0.00220663</td><td style = \"text-align: left;\">0.000390688</td><td style = \"text-align: left;\">true</td></tr><tr><td class = \"rowNumber\" style = \"font-weight: bold; text-align: right;\">7</td><td style = \"text-align: left;\">0.00363327</td><td style = \"text-align: left;\">0.000400768</td><td style = \"text-align: left;\">true</td></tr><tr><td class = \"rowNumber\" style = \"font-weight: bold; text-align: right;\">8</td><td style = \"text-align: left;\">0.00260534</td><td style = \"text-align: left;\">0.000470752</td><td style = \"text-align: left;\">true</td></tr><tr><td class = \"rowNumber\" style = \"font-weight: bold; text-align: right;\">9</td><td style = \"text-align: left;\">0.00256405</td><td style = \"text-align: left;\">0.00038896</td><td style = \"text-align: left;\">true</td></tr><tr><td class = \"rowNumber\" style = \"font-weight: bold; text-align: right;\">10</td><td style = \"text-align: left;\">0.00897262</td><td style = \"text-align: left;\">0.000384704</td><td style = \"text-align: left;\">true</td></tr></tbody></table></div>"
      ],
      "text/latex": [
       "\\begin{tabular}{r|ccc}\n",
       "\t& CPU & GPU & Better\\_GPU\\\\\n",
       "\t\\hline\n",
       "\t& Any & Any & Any\\\\\n",
       "\t\\hline\n",
       "\t1 & 0.0033096 & 0.000554848 & 1 \\\\\n",
       "\t2 & 0.0021114 & 0.000408864 & 1 \\\\\n",
       "\t3 & 0.00209852 & 0.000382816 & 1 \\\\\n",
       "\t4 & 0.00258531 & 0.000388608 & 1 \\\\\n",
       "\t5 & 0.00274567 & 0.000389888 & 1 \\\\\n",
       "\t6 & 0.00220663 & 0.000390688 & 1 \\\\\n",
       "\t7 & 0.00363327 & 0.000400768 & 1 \\\\\n",
       "\t8 & 0.00260534 & 0.000470752 & 1 \\\\\n",
       "\t9 & 0.00256405 & 0.00038896 & 1 \\\\\n",
       "\t10 & 0.00897262 & 0.000384704 & 1 \\\\\n",
       "\\end{tabular}\n"
      ],
      "text/plain": [
       "\u001b[1m10×3 DataFrame\u001b[0m\n",
       "\u001b[1m Row \u001b[0m│\u001b[1m CPU        \u001b[0m\u001b[1m GPU         \u001b[0m\u001b[1m Better_GPU \u001b[0m\n",
       "     │\u001b[90m Any        \u001b[0m\u001b[90m Any         \u001b[0m\u001b[90m Any        \u001b[0m\n",
       "─────┼─────────────────────────────────────\n",
       "   1 │ 0.0033096   0.000554848  true\n",
       "   2 │ 0.0021114   0.000408864  true\n",
       "   3 │ 0.00209852  0.000382816  true\n",
       "   4 │ 0.00258531  0.000388608  true\n",
       "   5 │ 0.00274567  0.000389888  true\n",
       "   6 │ 0.00220663  0.000390688  true\n",
       "   7 │ 0.00363327  0.000400768  true\n",
       "   8 │ 0.00260534  0.000470752  true\n",
       "   9 │ 0.00256405  0.00038896   true\n",
       "  10 │ 0.00897262  0.000384704  true"
      ]
     },
     "metadata": {},
     "output_type": "display_data"
    }
   ],
   "source": [
    "df = simulate(500, 10)\n",
    "CSV.write(\"./4.csv\", df)\n",
    "df"
   ]
  },
  {
   "cell_type": "code",
   "execution_count": 27,
   "metadata": {},
   "outputs": [
    {
     "name": "stdout",
     "output_type": "stream",
     "text": [
      "Total size: 1000000\n",
      "Mean CPU: 0.017756165900000002\n",
      "Mean GPU: 0.0034048571\n"
     ]
    },
    {
     "data": {
      "text/html": [
       "<div><div style = \"float: left;\"><span>10×3 DataFrame</span></div><div style = \"clear: both;\"></div></div><div class = \"data-frame\" style = \"overflow-x: scroll;\"><table class = \"data-frame\" style = \"margin-bottom: 6px;\"><thead><tr class = \"header\"><th class = \"rowNumber\" style = \"font-weight: bold; text-align: right;\">Row</th><th style = \"text-align: left;\">CPU</th><th style = \"text-align: left;\">GPU</th><th style = \"text-align: left;\">Better_GPU</th></tr><tr class = \"subheader headerLastRow\"><th class = \"rowNumber\" style = \"font-weight: bold; text-align: right;\"></th><th title = \"Any\" style = \"text-align: left;\">Any</th><th title = \"Any\" style = \"text-align: left;\">Any</th><th title = \"Any\" style = \"text-align: left;\">Any</th></tr></thead><tbody><tr><td class = \"rowNumber\" style = \"font-weight: bold; text-align: right;\">1</td><td style = \"text-align: left;\">0.0154194</td><td style = \"text-align: left;\">0.00254166</td><td style = \"text-align: left;\">true</td></tr><tr><td class = \"rowNumber\" style = \"font-weight: bold; text-align: right;\">2</td><td style = \"text-align: left;\">0.017074</td><td style = \"text-align: left;\">0.00261578</td><td style = \"text-align: left;\">true</td></tr><tr><td class = \"rowNumber\" style = \"font-weight: bold; text-align: right;\">3</td><td style = \"text-align: left;\">0.0319458</td><td style = \"text-align: left;\">0.010678</td><td style = \"text-align: left;\">true</td></tr><tr><td class = \"rowNumber\" style = \"font-weight: bold; text-align: right;\">4</td><td style = \"text-align: left;\">0.0192265</td><td style = \"text-align: left;\">0.00269469</td><td style = \"text-align: left;\">true</td></tr><tr><td class = \"rowNumber\" style = \"font-weight: bold; text-align: right;\">5</td><td style = \"text-align: left;\">0.0143915</td><td style = \"text-align: left;\">0.00248198</td><td style = \"text-align: left;\">true</td></tr><tr><td class = \"rowNumber\" style = \"font-weight: bold; text-align: right;\">6</td><td style = \"text-align: left;\">0.0206225</td><td style = \"text-align: left;\">0.00292861</td><td style = \"text-align: left;\">true</td></tr><tr><td class = \"rowNumber\" style = \"font-weight: bold; text-align: right;\">7</td><td style = \"text-align: left;\">0.015005</td><td style = \"text-align: left;\">0.00248112</td><td style = \"text-align: left;\">true</td></tr><tr><td class = \"rowNumber\" style = \"font-weight: bold; text-align: right;\">8</td><td style = \"text-align: left;\">0.0157706</td><td style = \"text-align: left;\">0.00252554</td><td style = \"text-align: left;\">true</td></tr><tr><td class = \"rowNumber\" style = \"font-weight: bold; text-align: right;\">9</td><td style = \"text-align: left;\">0.0140647</td><td style = \"text-align: left;\">0.00259811</td><td style = \"text-align: left;\">true</td></tr><tr><td class = \"rowNumber\" style = \"font-weight: bold; text-align: right;\">10</td><td style = \"text-align: left;\">0.0140417</td><td style = \"text-align: left;\">0.00250314</td><td style = \"text-align: left;\">true</td></tr></tbody></table></div>"
      ],
      "text/latex": [
       "\\begin{tabular}{r|ccc}\n",
       "\t& CPU & GPU & Better\\_GPU\\\\\n",
       "\t\\hline\n",
       "\t& Any & Any & Any\\\\\n",
       "\t\\hline\n",
       "\t1 & 0.0154194 & 0.00254166 & 1 \\\\\n",
       "\t2 & 0.017074 & 0.00261578 & 1 \\\\\n",
       "\t3 & 0.0319458 & 0.010678 & 1 \\\\\n",
       "\t4 & 0.0192265 & 0.00269469 & 1 \\\\\n",
       "\t5 & 0.0143915 & 0.00248198 & 1 \\\\\n",
       "\t6 & 0.0206225 & 0.00292861 & 1 \\\\\n",
       "\t7 & 0.015005 & 0.00248112 & 1 \\\\\n",
       "\t8 & 0.0157706 & 0.00252554 & 1 \\\\\n",
       "\t9 & 0.0140647 & 0.00259811 & 1 \\\\\n",
       "\t10 & 0.0140417 & 0.00250314 & 1 \\\\\n",
       "\\end{tabular}\n"
      ],
      "text/plain": [
       "\u001b[1m10×3 DataFrame\u001b[0m\n",
       "\u001b[1m Row \u001b[0m│\u001b[1m CPU       \u001b[0m\u001b[1m GPU        \u001b[0m\u001b[1m Better_GPU \u001b[0m\n",
       "     │\u001b[90m Any       \u001b[0m\u001b[90m Any        \u001b[0m\u001b[90m Any        \u001b[0m\n",
       "─────┼───────────────────────────────────\n",
       "   1 │ 0.0154194  0.00254166  true\n",
       "   2 │ 0.017074   0.00261578  true\n",
       "   3 │ 0.0319458  0.010678    true\n",
       "   4 │ 0.0192265  0.00269469  true\n",
       "   5 │ 0.0143915  0.00248198  true\n",
       "   6 │ 0.0206225  0.00292861  true\n",
       "   7 │ 0.015005   0.00248112  true\n",
       "   8 │ 0.0157706  0.00252554  true\n",
       "   9 │ 0.0140647  0.00259811  true\n",
       "  10 │ 0.0140417  0.00250314  true"
      ]
     },
     "metadata": {},
     "output_type": "display_data"
    }
   ],
   "source": [
    "df = simulate(1000, 10)\n",
    "CSV.write(\"./5.csv\", df)\n",
    "df"
   ]
  },
  {
   "cell_type": "code",
   "execution_count": 28,
   "metadata": {},
   "outputs": [
    {
     "name": "stdout",
     "output_type": "stream",
     "text": [
      "Total size: 25000000\n",
      "Mean CPU: 1.2315838221\n",
      "Mean GPU: 0.29779717\n"
     ]
    },
    {
     "data": {
      "text/html": [
       "<div><div style = \"float: left;\"><span>10×3 DataFrame</span></div><div style = \"clear: both;\"></div></div><div class = \"data-frame\" style = \"overflow-x: scroll;\"><table class = \"data-frame\" style = \"margin-bottom: 6px;\"><thead><tr class = \"header\"><th class = \"rowNumber\" style = \"font-weight: bold; text-align: right;\">Row</th><th style = \"text-align: left;\">CPU</th><th style = \"text-align: left;\">GPU</th><th style = \"text-align: left;\">Better_GPU</th></tr><tr class = \"subheader headerLastRow\"><th class = \"rowNumber\" style = \"font-weight: bold; text-align: right;\"></th><th title = \"Any\" style = \"text-align: left;\">Any</th><th title = \"Any\" style = \"text-align: left;\">Any</th><th title = \"Any\" style = \"text-align: left;\">Any</th></tr></thead><tbody><tr><td class = \"rowNumber\" style = \"font-weight: bold; text-align: right;\">1</td><td style = \"text-align: left;\">1.39156</td><td style = \"text-align: left;\">0.2984</td><td style = \"text-align: left;\">true</td></tr><tr><td class = \"rowNumber\" style = \"font-weight: bold; text-align: right;\">2</td><td style = \"text-align: left;\">1.44284</td><td style = \"text-align: left;\">0.29229</td><td style = \"text-align: left;\">true</td></tr><tr><td class = \"rowNumber\" style = \"font-weight: bold; text-align: right;\">3</td><td style = \"text-align: left;\">1.20652</td><td style = \"text-align: left;\">0.293076</td><td style = \"text-align: left;\">true</td></tr><tr><td class = \"rowNumber\" style = \"font-weight: bold; text-align: right;\">4</td><td style = \"text-align: left;\">1.02825</td><td style = \"text-align: left;\">0.299387</td><td style = \"text-align: left;\">true</td></tr><tr><td class = \"rowNumber\" style = \"font-weight: bold; text-align: right;\">5</td><td style = \"text-align: left;\">1.45917</td><td style = \"text-align: left;\">0.292907</td><td style = \"text-align: left;\">true</td></tr><tr><td class = \"rowNumber\" style = \"font-weight: bold; text-align: right;\">6</td><td style = \"text-align: left;\">1.03024</td><td style = \"text-align: left;\">0.29525</td><td style = \"text-align: left;\">true</td></tr><tr><td class = \"rowNumber\" style = \"font-weight: bold; text-align: right;\">7</td><td style = \"text-align: left;\">1.08469</td><td style = \"text-align: left;\">0.294597</td><td style = \"text-align: left;\">true</td></tr><tr><td class = \"rowNumber\" style = \"font-weight: bold; text-align: right;\">8</td><td style = \"text-align: left;\">1.27591</td><td style = \"text-align: left;\">0.310019</td><td style = \"text-align: left;\">true</td></tr><tr><td class = \"rowNumber\" style = \"font-weight: bold; text-align: right;\">9</td><td style = \"text-align: left;\">1.08626</td><td style = \"text-align: left;\">0.296031</td><td style = \"text-align: left;\">true</td></tr><tr><td class = \"rowNumber\" style = \"font-weight: bold; text-align: right;\">10</td><td style = \"text-align: left;\">1.31041</td><td style = \"text-align: left;\">0.306014</td><td style = \"text-align: left;\">true</td></tr></tbody></table></div>"
      ],
      "text/latex": [
       "\\begin{tabular}{r|ccc}\n",
       "\t& CPU & GPU & Better\\_GPU\\\\\n",
       "\t\\hline\n",
       "\t& Any & Any & Any\\\\\n",
       "\t\\hline\n",
       "\t1 & 1.39156 & 0.2984 & 1 \\\\\n",
       "\t2 & 1.44284 & 0.29229 & 1 \\\\\n",
       "\t3 & 1.20652 & 0.293076 & 1 \\\\\n",
       "\t4 & 1.02825 & 0.299387 & 1 \\\\\n",
       "\t5 & 1.45917 & 0.292907 & 1 \\\\\n",
       "\t6 & 1.03024 & 0.29525 & 1 \\\\\n",
       "\t7 & 1.08469 & 0.294597 & 1 \\\\\n",
       "\t8 & 1.27591 & 0.310019 & 1 \\\\\n",
       "\t9 & 1.08626 & 0.296031 & 1 \\\\\n",
       "\t10 & 1.31041 & 0.306014 & 1 \\\\\n",
       "\\end{tabular}\n"
      ],
      "text/plain": [
       "\u001b[1m10×3 DataFrame\u001b[0m\n",
       "\u001b[1m Row \u001b[0m│\u001b[1m CPU     \u001b[0m\u001b[1m GPU      \u001b[0m\u001b[1m Better_GPU \u001b[0m\n",
       "     │\u001b[90m Any     \u001b[0m\u001b[90m Any      \u001b[0m\u001b[90m Any        \u001b[0m\n",
       "─────┼───────────────────────────────\n",
       "   1 │ 1.39156  0.2984    true\n",
       "   2 │ 1.44284  0.29229   true\n",
       "   3 │ 1.20652  0.293076  true\n",
       "   4 │ 1.02825  0.299387  true\n",
       "   5 │ 1.45917  0.292907  true\n",
       "   6 │ 1.03024  0.29525   true\n",
       "   7 │ 1.08469  0.294597  true\n",
       "   8 │ 1.27591  0.310019  true\n",
       "   9 │ 1.08626  0.296031  true\n",
       "  10 │ 1.31041  0.306014  true"
      ]
     },
     "metadata": {},
     "output_type": "display_data"
    }
   ],
   "source": [
    "df = simulate(5000, 10)\n",
    "CSV.write(\"./6.csv\", df)\n",
    "df"
   ]
  },
  {
   "cell_type": "code",
   "execution_count": 29,
   "metadata": {},
   "outputs": [
    {
     "name": "stdout",
     "output_type": "stream",
     "text": [
      "Total size: 100000000\n",
      "Mean CPU: 25.7547176659\n",
      "Mean GPU: 2.2115183\n"
     ]
    },
    {
     "data": {
      "text/html": [
       "<div><div style = \"float: left;\"><span>10×3 DataFrame</span></div><div style = \"clear: both;\"></div></div><div class = \"data-frame\" style = \"overflow-x: scroll;\"><table class = \"data-frame\" style = \"margin-bottom: 6px;\"><thead><tr class = \"header\"><th class = \"rowNumber\" style = \"font-weight: bold; text-align: right;\">Row</th><th style = \"text-align: left;\">CPU</th><th style = \"text-align: left;\">GPU</th><th style = \"text-align: left;\">Better_GPU</th></tr><tr class = \"subheader headerLastRow\"><th class = \"rowNumber\" style = \"font-weight: bold; text-align: right;\"></th><th title = \"Any\" style = \"text-align: left;\">Any</th><th title = \"Any\" style = \"text-align: left;\">Any</th><th title = \"Any\" style = \"text-align: left;\">Any</th></tr></thead><tbody><tr><td class = \"rowNumber\" style = \"font-weight: bold; text-align: right;\">1</td><td style = \"text-align: left;\">9.44689</td><td style = \"text-align: left;\">2.0698</td><td style = \"text-align: left;\">true</td></tr><tr><td class = \"rowNumber\" style = \"font-weight: bold; text-align: right;\">2</td><td style = \"text-align: left;\">12.3255</td><td style = \"text-align: left;\">2.06541</td><td style = \"text-align: left;\">true</td></tr><tr><td class = \"rowNumber\" style = \"font-weight: bold; text-align: right;\">3</td><td style = \"text-align: left;\">22.9768</td><td style = \"text-align: left;\">2.10634</td><td style = \"text-align: left;\">true</td></tr><tr><td class = \"rowNumber\" style = \"font-weight: bold; text-align: right;\">4</td><td style = \"text-align: left;\">28.2775</td><td style = \"text-align: left;\">2.10754</td><td style = \"text-align: left;\">true</td></tr><tr><td class = \"rowNumber\" style = \"font-weight: bold; text-align: right;\">5</td><td style = \"text-align: left;\">26.5898</td><td style = \"text-align: left;\">2.17774</td><td style = \"text-align: left;\">true</td></tr><tr><td class = \"rowNumber\" style = \"font-weight: bold; text-align: right;\">6</td><td style = \"text-align: left;\">34.5192</td><td style = \"text-align: left;\">2.08004</td><td style = \"text-align: left;\">true</td></tr><tr><td class = \"rowNumber\" style = \"font-weight: bold; text-align: right;\">7</td><td style = \"text-align: left;\">30.0181</td><td style = \"text-align: left;\">2.69238</td><td style = \"text-align: left;\">true</td></tr><tr><td class = \"rowNumber\" style = \"font-weight: bold; text-align: right;\">8</td><td style = \"text-align: left;\">33.904</td><td style = \"text-align: left;\">2.05572</td><td style = \"text-align: left;\">true</td></tr><tr><td class = \"rowNumber\" style = \"font-weight: bold; text-align: right;\">9</td><td style = \"text-align: left;\">32.8328</td><td style = \"text-align: left;\">2.36222</td><td style = \"text-align: left;\">true</td></tr><tr><td class = \"rowNumber\" style = \"font-weight: bold; text-align: right;\">10</td><td style = \"text-align: left;\">26.6565</td><td style = \"text-align: left;\">2.398</td><td style = \"text-align: left;\">true</td></tr></tbody></table></div>"
      ],
      "text/latex": [
       "\\begin{tabular}{r|ccc}\n",
       "\t& CPU & GPU & Better\\_GPU\\\\\n",
       "\t\\hline\n",
       "\t& Any & Any & Any\\\\\n",
       "\t\\hline\n",
       "\t1 & 9.44689 & 2.0698 & 1 \\\\\n",
       "\t2 & 12.3255 & 2.06541 & 1 \\\\\n",
       "\t3 & 22.9768 & 2.10634 & 1 \\\\\n",
       "\t4 & 28.2775 & 2.10754 & 1 \\\\\n",
       "\t5 & 26.5898 & 2.17774 & 1 \\\\\n",
       "\t6 & 34.5192 & 2.08004 & 1 \\\\\n",
       "\t7 & 30.0181 & 2.69238 & 1 \\\\\n",
       "\t8 & 33.904 & 2.05572 & 1 \\\\\n",
       "\t9 & 32.8328 & 2.36222 & 1 \\\\\n",
       "\t10 & 26.6565 & 2.398 & 1 \\\\\n",
       "\\end{tabular}\n"
      ],
      "text/plain": [
       "\u001b[1m10×3 DataFrame\u001b[0m\n",
       "\u001b[1m Row \u001b[0m│\u001b[1m CPU     \u001b[0m\u001b[1m GPU     \u001b[0m\u001b[1m Better_GPU \u001b[0m\n",
       "     │\u001b[90m Any     \u001b[0m\u001b[90m Any     \u001b[0m\u001b[90m Any        \u001b[0m\n",
       "─────┼──────────────────────────────\n",
       "   1 │ 9.44689  2.0698   true\n",
       "   2 │ 12.3255  2.06541  true\n",
       "   3 │ 22.9768  2.10634  true\n",
       "   4 │ 28.2775  2.10754  true\n",
       "   5 │ 26.5898  2.17774  true\n",
       "   6 │ 34.5192  2.08004  true\n",
       "   7 │ 30.0181  2.69238  true\n",
       "   8 │ 33.904   2.05572  true\n",
       "   9 │ 32.8328  2.36222  true\n",
       "  10 │ 26.6565  2.398    true"
      ]
     },
     "metadata": {},
     "output_type": "display_data"
    }
   ],
   "source": [
    "df = simulate(10000, 10)\n",
    "CSV.write(\"./7.csv\", df)\n",
    "df"
   ]
  },
  {
   "cell_type": "code",
   "execution_count": null,
   "metadata": {},
   "outputs": [],
   "source": []
  }
 ],
 "metadata": {
  "kernelspec": {
   "display_name": "Julia 1.10.2",
   "language": "julia",
   "name": "julia-1.10"
  },
  "language_info": {
   "file_extension": ".jl",
   "mimetype": "application/julia",
   "name": "julia",
   "version": "1.10.2"
  }
 },
 "nbformat": 4,
 "nbformat_minor": 2
}
