{
 "cells": [
  {
   "cell_type": "code",
   "execution_count": 1,
   "metadata": {},
   "outputs": [],
   "source": [
    "using CUDA\n",
    "using TypedTables\n",
    "using DataFrames\n",
    "using Statistics\n",
    "using CSV"
   ]
  },
  {
   "cell_type": "code",
   "execution_count": 4,
   "metadata": {},
   "outputs": [
    {
     "data": {
      "text/plain": [
       "simulate_gpu (generic function with 1 method)"
      ]
     },
     "metadata": {},
     "output_type": "display_data"
    }
   ],
   "source": [
    "# CUDA\n",
    "\n",
    "function operation_gpu(A, skalar)\n",
    "    C = CUDA.zeros(Float32, size(A))\n",
    "    CUDA.@sync C = A * skalar\n",
    "    return C\n",
    "end\n",
    "\n",
    "function simulate_gpu(A_normal, skalar_normal)\n",
    "    A = CUDA.convert(CuArray{Float32}, A_normal)\n",
    "    cuda_start = CUDA.@elapsed result_gpu = operation_gpu(A, skalar_normal)\n",
    "    return cuda_start\n",
    "end"
   ]
  },
  {
   "cell_type": "code",
   "execution_count": 5,
   "metadata": {},
   "outputs": [
    {
     "data": {
      "text/plain": [
       "simulate_cpu (generic function with 1 method)"
      ]
     },
     "metadata": {},
     "output_type": "display_data"
    }
   ],
   "source": [
    "# CPU\n",
    "\n",
    "function operation_cpu(A, skalar)\n",
    "    C = zeros(Float32, size(A))\n",
    "    C = A * skalar\n",
    "    return C\n",
    "end\n",
    "\n",
    "function simulate_cpu(A_normal, skalar)\n",
    "    normal_start = @elapsed result_cpu = operation_cpu(A_normal, skalar)\n",
    "    return normal_start\n",
    "end"
   ]
  },
  {
   "cell_type": "code",
   "execution_count": 6,
   "metadata": {},
   "outputs": [
    {
     "data": {
      "text/plain": [
       "simulate (generic function with 1 method)"
      ]
     },
     "metadata": {},
     "output_type": "display_data"
    }
   ],
   "source": [
    "function simulate(N::Int64, n_loop::Int64)\n",
    "    println(\"Total size: $(N*N)\")\n",
    "    results_gpu = []\n",
    "    results_cpu = []\n",
    "    is_better_gpu = []\n",
    "    for i in 1:n_loop\n",
    "        A_normal = rand(Float32, N, N)\n",
    "        scalar_normal = rand(Float32)  # Generate a random scalar\n",
    "        benchmark_gpu = simulate_gpu(A_normal, scalar_normal)\n",
    "        benchmark_cpu = simulate_cpu(A_normal, scalar_normal)\n",
    "        push!(results_gpu, benchmark_gpu)\n",
    "        push!(results_cpu, benchmark_cpu)\n",
    "        push!(is_better_gpu, benchmark_gpu < benchmark_cpu)\n",
    "    end\n",
    "    println(\"Mean CPU: $(mean(results_cpu))\")\n",
    "    println(\"Mean GPU: $(mean(results_gpu))\")\n",
    "    return DataFrame(CPU=results_cpu, GPU=results_gpu, Better_GPU=is_better_gpu)\n",
    "end"
   ]
  },
  {
   "cell_type": "code",
   "execution_count": 15,
   "metadata": {},
   "outputs": [
    {
     "name": "stdout",
     "output_type": "stream",
     "text": [
      "Total size: 100\n",
      "Mean CPU: 1.0655e-6\n",
      "Mean GPU: 3.5536003e-5\n"
     ]
    },
    {
     "data": {
      "text/html": [
       "<div><div style = \"float: left;\"><span>10×3 DataFrame</span></div><div style = \"clear: both;\"></div></div><div class = \"data-frame\" style = \"overflow-x: scroll;\"><table class = \"data-frame\" style = \"margin-bottom: 6px;\"><thead><tr class = \"header\"><th class = \"rowNumber\" style = \"font-weight: bold; text-align: right;\">Row</th><th style = \"text-align: left;\">CPU</th><th style = \"text-align: left;\">GPU</th><th style = \"text-align: left;\">Better_GPU</th></tr><tr class = \"subheader headerLastRow\"><th class = \"rowNumber\" style = \"font-weight: bold; text-align: right;\"></th><th title = \"Any\" style = \"text-align: left;\">Any</th><th title = \"Any\" style = \"text-align: left;\">Any</th><th title = \"Any\" style = \"text-align: left;\">Any</th></tr></thead><tbody><tr><td class = \"rowNumber\" style = \"font-weight: bold; text-align: right;\">1</td><td style = \"text-align: left;\">1.121e-6</td><td style = \"text-align: left;\">6.9632e-5</td><td style = \"text-align: left;\">false</td></tr><tr><td class = \"rowNumber\" style = \"font-weight: bold; text-align: right;\">2</td><td style = \"text-align: left;\">8.2e-7</td><td style = \"text-align: left;\">2.56e-5</td><td style = \"text-align: left;\">false</td></tr><tr><td class = \"rowNumber\" style = \"font-weight: bold; text-align: right;\">3</td><td style = \"text-align: left;\">1.39e-6</td><td style = \"text-align: left;\">3.584e-5</td><td style = \"text-align: left;\">false</td></tr><tr><td class = \"rowNumber\" style = \"font-weight: bold; text-align: right;\">4</td><td style = \"text-align: left;\">8.56e-7</td><td style = \"text-align: left;\">5.2192e-5</td><td style = \"text-align: left;\">false</td></tr><tr><td class = \"rowNumber\" style = \"font-weight: bold; text-align: right;\">5</td><td style = \"text-align: left;\">4.79e-7</td><td style = \"text-align: left;\">2.8672e-5</td><td style = \"text-align: left;\">false</td></tr><tr><td class = \"rowNumber\" style = \"font-weight: bold; text-align: right;\">6</td><td style = \"text-align: left;\">6.49e-7</td><td style = \"text-align: left;\">2.4576e-5</td><td style = \"text-align: left;\">false</td></tr><tr><td class = \"rowNumber\" style = \"font-weight: bold; text-align: right;\">7</td><td style = \"text-align: left;\">7.32e-7</td><td style = \"text-align: left;\">2.7712e-5</td><td style = \"text-align: left;\">false</td></tr><tr><td class = \"rowNumber\" style = \"font-weight: bold; text-align: right;\">8</td><td style = \"text-align: left;\">8.23e-7</td><td style = \"text-align: left;\">2.7648e-5</td><td style = \"text-align: left;\">false</td></tr><tr><td class = \"rowNumber\" style = \"font-weight: bold; text-align: right;\">9</td><td style = \"text-align: left;\">6.23e-7</td><td style = \"text-align: left;\">2.7648e-5</td><td style = \"text-align: left;\">false</td></tr><tr><td class = \"rowNumber\" style = \"font-weight: bold; text-align: right;\">10</td><td style = \"text-align: left;\">3.162e-6</td><td style = \"text-align: left;\">3.584e-5</td><td style = \"text-align: left;\">false</td></tr></tbody></table></div>"
      ],
      "text/latex": [
       "\\begin{tabular}{r|ccc}\n",
       "\t& CPU & GPU & Better\\_GPU\\\\\n",
       "\t\\hline\n",
       "\t& Any & Any & Any\\\\\n",
       "\t\\hline\n",
       "\t1 & 1.121e-6 & 6.9632e-5 & 0 \\\\\n",
       "\t2 & 8.2e-7 & 2.56e-5 & 0 \\\\\n",
       "\t3 & 1.39e-6 & 3.584e-5 & 0 \\\\\n",
       "\t4 & 8.56e-7 & 5.2192e-5 & 0 \\\\\n",
       "\t5 & 4.79e-7 & 2.8672e-5 & 0 \\\\\n",
       "\t6 & 6.49e-7 & 2.4576e-5 & 0 \\\\\n",
       "\t7 & 7.32e-7 & 2.7712e-5 & 0 \\\\\n",
       "\t8 & 8.23e-7 & 2.7648e-5 & 0 \\\\\n",
       "\t9 & 6.23e-7 & 2.7648e-5 & 0 \\\\\n",
       "\t10 & 3.162e-6 & 3.584e-5 & 0 \\\\\n",
       "\\end{tabular}\n"
      ],
      "text/plain": [
       "\u001b[1m10×3 DataFrame\u001b[0m\n",
       "\u001b[1m Row \u001b[0m│\u001b[1m CPU      \u001b[0m\u001b[1m GPU       \u001b[0m\u001b[1m Better_GPU \u001b[0m\n",
       "     │\u001b[90m Any      \u001b[0m\u001b[90m Any       \u001b[0m\u001b[90m Any        \u001b[0m\n",
       "─────┼─────────────────────────────────\n",
       "   1 │ 1.121e-6  6.9632e-5  false\n",
       "   2 │ 8.2e-7    2.56e-5    false\n",
       "   3 │ 1.39e-6   3.584e-5   false\n",
       "   4 │ 8.56e-7   5.2192e-5  false\n",
       "   5 │ 4.79e-7   2.8672e-5  false\n",
       "   6 │ 6.49e-7   2.4576e-5  false\n",
       "   7 │ 7.32e-7   2.7712e-5  false\n",
       "   8 │ 8.23e-7   2.7648e-5  false\n",
       "   9 │ 6.23e-7   2.7648e-5  false\n",
       "  10 │ 3.162e-6  3.584e-5   false"
      ]
     },
     "metadata": {},
     "output_type": "display_data"
    }
   ],
   "source": [
    "df = simulate(10, 10)\n",
    "CSV.write(\"./1.csv\", df)\n",
    "df"
   ]
  },
  {
   "cell_type": "code",
   "execution_count": 20,
   "metadata": {},
   "outputs": [
    {
     "name": "stdout",
     "output_type": "stream",
     "text": [
      "Total size: 2500\n",
      "Mean CPU: 1.5514900000000003e-5\n",
      "Mean GPU: 7.137279e-5\n"
     ]
    },
    {
     "data": {
      "text/html": [
       "<div><div style = \"float: left;\"><span>10×3 DataFrame</span></div><div style = \"clear: both;\"></div></div><div class = \"data-frame\" style = \"overflow-x: scroll;\"><table class = \"data-frame\" style = \"margin-bottom: 6px;\"><thead><tr class = \"header\"><th class = \"rowNumber\" style = \"font-weight: bold; text-align: right;\">Row</th><th style = \"text-align: left;\">CPU</th><th style = \"text-align: left;\">GPU</th><th style = \"text-align: left;\">Better_GPU</th></tr><tr class = \"subheader headerLastRow\"><th class = \"rowNumber\" style = \"font-weight: bold; text-align: right;\"></th><th title = \"Any\" style = \"text-align: left;\">Any</th><th title = \"Any\" style = \"text-align: left;\">Any</th><th title = \"Any\" style = \"text-align: left;\">Any</th></tr></thead><tbody><tr><td class = \"rowNumber\" style = \"font-weight: bold; text-align: right;\">1</td><td style = \"text-align: left;\">1.2977e-5</td><td style = \"text-align: left;\">0.000120832</td><td style = \"text-align: left;\">false</td></tr><tr><td class = \"rowNumber\" style = \"font-weight: bold; text-align: right;\">2</td><td style = \"text-align: left;\">8.575e-6</td><td style = \"text-align: left;\">0.000100352</td><td style = \"text-align: left;\">false</td></tr><tr><td class = \"rowNumber\" style = \"font-weight: bold; text-align: right;\">3</td><td style = \"text-align: left;\">1.4858e-5</td><td style = \"text-align: left;\">6.0416e-5</td><td style = \"text-align: left;\">false</td></tr><tr><td class = \"rowNumber\" style = \"font-weight: bold; text-align: right;\">4</td><td style = \"text-align: left;\">1.5551e-5</td><td style = \"text-align: left;\">7.7824e-5</td><td style = \"text-align: left;\">false</td></tr><tr><td class = \"rowNumber\" style = \"font-weight: bold; text-align: right;\">5</td><td style = \"text-align: left;\">1.8005e-5</td><td style = \"text-align: left;\">5.632e-5</td><td style = \"text-align: left;\">false</td></tr><tr><td class = \"rowNumber\" style = \"font-weight: bold; text-align: right;\">6</td><td style = \"text-align: left;\">1.7396e-5</td><td style = \"text-align: left;\">5.8368e-5</td><td style = \"text-align: left;\">false</td></tr><tr><td class = \"rowNumber\" style = \"font-weight: bold; text-align: right;\">7</td><td style = \"text-align: left;\">1.609e-5</td><td style = \"text-align: left;\">5.8368e-5</td><td style = \"text-align: left;\">false</td></tr><tr><td class = \"rowNumber\" style = \"font-weight: bold; text-align: right;\">8</td><td style = \"text-align: left;\">1.7485e-5</td><td style = \"text-align: left;\">5.8368e-5</td><td style = \"text-align: left;\">false</td></tr><tr><td class = \"rowNumber\" style = \"font-weight: bold; text-align: right;\">9</td><td style = \"text-align: left;\">1.8119e-5</td><td style = \"text-align: left;\">5.632e-5</td><td style = \"text-align: left;\">false</td></tr><tr><td class = \"rowNumber\" style = \"font-weight: bold; text-align: right;\">10</td><td style = \"text-align: left;\">1.6093e-5</td><td style = \"text-align: left;\">6.656e-5</td><td style = \"text-align: left;\">false</td></tr></tbody></table></div>"
      ],
      "text/latex": [
       "\\begin{tabular}{r|ccc}\n",
       "\t& CPU & GPU & Better\\_GPU\\\\\n",
       "\t\\hline\n",
       "\t& Any & Any & Any\\\\\n",
       "\t\\hline\n",
       "\t1 & 1.2977e-5 & 0.000120832 & 0 \\\\\n",
       "\t2 & 8.575e-6 & 0.000100352 & 0 \\\\\n",
       "\t3 & 1.4858e-5 & 6.0416e-5 & 0 \\\\\n",
       "\t4 & 1.5551e-5 & 7.7824e-5 & 0 \\\\\n",
       "\t5 & 1.8005e-5 & 5.632e-5 & 0 \\\\\n",
       "\t6 & 1.7396e-5 & 5.8368e-5 & 0 \\\\\n",
       "\t7 & 1.609e-5 & 5.8368e-5 & 0 \\\\\n",
       "\t8 & 1.7485e-5 & 5.8368e-5 & 0 \\\\\n",
       "\t9 & 1.8119e-5 & 5.632e-5 & 0 \\\\\n",
       "\t10 & 1.6093e-5 & 6.656e-5 & 0 \\\\\n",
       "\\end{tabular}\n"
      ],
      "text/plain": [
       "\u001b[1m10×3 DataFrame\u001b[0m\n",
       "\u001b[1m Row \u001b[0m│\u001b[1m CPU       \u001b[0m\u001b[1m GPU         \u001b[0m\u001b[1m Better_GPU \u001b[0m\n",
       "     │\u001b[90m Any       \u001b[0m\u001b[90m Any         \u001b[0m\u001b[90m Any        \u001b[0m\n",
       "─────┼────────────────────────────────────\n",
       "   1 │ 1.2977e-5  0.000120832  false\n",
       "   2 │ 8.575e-6   0.000100352  false\n",
       "   3 │ 1.4858e-5  6.0416e-5    false\n",
       "   4 │ 1.5551e-5  7.7824e-5    false\n",
       "   5 │ 1.8005e-5  5.632e-5     false\n",
       "   6 │ 1.7396e-5  5.8368e-5    false\n",
       "   7 │ 1.609e-5   5.8368e-5    false\n",
       "   8 │ 1.7485e-5  5.8368e-5    false\n",
       "   9 │ 1.8119e-5  5.632e-5     false\n",
       "  10 │ 1.6093e-5  6.656e-5     false"
      ]
     },
     "metadata": {},
     "output_type": "display_data"
    }
   ],
   "source": [
    "df = simulate(50, 10)\n",
    "CSV.write(\"./2.csv\", df)\n",
    "df"
   ]
  },
  {
   "cell_type": "code",
   "execution_count": 22,
   "metadata": {},
   "outputs": [
    {
     "name": "stdout",
     "output_type": "stream",
     "text": [
      "Total size: 10000\n",
      "Mean CPU: 3.4273700000000004e-5\n",
      "Mean GPU: 3.17632e-5\n"
     ]
    },
    {
     "data": {
      "text/html": [
       "<div><div style = \"float: left;\"><span>10×3 DataFrame</span></div><div style = \"clear: both;\"></div></div><div class = \"data-frame\" style = \"overflow-x: scroll;\"><table class = \"data-frame\" style = \"margin-bottom: 6px;\"><thead><tr class = \"header\"><th class = \"rowNumber\" style = \"font-weight: bold; text-align: right;\">Row</th><th style = \"text-align: left;\">CPU</th><th style = \"text-align: left;\">GPU</th><th style = \"text-align: left;\">Better_GPU</th></tr><tr class = \"subheader headerLastRow\"><th class = \"rowNumber\" style = \"font-weight: bold; text-align: right;\"></th><th title = \"Any\" style = \"text-align: left;\">Any</th><th title = \"Any\" style = \"text-align: left;\">Any</th><th title = \"Any\" style = \"text-align: left;\">Any</th></tr></thead><tbody><tr><td class = \"rowNumber\" style = \"font-weight: bold; text-align: right;\">1</td><td style = \"text-align: left;\">8.834e-6</td><td style = \"text-align: left;\">4.928e-5</td><td style = \"text-align: left;\">false</td></tr><tr><td class = \"rowNumber\" style = \"font-weight: bold; text-align: right;\">2</td><td style = \"text-align: left;\">4.2494e-5</td><td style = \"text-align: left;\">3.6864e-5</td><td style = \"text-align: left;\">true</td></tr><tr><td class = \"rowNumber\" style = \"font-weight: bold; text-align: right;\">3</td><td style = \"text-align: left;\">4.3987e-5</td><td style = \"text-align: left;\">3.1744e-5</td><td style = \"text-align: left;\">true</td></tr><tr><td class = \"rowNumber\" style = \"font-weight: bold; text-align: right;\">4</td><td style = \"text-align: left;\">4.4164e-5</td><td style = \"text-align: left;\">3.072e-5</td><td style = \"text-align: left;\">true</td></tr><tr><td class = \"rowNumber\" style = \"font-weight: bold; text-align: right;\">5</td><td style = \"text-align: left;\">5.0729e-5</td><td style = \"text-align: left;\">2.4576e-5</td><td style = \"text-align: left;\">true</td></tr><tr><td class = \"rowNumber\" style = \"font-weight: bold; text-align: right;\">6</td><td style = \"text-align: left;\">4.2094e-5</td><td style = \"text-align: left;\">2.4576e-5</td><td style = \"text-align: left;\">true</td></tr><tr><td class = \"rowNumber\" style = \"font-weight: bold; text-align: right;\">7</td><td style = \"text-align: left;\">5.0341e-5</td><td style = \"text-align: left;\">2.4576e-5</td><td style = \"text-align: left;\">true</td></tr><tr><td class = \"rowNumber\" style = \"font-weight: bold; text-align: right;\">8</td><td style = \"text-align: left;\">4.7522e-5</td><td style = \"text-align: left;\">3.0688e-5</td><td style = \"text-align: left;\">true</td></tr><tr><td class = \"rowNumber\" style = \"font-weight: bold; text-align: right;\">9</td><td style = \"text-align: left;\">6.69e-6</td><td style = \"text-align: left;\">3.584e-5</td><td style = \"text-align: left;\">false</td></tr><tr><td class = \"rowNumber\" style = \"font-weight: bold; text-align: right;\">10</td><td style = \"text-align: left;\">5.882e-6</td><td style = \"text-align: left;\">2.8768e-5</td><td style = \"text-align: left;\">false</td></tr></tbody></table></div>"
      ],
      "text/latex": [
       "\\begin{tabular}{r|ccc}\n",
       "\t& CPU & GPU & Better\\_GPU\\\\\n",
       "\t\\hline\n",
       "\t& Any & Any & Any\\\\\n",
       "\t\\hline\n",
       "\t1 & 8.834e-6 & 4.928e-5 & 0 \\\\\n",
       "\t2 & 4.2494e-5 & 3.6864e-5 & 1 \\\\\n",
       "\t3 & 4.3987e-5 & 3.1744e-5 & 1 \\\\\n",
       "\t4 & 4.4164e-5 & 3.072e-5 & 1 \\\\\n",
       "\t5 & 5.0729e-5 & 2.4576e-5 & 1 \\\\\n",
       "\t6 & 4.2094e-5 & 2.4576e-5 & 1 \\\\\n",
       "\t7 & 5.0341e-5 & 2.4576e-5 & 1 \\\\\n",
       "\t8 & 4.7522e-5 & 3.0688e-5 & 1 \\\\\n",
       "\t9 & 6.69e-6 & 3.584e-5 & 0 \\\\\n",
       "\t10 & 5.882e-6 & 2.8768e-5 & 0 \\\\\n",
       "\\end{tabular}\n"
      ],
      "text/plain": [
       "\u001b[1m10×3 DataFrame\u001b[0m\n",
       "\u001b[1m Row \u001b[0m│\u001b[1m CPU       \u001b[0m\u001b[1m GPU       \u001b[0m\u001b[1m Better_GPU \u001b[0m\n",
       "     │\u001b[90m Any       \u001b[0m\u001b[90m Any       \u001b[0m\u001b[90m Any        \u001b[0m\n",
       "─────┼──────────────────────────────────\n",
       "   1 │ 8.834e-6   4.928e-5   false\n",
       "   2 │ 4.2494e-5  3.6864e-5  true\n",
       "   3 │ 4.3987e-5  3.1744e-5  true\n",
       "   4 │ 4.4164e-5  3.072e-5   true\n",
       "   5 │ 5.0729e-5  2.4576e-5  true\n",
       "   6 │ 4.2094e-5  2.4576e-5  true\n",
       "   7 │ 5.0341e-5  2.4576e-5  true\n",
       "   8 │ 4.7522e-5  3.0688e-5  true\n",
       "   9 │ 6.69e-6    3.584e-5   false\n",
       "  10 │ 5.882e-6   2.8768e-5  false"
      ]
     },
     "metadata": {},
     "output_type": "display_data"
    }
   ],
   "source": [
    "df = simulate(100, 10)\n",
    "CSV.write(\"./3.csv\", df)\n",
    "df"
   ]
  },
  {
   "cell_type": "code",
   "execution_count": 26,
   "metadata": {},
   "outputs": [
    {
     "name": "stdout",
     "output_type": "stream",
     "text": [
      "Total size: 250000\n",
      "Mean CPU: 0.0009130456999999999\n",
      "Mean GPU: 0.00014078079\n"
     ]
    },
    {
     "data": {
      "text/html": [
       "<div><div style = \"float: left;\"><span>10×3 DataFrame</span></div><div style = \"clear: both;\"></div></div><div class = \"data-frame\" style = \"overflow-x: scroll;\"><table class = \"data-frame\" style = \"margin-bottom: 6px;\"><thead><tr class = \"header\"><th class = \"rowNumber\" style = \"font-weight: bold; text-align: right;\">Row</th><th style = \"text-align: left;\">CPU</th><th style = \"text-align: left;\">GPU</th><th style = \"text-align: left;\">Better_GPU</th></tr><tr class = \"subheader headerLastRow\"><th class = \"rowNumber\" style = \"font-weight: bold; text-align: right;\"></th><th title = \"Any\" style = \"text-align: left;\">Any</th><th title = \"Any\" style = \"text-align: left;\">Any</th><th title = \"Any\" style = \"text-align: left;\">Any</th></tr></thead><tbody><tr><td class = \"rowNumber\" style = \"font-weight: bold; text-align: right;\">1</td><td style = \"text-align: left;\">0.000234481</td><td style = \"text-align: left;\">9.12e-5</td><td style = \"text-align: left;\">true</td></tr><tr><td class = \"rowNumber\" style = \"font-weight: bold; text-align: right;\">2</td><td style = \"text-align: left;\">0.000257041</td><td style = \"text-align: left;\">0.000125728</td><td style = \"text-align: left;\">true</td></tr><tr><td class = \"rowNumber\" style = \"font-weight: bold; text-align: right;\">3</td><td style = \"text-align: left;\">0.00123921</td><td style = \"text-align: left;\">9.4112e-5</td><td style = \"text-align: left;\">true</td></tr><tr><td class = \"rowNumber\" style = \"font-weight: bold; text-align: right;\">4</td><td style = \"text-align: left;\">0.00104755</td><td style = \"text-align: left;\">0.000105344</td><td style = \"text-align: left;\">true</td></tr><tr><td class = \"rowNumber\" style = \"font-weight: bold; text-align: right;\">5</td><td style = \"text-align: left;\">0.0012209</td><td style = \"text-align: left;\">0.000110432</td><td style = \"text-align: left;\">true</td></tr><tr><td class = \"rowNumber\" style = \"font-weight: bold; text-align: right;\">6</td><td style = \"text-align: left;\">0.000925553</td><td style = \"text-align: left;\">0.00015504</td><td style = \"text-align: left;\">true</td></tr><tr><td class = \"rowNumber\" style = \"font-weight: bold; text-align: right;\">7</td><td style = \"text-align: left;\">0.00194809</td><td style = \"text-align: left;\">0.00042704</td><td style = \"text-align: left;\">true</td></tr><tr><td class = \"rowNumber\" style = \"font-weight: bold; text-align: right;\">8</td><td style = \"text-align: left;\">0.00131759</td><td style = \"text-align: left;\">0.000107328</td><td style = \"text-align: left;\">true</td></tr><tr><td class = \"rowNumber\" style = \"font-weight: bold; text-align: right;\">9</td><td style = \"text-align: left;\">0.00070844</td><td style = \"text-align: left;\">9.8016e-5</td><td style = \"text-align: left;\">true</td></tr><tr><td class = \"rowNumber\" style = \"font-weight: bold; text-align: right;\">10</td><td style = \"text-align: left;\">0.000231596</td><td style = \"text-align: left;\">9.3568e-5</td><td style = \"text-align: left;\">true</td></tr></tbody></table></div>"
      ],
      "text/latex": [
       "\\begin{tabular}{r|ccc}\n",
       "\t& CPU & GPU & Better\\_GPU\\\\\n",
       "\t\\hline\n",
       "\t& Any & Any & Any\\\\\n",
       "\t\\hline\n",
       "\t1 & 0.000234481 & 9.12e-5 & 1 \\\\\n",
       "\t2 & 0.000257041 & 0.000125728 & 1 \\\\\n",
       "\t3 & 0.00123921 & 9.4112e-5 & 1 \\\\\n",
       "\t4 & 0.00104755 & 0.000105344 & 1 \\\\\n",
       "\t5 & 0.0012209 & 0.000110432 & 1 \\\\\n",
       "\t6 & 0.000925553 & 0.00015504 & 1 \\\\\n",
       "\t7 & 0.00194809 & 0.00042704 & 1 \\\\\n",
       "\t8 & 0.00131759 & 0.000107328 & 1 \\\\\n",
       "\t9 & 0.00070844 & 9.8016e-5 & 1 \\\\\n",
       "\t10 & 0.000231596 & 9.3568e-5 & 1 \\\\\n",
       "\\end{tabular}\n"
      ],
      "text/plain": [
       "\u001b[1m10×3 DataFrame\u001b[0m\n",
       "\u001b[1m Row \u001b[0m│\u001b[1m CPU         \u001b[0m\u001b[1m GPU         \u001b[0m\u001b[1m Better_GPU \u001b[0m\n",
       "     │\u001b[90m Any         \u001b[0m\u001b[90m Any         \u001b[0m\u001b[90m Any        \u001b[0m\n",
       "─────┼──────────────────────────────────────\n",
       "   1 │ 0.000234481  9.12e-5      true\n",
       "   2 │ 0.000257041  0.000125728  true\n",
       "   3 │ 0.00123921   9.4112e-5    true\n",
       "   4 │ 0.00104755   0.000105344  true\n",
       "   5 │ 0.0012209    0.000110432  true\n",
       "   6 │ 0.000925553  0.00015504   true\n",
       "   7 │ 0.00194809   0.00042704   true\n",
       "   8 │ 0.00131759   0.000107328  true\n",
       "   9 │ 0.00070844   9.8016e-5    true\n",
       "  10 │ 0.000231596  9.3568e-5    true"
      ]
     },
     "metadata": {},
     "output_type": "display_data"
    }
   ],
   "source": [
    "df = simulate(500, 10)\n",
    "CSV.write(\"./4.csv\", df)\n",
    "df"
   ]
  },
  {
   "cell_type": "code",
   "execution_count": 27,
   "metadata": {},
   "outputs": [
    {
     "name": "stdout",
     "output_type": "stream",
     "text": [
      "Total size: 1000000\n",
      "Mean CPU: 0.0029308645\n",
      "Mean GPU: 0.0004561088\n"
     ]
    },
    {
     "data": {
      "text/html": [
       "<div><div style = \"float: left;\"><span>10×3 DataFrame</span></div><div style = \"clear: both;\"></div></div><div class = \"data-frame\" style = \"overflow-x: scroll;\"><table class = \"data-frame\" style = \"margin-bottom: 6px;\"><thead><tr class = \"header\"><th class = \"rowNumber\" style = \"font-weight: bold; text-align: right;\">Row</th><th style = \"text-align: left;\">CPU</th><th style = \"text-align: left;\">GPU</th><th style = \"text-align: left;\">Better_GPU</th></tr><tr class = \"subheader headerLastRow\"><th class = \"rowNumber\" style = \"font-weight: bold; text-align: right;\"></th><th title = \"Any\" style = \"text-align: left;\">Any</th><th title = \"Any\" style = \"text-align: left;\">Any</th><th title = \"Any\" style = \"text-align: left;\">Any</th></tr></thead><tbody><tr><td class = \"rowNumber\" style = \"font-weight: bold; text-align: right;\">1</td><td style = \"text-align: left;\">0.000919153</td><td style = \"text-align: left;\">0.00037072</td><td style = \"text-align: left;\">true</td></tr><tr><td class = \"rowNumber\" style = \"font-weight: bold; text-align: right;\">2</td><td style = \"text-align: left;\">0.00282876</td><td style = \"text-align: left;\">0.000346336</td><td style = \"text-align: left;\">true</td></tr><tr><td class = \"rowNumber\" style = \"font-weight: bold; text-align: right;\">3</td><td style = \"text-align: left;\">0.00117688</td><td style = \"text-align: left;\">0.000381376</td><td style = \"text-align: left;\">true</td></tr><tr><td class = \"rowNumber\" style = \"font-weight: bold; text-align: right;\">4</td><td style = \"text-align: left;\">0.00157219</td><td style = \"text-align: left;\">0.000371776</td><td style = \"text-align: left;\">true</td></tr><tr><td class = \"rowNumber\" style = \"font-weight: bold; text-align: right;\">5</td><td style = \"text-align: left;\">0.00412109</td><td style = \"text-align: left;\">0.00082576</td><td style = \"text-align: left;\">true</td></tr><tr><td class = \"rowNumber\" style = \"font-weight: bold; text-align: right;\">6</td><td style = \"text-align: left;\">0.00275677</td><td style = \"text-align: left;\">0.000336896</td><td style = \"text-align: left;\">true</td></tr><tr><td class = \"rowNumber\" style = \"font-weight: bold; text-align: right;\">7</td><td style = \"text-align: left;\">0.0019523</td><td style = \"text-align: left;\">0.000399744</td><td style = \"text-align: left;\">true</td></tr><tr><td class = \"rowNumber\" style = \"font-weight: bold; text-align: right;\">8</td><td style = \"text-align: left;\">0.00487231</td><td style = \"text-align: left;\">0.000497536</td><td style = \"text-align: left;\">true</td></tr><tr><td class = \"rowNumber\" style = \"font-weight: bold; text-align: right;\">9</td><td style = \"text-align: left;\">0.00732165</td><td style = \"text-align: left;\">0.000441408</td><td style = \"text-align: left;\">true</td></tr><tr><td class = \"rowNumber\" style = \"font-weight: bold; text-align: right;\">10</td><td style = \"text-align: left;\">0.00178753</td><td style = \"text-align: left;\">0.000589536</td><td style = \"text-align: left;\">true</td></tr></tbody></table></div>"
      ],
      "text/latex": [
       "\\begin{tabular}{r|ccc}\n",
       "\t& CPU & GPU & Better\\_GPU\\\\\n",
       "\t\\hline\n",
       "\t& Any & Any & Any\\\\\n",
       "\t\\hline\n",
       "\t1 & 0.000919153 & 0.00037072 & 1 \\\\\n",
       "\t2 & 0.00282876 & 0.000346336 & 1 \\\\\n",
       "\t3 & 0.00117688 & 0.000381376 & 1 \\\\\n",
       "\t4 & 0.00157219 & 0.000371776 & 1 \\\\\n",
       "\t5 & 0.00412109 & 0.00082576 & 1 \\\\\n",
       "\t6 & 0.00275677 & 0.000336896 & 1 \\\\\n",
       "\t7 & 0.0019523 & 0.000399744 & 1 \\\\\n",
       "\t8 & 0.00487231 & 0.000497536 & 1 \\\\\n",
       "\t9 & 0.00732165 & 0.000441408 & 1 \\\\\n",
       "\t10 & 0.00178753 & 0.000589536 & 1 \\\\\n",
       "\\end{tabular}\n"
      ],
      "text/plain": [
       "\u001b[1m10×3 DataFrame\u001b[0m\n",
       "\u001b[1m Row \u001b[0m│\u001b[1m CPU         \u001b[0m\u001b[1m GPU         \u001b[0m\u001b[1m Better_GPU \u001b[0m\n",
       "     │\u001b[90m Any         \u001b[0m\u001b[90m Any         \u001b[0m\u001b[90m Any        \u001b[0m\n",
       "─────┼──────────────────────────────────────\n",
       "   1 │ 0.000919153  0.00037072   true\n",
       "   2 │ 0.00282876   0.000346336  true\n",
       "   3 │ 0.00117688   0.000381376  true\n",
       "   4 │ 0.00157219   0.000371776  true\n",
       "   5 │ 0.00412109   0.00082576   true\n",
       "   6 │ 0.00275677   0.000336896  true\n",
       "   7 │ 0.0019523    0.000399744  true\n",
       "   8 │ 0.00487231   0.000497536  true\n",
       "   9 │ 0.00732165   0.000441408  true\n",
       "  10 │ 0.00178753   0.000589536  true"
      ]
     },
     "metadata": {},
     "output_type": "display_data"
    }
   ],
   "source": [
    "df = simulate(1000, 10)\n",
    "CSV.write(\"./5.csv\", df)\n",
    "df"
   ]
  },
  {
   "cell_type": "code",
   "execution_count": 28,
   "metadata": {},
   "outputs": [
    {
     "name": "stdout",
     "output_type": "stream",
     "text": [
      "Total size: 25000000\n",
      "Mean CPU: 0.28625631339999996\n",
      "Mean GPU: 0.007873632\n"
     ]
    },
    {
     "data": {
      "text/html": [
       "<div><div style = \"float: left;\"><span>10×3 DataFrame</span></div><div style = \"clear: both;\"></div></div><div class = \"data-frame\" style = \"overflow-x: scroll;\"><table class = \"data-frame\" style = \"margin-bottom: 6px;\"><thead><tr class = \"header\"><th class = \"rowNumber\" style = \"font-weight: bold; text-align: right;\">Row</th><th style = \"text-align: left;\">CPU</th><th style = \"text-align: left;\">GPU</th><th style = \"text-align: left;\">Better_GPU</th></tr><tr class = \"subheader headerLastRow\"><th class = \"rowNumber\" style = \"font-weight: bold; text-align: right;\"></th><th title = \"Any\" style = \"text-align: left;\">Any</th><th title = \"Any\" style = \"text-align: left;\">Any</th><th title = \"Any\" style = \"text-align: left;\">Any</th></tr></thead><tbody><tr><td class = \"rowNumber\" style = \"font-weight: bold; text-align: right;\">1</td><td style = \"text-align: left;\">0.241146</td><td style = \"text-align: left;\">0.0080023</td><td style = \"text-align: left;\">true</td></tr><tr><td class = \"rowNumber\" style = \"font-weight: bold; text-align: right;\">2</td><td style = \"text-align: left;\">0.568156</td><td style = \"text-align: left;\">0.00790691</td><td style = \"text-align: left;\">true</td></tr><tr><td class = \"rowNumber\" style = \"font-weight: bold; text-align: right;\">3</td><td style = \"text-align: left;\">0.119355</td><td style = \"text-align: left;\">0.00776819</td><td style = \"text-align: left;\">true</td></tr><tr><td class = \"rowNumber\" style = \"font-weight: bold; text-align: right;\">4</td><td style = \"text-align: left;\">0.177667</td><td style = \"text-align: left;\">0.00779773</td><td style = \"text-align: left;\">true</td></tr><tr><td class = \"rowNumber\" style = \"font-weight: bold; text-align: right;\">5</td><td style = \"text-align: left;\">0.826951</td><td style = \"text-align: left;\">0.00784544</td><td style = \"text-align: left;\">true</td></tr><tr><td class = \"rowNumber\" style = \"font-weight: bold; text-align: right;\">6</td><td style = \"text-align: left;\">0.0822795</td><td style = \"text-align: left;\">0.00783296</td><td style = \"text-align: left;\">true</td></tr><tr><td class = \"rowNumber\" style = \"font-weight: bold; text-align: right;\">7</td><td style = \"text-align: left;\">0.116054</td><td style = \"text-align: left;\">0.00816643</td><td style = \"text-align: left;\">true</td></tr><tr><td class = \"rowNumber\" style = \"font-weight: bold; text-align: right;\">8</td><td style = \"text-align: left;\">0.0727916</td><td style = \"text-align: left;\">0.00792067</td><td style = \"text-align: left;\">true</td></tr><tr><td class = \"rowNumber\" style = \"font-weight: bold; text-align: right;\">9</td><td style = \"text-align: left;\">0.558327</td><td style = \"text-align: left;\">0.0077809</td><td style = \"text-align: left;\">true</td></tr><tr><td class = \"rowNumber\" style = \"font-weight: bold; text-align: right;\">10</td><td style = \"text-align: left;\">0.0998362</td><td style = \"text-align: left;\">0.00771478</td><td style = \"text-align: left;\">true</td></tr></tbody></table></div>"
      ],
      "text/latex": [
       "\\begin{tabular}{r|ccc}\n",
       "\t& CPU & GPU & Better\\_GPU\\\\\n",
       "\t\\hline\n",
       "\t& Any & Any & Any\\\\\n",
       "\t\\hline\n",
       "\t1 & 0.241146 & 0.0080023 & 1 \\\\\n",
       "\t2 & 0.568156 & 0.00790691 & 1 \\\\\n",
       "\t3 & 0.119355 & 0.00776819 & 1 \\\\\n",
       "\t4 & 0.177667 & 0.00779773 & 1 \\\\\n",
       "\t5 & 0.826951 & 0.00784544 & 1 \\\\\n",
       "\t6 & 0.0822795 & 0.00783296 & 1 \\\\\n",
       "\t7 & 0.116054 & 0.00816643 & 1 \\\\\n",
       "\t8 & 0.0727916 & 0.00792067 & 1 \\\\\n",
       "\t9 & 0.558327 & 0.0077809 & 1 \\\\\n",
       "\t10 & 0.0998362 & 0.00771478 & 1 \\\\\n",
       "\\end{tabular}\n"
      ],
      "text/plain": [
       "\u001b[1m10×3 DataFrame\u001b[0m\n",
       "\u001b[1m Row \u001b[0m│\u001b[1m CPU       \u001b[0m\u001b[1m GPU        \u001b[0m\u001b[1m Better_GPU \u001b[0m\n",
       "     │\u001b[90m Any       \u001b[0m\u001b[90m Any        \u001b[0m\u001b[90m Any        \u001b[0m\n",
       "─────┼───────────────────────────────────\n",
       "   1 │ 0.241146   0.0080023   true\n",
       "   2 │ 0.568156   0.00790691  true\n",
       "   3 │ 0.119355   0.00776819  true\n",
       "   4 │ 0.177667   0.00779773  true\n",
       "   5 │ 0.826951   0.00784544  true\n",
       "   6 │ 0.0822795  0.00783296  true\n",
       "   7 │ 0.116054   0.00816643  true\n",
       "   8 │ 0.0727916  0.00792067  true\n",
       "   9 │ 0.558327   0.0077809   true\n",
       "  10 │ 0.0998362  0.00771478  true"
      ]
     },
     "metadata": {},
     "output_type": "display_data"
    }
   ],
   "source": [
    "df = simulate(5000, 10)\n",
    "CSV.write(\"./6.csv\", df)\n",
    "df"
   ]
  },
  {
   "cell_type": "code",
   "execution_count": 29,
   "metadata": {},
   "outputs": [
    {
     "name": "stdout",
     "output_type": "stream",
     "text": [
      "Total size: 100000000\n",
      "Mean CPU: 0.4188525466\n",
      "Mean GPU: 0.031236375\n"
     ]
    },
    {
     "data": {
      "text/html": [
       "<div><div style = \"float: left;\"><span>10×3 DataFrame</span></div><div style = \"clear: both;\"></div></div><div class = \"data-frame\" style = \"overflow-x: scroll;\"><table class = \"data-frame\" style = \"margin-bottom: 6px;\"><thead><tr class = \"header\"><th class = \"rowNumber\" style = \"font-weight: bold; text-align: right;\">Row</th><th style = \"text-align: left;\">CPU</th><th style = \"text-align: left;\">GPU</th><th style = \"text-align: left;\">Better_GPU</th></tr><tr class = \"subheader headerLastRow\"><th class = \"rowNumber\" style = \"font-weight: bold; text-align: right;\"></th><th title = \"Any\" style = \"text-align: left;\">Any</th><th title = \"Any\" style = \"text-align: left;\">Any</th><th title = \"Any\" style = \"text-align: left;\">Any</th></tr></thead><tbody><tr><td class = \"rowNumber\" style = \"font-weight: bold; text-align: right;\">1</td><td style = \"text-align: left;\">0.384317</td><td style = \"text-align: left;\">0.0328959</td><td style = \"text-align: left;\">true</td></tr><tr><td class = \"rowNumber\" style = \"font-weight: bold; text-align: right;\">2</td><td style = \"text-align: left;\">0.362538</td><td style = \"text-align: left;\">0.0312188</td><td style = \"text-align: left;\">true</td></tr><tr><td class = \"rowNumber\" style = \"font-weight: bold; text-align: right;\">3</td><td style = \"text-align: left;\">0.410932</td><td style = \"text-align: left;\">0.0308902</td><td style = \"text-align: left;\">true</td></tr><tr><td class = \"rowNumber\" style = \"font-weight: bold; text-align: right;\">4</td><td style = \"text-align: left;\">0.345522</td><td style = \"text-align: left;\">0.0309139</td><td style = \"text-align: left;\">true</td></tr><tr><td class = \"rowNumber\" style = \"font-weight: bold; text-align: right;\">5</td><td style = \"text-align: left;\">0.457299</td><td style = \"text-align: left;\">0.0309746</td><td style = \"text-align: left;\">true</td></tr><tr><td class = \"rowNumber\" style = \"font-weight: bold; text-align: right;\">6</td><td style = \"text-align: left;\">0.354571</td><td style = \"text-align: left;\">0.0313863</td><td style = \"text-align: left;\">true</td></tr><tr><td class = \"rowNumber\" style = \"font-weight: bold; text-align: right;\">7</td><td style = \"text-align: left;\">0.615672</td><td style = \"text-align: left;\">0.0309407</td><td style = \"text-align: left;\">true</td></tr><tr><td class = \"rowNumber\" style = \"font-weight: bold; text-align: right;\">8</td><td style = \"text-align: left;\">0.380106</td><td style = \"text-align: left;\">0.0311961</td><td style = \"text-align: left;\">true</td></tr><tr><td class = \"rowNumber\" style = \"font-weight: bold; text-align: right;\">9</td><td style = \"text-align: left;\">0.525034</td><td style = \"text-align: left;\">0.031065</td><td style = \"text-align: left;\">true</td></tr><tr><td class = \"rowNumber\" style = \"font-weight: bold; text-align: right;\">10</td><td style = \"text-align: left;\">0.352534</td><td style = \"text-align: left;\">0.0308823</td><td style = \"text-align: left;\">true</td></tr></tbody></table></div>"
      ],
      "text/latex": [
       "\\begin{tabular}{r|ccc}\n",
       "\t& CPU & GPU & Better\\_GPU\\\\\n",
       "\t\\hline\n",
       "\t& Any & Any & Any\\\\\n",
       "\t\\hline\n",
       "\t1 & 0.384317 & 0.0328959 & 1 \\\\\n",
       "\t2 & 0.362538 & 0.0312188 & 1 \\\\\n",
       "\t3 & 0.410932 & 0.0308902 & 1 \\\\\n",
       "\t4 & 0.345522 & 0.0309139 & 1 \\\\\n",
       "\t5 & 0.457299 & 0.0309746 & 1 \\\\\n",
       "\t6 & 0.354571 & 0.0313863 & 1 \\\\\n",
       "\t7 & 0.615672 & 0.0309407 & 1 \\\\\n",
       "\t8 & 0.380106 & 0.0311961 & 1 \\\\\n",
       "\t9 & 0.525034 & 0.031065 & 1 \\\\\n",
       "\t10 & 0.352534 & 0.0308823 & 1 \\\\\n",
       "\\end{tabular}\n"
      ],
      "text/plain": [
       "\u001b[1m10×3 DataFrame\u001b[0m\n",
       "\u001b[1m Row \u001b[0m│\u001b[1m CPU      \u001b[0m\u001b[1m GPU       \u001b[0m\u001b[1m Better_GPU \u001b[0m\n",
       "     │\u001b[90m Any      \u001b[0m\u001b[90m Any       \u001b[0m\u001b[90m Any        \u001b[0m\n",
       "─────┼─────────────────────────────────\n",
       "   1 │ 0.384317  0.0328959  true\n",
       "   2 │ 0.362538  0.0312188  true\n",
       "   3 │ 0.410932  0.0308902  true\n",
       "   4 │ 0.345522  0.0309139  true\n",
       "   5 │ 0.457299  0.0309746  true\n",
       "   6 │ 0.354571  0.0313863  true\n",
       "   7 │ 0.615672  0.0309407  true\n",
       "   8 │ 0.380106  0.0311961  true\n",
       "   9 │ 0.525034  0.031065   true\n",
       "  10 │ 0.352534  0.0308823  true"
      ]
     },
     "metadata": {},
     "output_type": "display_data"
    }
   ],
   "source": [
    "df = simulate(10000, 10)\n",
    "CSV.write(\"./7.csv\", df)\n",
    "df"
   ]
  },
  {
   "cell_type": "code",
   "execution_count": null,
   "metadata": {},
   "outputs": [],
   "source": []
  }
 ],
 "metadata": {
  "kernelspec": {
   "display_name": "Julia 1.10.2",
   "language": "julia",
   "name": "julia-1.10"
  },
  "language_info": {
   "file_extension": ".jl",
   "mimetype": "application/julia",
   "name": "julia",
   "version": "1.10.2"
  }
 },
 "nbformat": 4,
 "nbformat_minor": 2
}
