{
 "cells": [
  {
   "cell_type": "code",
   "execution_count": 1,
   "metadata": {},
   "outputs": [],
   "source": [
    "using CUDA\n",
    "using TypedTables\n",
    "using DataFrames\n",
    "using Statistics\n",
    "using CSV"
   ]
  },
  {
   "cell_type": "code",
   "execution_count": 2,
   "metadata": {},
   "outputs": [
    {
     "data": {
      "text/plain": [
       "simulate_gpu (generic function with 1 method)"
      ]
     },
     "metadata": {},
     "output_type": "display_data"
    }
   ],
   "source": [
    "# CUDA\n",
    "\n",
    "function operation_cuda(A, B)\n",
    "    C = CUDA.zeros(Float16, size(A))\n",
    "    CUDA.@sync C .= A .- B\n",
    "    return C\n",
    "end\n",
    "\n",
    "function simulate_gpu(A_normal, B_normal)\n",
    "    # Convert your Float64 matrices to Float32 and then to CuArray{Float32}\n",
    "    A = CUDA.convert(CuArray{Float16}, A_normal)\n",
    "    B = CUDA.convert(CuArray{Float16}, B_normal)\n",
    "    # Mengukur waktu eksekusi\n",
    "    cuda_start = CUDA.@elapsed result_gpu = operation_cuda(A, B)\n",
    "    return cuda_start\n",
    "end"
   ]
  },
  {
   "cell_type": "code",
   "execution_count": 3,
   "metadata": {},
   "outputs": [
    {
     "data": {
      "text/plain": [
       "simulate_cpu (generic function with 1 method)"
      ]
     },
     "metadata": {},
     "output_type": "display_data"
    }
   ],
   "source": [
    "# CPU\n",
    "\n",
    "function operation_cpu(A, B)\n",
    "    C = zeros(Float16, size(A))\n",
    "    C .= A .- B\n",
    "    return C\n",
    "end\n",
    "\n",
    "function simulate_cpu(A_normal, B_normal)\n",
    "    normal_start = @elapsed result_cpu = operation_cpu(A_normal, B_normal)\n",
    "    return normal_start\n",
    "end"
   ]
  },
  {
   "cell_type": "code",
   "execution_count": 4,
   "metadata": {},
   "outputs": [
    {
     "data": {
      "text/plain": [
       "simulate (generic function with 1 method)"
      ]
     },
     "metadata": {},
     "output_type": "display_data"
    }
   ],
   "source": [
    "function simulate(N::Int64, n_loop::Int64)\n",
    "    println(\"Total size: $(N*N)\")\n",
    "    results_gpu = []\n",
    "    results_cpu = []\n",
    "    is_better_gpu = []\n",
    "    for i in 1:n_loop\n",
    "        A_normal = rand(Float16, N, N)\n",
    "        B_normal = rand(Float16, N, N)\n",
    "        benchmark_gpu = simulate_gpu(A_normal, B_normal)\n",
    "        benchmark_cpu = simulate_cpu(A_normal, B_normal)\n",
    "        push!(results_gpu, benchmark_gpu)\n",
    "        push!(results_cpu, benchmark_cpu)\n",
    "        push!(is_better_gpu, benchmark_gpu < benchmark_cpu)\n",
    "    end\n",
    "    println(\"Mean CPU: $(mean(results_cpu))\")\n",
    "    println(\"Mean GPU: $(mean(results_gpu))\")\n",
    "    return DataFrame(CPU=results_cpu, GPU=results_gpu, Better_GPU=is_better_gpu)\n",
    "end"
   ]
  },
  {
   "cell_type": "code",
   "execution_count": 8,
   "metadata": {},
   "outputs": [
    {
     "name": "stdout",
     "output_type": "stream",
     "text": [
      "Total size: 100\n",
      "Mean CPU: 6.205e-7\n",
      "Mean GPU: 1.99808e-5\n"
     ]
    },
    {
     "data": {
      "text/html": [
       "<div><div style = \"float: left;\"><span>10×3 DataFrame</span></div><div style = \"clear: both;\"></div></div><div class = \"data-frame\" style = \"overflow-x: scroll;\"><table class = \"data-frame\" style = \"margin-bottom: 6px;\"><thead><tr class = \"header\"><th class = \"rowNumber\" style = \"font-weight: bold; text-align: right;\">Row</th><th style = \"text-align: left;\">CPU</th><th style = \"text-align: left;\">GPU</th><th style = \"text-align: left;\">Better_GPU</th></tr><tr class = \"subheader headerLastRow\"><th class = \"rowNumber\" style = \"font-weight: bold; text-align: right;\"></th><th title = \"Any\" style = \"text-align: left;\">Any</th><th title = \"Any\" style = \"text-align: left;\">Any</th><th title = \"Any\" style = \"text-align: left;\">Any</th></tr></thead><tbody><tr><td class = \"rowNumber\" style = \"font-weight: bold; text-align: right;\">1</td><td style = \"text-align: left;\">1.744e-6</td><td style = \"text-align: left;\">4.096e-5</td><td style = \"text-align: left;\">false</td></tr><tr><td class = \"rowNumber\" style = \"font-weight: bold; text-align: right;\">2</td><td style = \"text-align: left;\">6.25e-7</td><td style = \"text-align: left;\">2.4576e-5</td><td style = \"text-align: left;\">false</td></tr><tr><td class = \"rowNumber\" style = \"font-weight: bold; text-align: right;\">3</td><td style = \"text-align: left;\">5.37e-7</td><td style = \"text-align: left;\">1.7408e-5</td><td style = \"text-align: left;\">false</td></tr><tr><td class = \"rowNumber\" style = \"font-weight: bold; text-align: right;\">4</td><td style = \"text-align: left;\">4.58e-7</td><td style = \"text-align: left;\">1.7408e-5</td><td style = \"text-align: left;\">false</td></tr><tr><td class = \"rowNumber\" style = \"font-weight: bold; text-align: right;\">5</td><td style = \"text-align: left;\">5.02e-7</td><td style = \"text-align: left;\">1.7408e-5</td><td style = \"text-align: left;\">false</td></tr><tr><td class = \"rowNumber\" style = \"font-weight: bold; text-align: right;\">6</td><td style = \"text-align: left;\">4.58e-7</td><td style = \"text-align: left;\">1.7408e-5</td><td style = \"text-align: left;\">false</td></tr><tr><td class = \"rowNumber\" style = \"font-weight: bold; text-align: right;\">7</td><td style = \"text-align: left;\">4.63e-7</td><td style = \"text-align: left;\">1.6384e-5</td><td style = \"text-align: left;\">false</td></tr><tr><td class = \"rowNumber\" style = \"font-weight: bold; text-align: right;\">8</td><td style = \"text-align: left;\">4.68e-7</td><td style = \"text-align: left;\">1.6384e-5</td><td style = \"text-align: left;\">false</td></tr><tr><td class = \"rowNumber\" style = \"font-weight: bold; text-align: right;\">9</td><td style = \"text-align: left;\">4.89e-7</td><td style = \"text-align: left;\">1.5488e-5</td><td style = \"text-align: left;\">false</td></tr><tr><td class = \"rowNumber\" style = \"font-weight: bold; text-align: right;\">10</td><td style = \"text-align: left;\">4.61e-7</td><td style = \"text-align: left;\">1.6384e-5</td><td style = \"text-align: left;\">false</td></tr></tbody></table></div>"
      ],
      "text/latex": [
       "\\begin{tabular}{r|ccc}\n",
       "\t& CPU & GPU & Better\\_GPU\\\\\n",
       "\t\\hline\n",
       "\t& Any & Any & Any\\\\\n",
       "\t\\hline\n",
       "\t1 & 1.744e-6 & 4.096e-5 & 0 \\\\\n",
       "\t2 & 6.25e-7 & 2.4576e-5 & 0 \\\\\n",
       "\t3 & 5.37e-7 & 1.7408e-5 & 0 \\\\\n",
       "\t4 & 4.58e-7 & 1.7408e-5 & 0 \\\\\n",
       "\t5 & 5.02e-7 & 1.7408e-5 & 0 \\\\\n",
       "\t6 & 4.58e-7 & 1.7408e-5 & 0 \\\\\n",
       "\t7 & 4.63e-7 & 1.6384e-5 & 0 \\\\\n",
       "\t8 & 4.68e-7 & 1.6384e-5 & 0 \\\\\n",
       "\t9 & 4.89e-7 & 1.5488e-5 & 0 \\\\\n",
       "\t10 & 4.61e-7 & 1.6384e-5 & 0 \\\\\n",
       "\\end{tabular}\n"
      ],
      "text/plain": [
       "\u001b[1m10×3 DataFrame\u001b[0m\n",
       "\u001b[1m Row \u001b[0m│\u001b[1m CPU      \u001b[0m\u001b[1m GPU       \u001b[0m\u001b[1m Better_GPU \u001b[0m\n",
       "     │\u001b[90m Any      \u001b[0m\u001b[90m Any       \u001b[0m\u001b[90m Any        \u001b[0m\n",
       "─────┼─────────────────────────────────\n",
       "   1 │ 1.744e-6  4.096e-5   false\n",
       "   2 │ 6.25e-7   2.4576e-5  false\n",
       "   3 │ 5.37e-7   1.7408e-5  false\n",
       "   4 │ 4.58e-7   1.7408e-5  false\n",
       "   5 │ 5.02e-7   1.7408e-5  false\n",
       "   6 │ 4.58e-7   1.7408e-5  false\n",
       "   7 │ 4.63e-7   1.6384e-5  false\n",
       "   8 │ 4.68e-7   1.6384e-5  false\n",
       "   9 │ 4.89e-7   1.5488e-5  false\n",
       "  10 │ 4.61e-7   1.6384e-5  false"
      ]
     },
     "metadata": {},
     "output_type": "display_data"
    }
   ],
   "source": [
    "df = simulate(10, 10)\n",
    "CSV.write(\"./1.csv\", df)\n",
    "df"
   ]
  },
  {
   "cell_type": "code",
   "execution_count": 9,
   "metadata": {},
   "outputs": [
    {
     "name": "stdout",
     "output_type": "stream",
     "text": [
      "Total size: 2500\n",
      "Mean CPU: 2.9070999999999997e-6\n",
      "Mean GPU: 2.7868798e-5\n"
     ]
    },
    {
     "data": {
      "text/html": [
       "<div><div style = \"float: left;\"><span>10×3 DataFrame</span></div><div style = \"clear: both;\"></div></div><div class = \"data-frame\" style = \"overflow-x: scroll;\"><table class = \"data-frame\" style = \"margin-bottom: 6px;\"><thead><tr class = \"header\"><th class = \"rowNumber\" style = \"font-weight: bold; text-align: right;\">Row</th><th style = \"text-align: left;\">CPU</th><th style = \"text-align: left;\">GPU</th><th style = \"text-align: left;\">Better_GPU</th></tr><tr class = \"subheader headerLastRow\"><th class = \"rowNumber\" style = \"font-weight: bold; text-align: right;\"></th><th title = \"Any\" style = \"text-align: left;\">Any</th><th title = \"Any\" style = \"text-align: left;\">Any</th><th title = \"Any\" style = \"text-align: left;\">Any</th></tr></thead><tbody><tr><td class = \"rowNumber\" style = \"font-weight: bold; text-align: right;\">1</td><td style = \"text-align: left;\">3.729e-6</td><td style = \"text-align: left;\">4.608e-5</td><td style = \"text-align: left;\">false</td></tr><tr><td class = \"rowNumber\" style = \"font-weight: bold; text-align: right;\">2</td><td style = \"text-align: left;\">2.135e-6</td><td style = \"text-align: left;\">2.56e-5</td><td style = \"text-align: left;\">false</td></tr><tr><td class = \"rowNumber\" style = \"font-weight: bold; text-align: right;\">3</td><td style = \"text-align: left;\">2.998e-6</td><td style = \"text-align: left;\">2.3552e-5</td><td style = \"text-align: left;\">false</td></tr><tr><td class = \"rowNumber\" style = \"font-weight: bold; text-align: right;\">4</td><td style = \"text-align: left;\">2.982e-6</td><td style = \"text-align: left;\">2.7648e-5</td><td style = \"text-align: left;\">false</td></tr><tr><td class = \"rowNumber\" style = \"font-weight: bold; text-align: right;\">5</td><td style = \"text-align: left;\">2.589e-6</td><td style = \"text-align: left;\">2.6752e-5</td><td style = \"text-align: left;\">false</td></tr><tr><td class = \"rowNumber\" style = \"font-weight: bold; text-align: right;\">6</td><td style = \"text-align: left;\">4.019e-6</td><td style = \"text-align: left;\">2.9696e-5</td><td style = \"text-align: left;\">false</td></tr><tr><td class = \"rowNumber\" style = \"font-weight: bold; text-align: right;\">7</td><td style = \"text-align: left;\">2.971e-6</td><td style = \"text-align: left;\">2.6624e-5</td><td style = \"text-align: left;\">false</td></tr><tr><td class = \"rowNumber\" style = \"font-weight: bold; text-align: right;\">8</td><td style = \"text-align: left;\">2.747e-6</td><td style = \"text-align: left;\">2.56e-5</td><td style = \"text-align: left;\">false</td></tr><tr><td class = \"rowNumber\" style = \"font-weight: bold; text-align: right;\">9</td><td style = \"text-align: left;\">2.948e-6</td><td style = \"text-align: left;\">2.56e-5</td><td style = \"text-align: left;\">false</td></tr><tr><td class = \"rowNumber\" style = \"font-weight: bold; text-align: right;\">10</td><td style = \"text-align: left;\">1.953e-6</td><td style = \"text-align: left;\">2.1536e-5</td><td style = \"text-align: left;\">false</td></tr></tbody></table></div>"
      ],
      "text/latex": [
       "\\begin{tabular}{r|ccc}\n",
       "\t& CPU & GPU & Better\\_GPU\\\\\n",
       "\t\\hline\n",
       "\t& Any & Any & Any\\\\\n",
       "\t\\hline\n",
       "\t1 & 3.729e-6 & 4.608e-5 & 0 \\\\\n",
       "\t2 & 2.135e-6 & 2.56e-5 & 0 \\\\\n",
       "\t3 & 2.998e-6 & 2.3552e-5 & 0 \\\\\n",
       "\t4 & 2.982e-6 & 2.7648e-5 & 0 \\\\\n",
       "\t5 & 2.589e-6 & 2.6752e-5 & 0 \\\\\n",
       "\t6 & 4.019e-6 & 2.9696e-5 & 0 \\\\\n",
       "\t7 & 2.971e-6 & 2.6624e-5 & 0 \\\\\n",
       "\t8 & 2.747e-6 & 2.56e-5 & 0 \\\\\n",
       "\t9 & 2.948e-6 & 2.56e-5 & 0 \\\\\n",
       "\t10 & 1.953e-6 & 2.1536e-5 & 0 \\\\\n",
       "\\end{tabular}\n"
      ],
      "text/plain": [
       "\u001b[1m10×3 DataFrame\u001b[0m\n",
       "\u001b[1m Row \u001b[0m│\u001b[1m CPU      \u001b[0m\u001b[1m GPU       \u001b[0m\u001b[1m Better_GPU \u001b[0m\n",
       "     │\u001b[90m Any      \u001b[0m\u001b[90m Any       \u001b[0m\u001b[90m Any        \u001b[0m\n",
       "─────┼─────────────────────────────────\n",
       "   1 │ 3.729e-6  4.608e-5   false\n",
       "   2 │ 2.135e-6  2.56e-5    false\n",
       "   3 │ 2.998e-6  2.3552e-5  false\n",
       "   4 │ 2.982e-6  2.7648e-5  false\n",
       "   5 │ 2.589e-6  2.6752e-5  false\n",
       "   6 │ 4.019e-6  2.9696e-5  false\n",
       "   7 │ 2.971e-6  2.6624e-5  false\n",
       "   8 │ 2.747e-6  2.56e-5    false\n",
       "   9 │ 2.948e-6  2.56e-5    false\n",
       "  10 │ 1.953e-6  2.1536e-5  false"
      ]
     },
     "metadata": {},
     "output_type": "display_data"
    }
   ],
   "source": [
    "df = simulate(50, 10)\n",
    "CSV.write(\"./2.csv\", df)\n",
    "df"
   ]
  },
  {
   "cell_type": "code",
   "execution_count": 10,
   "metadata": {},
   "outputs": [
    {
     "name": "stdout",
     "output_type": "stream",
     "text": [
      "Total size: 10000\n",
      "Mean CPU: 6.455800000000002e-6\n",
      "Mean GPU: 2.0992e-5\n"
     ]
    },
    {
     "data": {
      "text/html": [
       "<div><div style = \"float: left;\"><span>10×3 DataFrame</span></div><div style = \"clear: both;\"></div></div><div class = \"data-frame\" style = \"overflow-x: scroll;\"><table class = \"data-frame\" style = \"margin-bottom: 6px;\"><thead><tr class = \"header\"><th class = \"rowNumber\" style = \"font-weight: bold; text-align: right;\">Row</th><th style = \"text-align: left;\">CPU</th><th style = \"text-align: left;\">GPU</th><th style = \"text-align: left;\">Better_GPU</th></tr><tr class = \"subheader headerLastRow\"><th class = \"rowNumber\" style = \"font-weight: bold; text-align: right;\"></th><th title = \"Any\" style = \"text-align: left;\">Any</th><th title = \"Any\" style = \"text-align: left;\">Any</th><th title = \"Any\" style = \"text-align: left;\">Any</th></tr></thead><tbody><tr><td class = \"rowNumber\" style = \"font-weight: bold; text-align: right;\">1</td><td style = \"text-align: left;\">5.679e-6</td><td style = \"text-align: left;\">4.608e-5</td><td style = \"text-align: left;\">false</td></tr><tr><td class = \"rowNumber\" style = \"font-weight: bold; text-align: right;\">2</td><td style = \"text-align: left;\">4.379e-6</td><td style = \"text-align: left;\">1.9456e-5</td><td style = \"text-align: left;\">false</td></tr><tr><td class = \"rowNumber\" style = \"font-weight: bold; text-align: right;\">3</td><td style = \"text-align: left;\">4.279e-6</td><td style = \"text-align: left;\">1.7408e-5</td><td style = \"text-align: left;\">false</td></tr><tr><td class = \"rowNumber\" style = \"font-weight: bold; text-align: right;\">4</td><td style = \"text-align: left;\">4.757e-6</td><td style = \"text-align: left;\">1.8432e-5</td><td style = \"text-align: left;\">false</td></tr><tr><td class = \"rowNumber\" style = \"font-weight: bold; text-align: right;\">5</td><td style = \"text-align: left;\">2.1398e-5</td><td style = \"text-align: left;\">1.9456e-5</td><td style = \"text-align: left;\">true</td></tr><tr><td class = \"rowNumber\" style = \"font-weight: bold; text-align: right;\">6</td><td style = \"text-align: left;\">4.618e-6</td><td style = \"text-align: left;\">1.7408e-5</td><td style = \"text-align: left;\">false</td></tr><tr><td class = \"rowNumber\" style = \"font-weight: bold; text-align: right;\">7</td><td style = \"text-align: left;\">4.695e-6</td><td style = \"text-align: left;\">1.9456e-5</td><td style = \"text-align: left;\">false</td></tr><tr><td class = \"rowNumber\" style = \"font-weight: bold; text-align: right;\">8</td><td style = \"text-align: left;\">4.283e-6</td><td style = \"text-align: left;\">1.8432e-5</td><td style = \"text-align: left;\">false</td></tr><tr><td class = \"rowNumber\" style = \"font-weight: bold; text-align: right;\">9</td><td style = \"text-align: left;\">4.268e-6</td><td style = \"text-align: left;\">1.7408e-5</td><td style = \"text-align: left;\">false</td></tr><tr><td class = \"rowNumber\" style = \"font-weight: bold; text-align: right;\">10</td><td style = \"text-align: left;\">6.202e-6</td><td style = \"text-align: left;\">1.6384e-5</td><td style = \"text-align: left;\">false</td></tr></tbody></table></div>"
      ],
      "text/latex": [
       "\\begin{tabular}{r|ccc}\n",
       "\t& CPU & GPU & Better\\_GPU\\\\\n",
       "\t\\hline\n",
       "\t& Any & Any & Any\\\\\n",
       "\t\\hline\n",
       "\t1 & 5.679e-6 & 4.608e-5 & 0 \\\\\n",
       "\t2 & 4.379e-6 & 1.9456e-5 & 0 \\\\\n",
       "\t3 & 4.279e-6 & 1.7408e-5 & 0 \\\\\n",
       "\t4 & 4.757e-6 & 1.8432e-5 & 0 \\\\\n",
       "\t5 & 2.1398e-5 & 1.9456e-5 & 1 \\\\\n",
       "\t6 & 4.618e-6 & 1.7408e-5 & 0 \\\\\n",
       "\t7 & 4.695e-6 & 1.9456e-5 & 0 \\\\\n",
       "\t8 & 4.283e-6 & 1.8432e-5 & 0 \\\\\n",
       "\t9 & 4.268e-6 & 1.7408e-5 & 0 \\\\\n",
       "\t10 & 6.202e-6 & 1.6384e-5 & 0 \\\\\n",
       "\\end{tabular}\n"
      ],
      "text/plain": [
       "\u001b[1m10×3 DataFrame\u001b[0m\n",
       "\u001b[1m Row \u001b[0m│\u001b[1m CPU       \u001b[0m\u001b[1m GPU       \u001b[0m\u001b[1m Better_GPU \u001b[0m\n",
       "     │\u001b[90m Any       \u001b[0m\u001b[90m Any       \u001b[0m\u001b[90m Any        \u001b[0m\n",
       "─────┼──────────────────────────────────\n",
       "   1 │ 5.679e-6   4.608e-5   false\n",
       "   2 │ 4.379e-6   1.9456e-5  false\n",
       "   3 │ 4.279e-6   1.7408e-5  false\n",
       "   4 │ 4.757e-6   1.8432e-5  false\n",
       "   5 │ 2.1398e-5  1.9456e-5  true\n",
       "   6 │ 4.618e-6   1.7408e-5  false\n",
       "   7 │ 4.695e-6   1.9456e-5  false\n",
       "   8 │ 4.283e-6   1.8432e-5  false\n",
       "   9 │ 4.268e-6   1.7408e-5  false\n",
       "  10 │ 6.202e-6   1.6384e-5  false"
      ]
     },
     "metadata": {},
     "output_type": "display_data"
    }
   ],
   "source": [
    "df = simulate(100, 10)\n",
    "CSV.write(\"./3.csv\", df)\n",
    "df"
   ]
  },
  {
   "cell_type": "code",
   "execution_count": 14,
   "metadata": {},
   "outputs": [
    {
     "name": "stdout",
     "output_type": "stream",
     "text": [
      "Total size: 250000\n",
      "Mean CPU: 0.00024136970000000006\n",
      "Mean GPU: 9.648e-5\n"
     ]
    },
    {
     "data": {
      "text/html": [
       "<div><div style = \"float: left;\"><span>10×3 DataFrame</span></div><div style = \"clear: both;\"></div></div><div class = \"data-frame\" style = \"overflow-x: scroll;\"><table class = \"data-frame\" style = \"margin-bottom: 6px;\"><thead><tr class = \"header\"><th class = \"rowNumber\" style = \"font-weight: bold; text-align: right;\">Row</th><th style = \"text-align: left;\">CPU</th><th style = \"text-align: left;\">GPU</th><th style = \"text-align: left;\">Better_GPU</th></tr><tr class = \"subheader headerLastRow\"><th class = \"rowNumber\" style = \"font-weight: bold; text-align: right;\"></th><th title = \"Any\" style = \"text-align: left;\">Any</th><th title = \"Any\" style = \"text-align: left;\">Any</th><th title = \"Any\" style = \"text-align: left;\">Any</th></tr></thead><tbody><tr><td class = \"rowNumber\" style = \"font-weight: bold; text-align: right;\">1</td><td style = \"text-align: left;\">0.000141311</td><td style = \"text-align: left;\">9.4592e-5</td><td style = \"text-align: left;\">true</td></tr><tr><td class = \"rowNumber\" style = \"font-weight: bold; text-align: right;\">2</td><td style = \"text-align: left;\">0.000359101</td><td style = \"text-align: left;\">9.7632e-5</td><td style = \"text-align: left;\">true</td></tr><tr><td class = \"rowNumber\" style = \"font-weight: bold; text-align: right;\">3</td><td style = \"text-align: left;\">0.000319786</td><td style = \"text-align: left;\">9.2992e-5</td><td style = \"text-align: left;\">true</td></tr><tr><td class = \"rowNumber\" style = \"font-weight: bold; text-align: right;\">4</td><td style = \"text-align: left;\">0.000743177</td><td style = \"text-align: left;\">0.000105408</td><td style = \"text-align: left;\">true</td></tr><tr><td class = \"rowNumber\" style = \"font-weight: bold; text-align: right;\">5</td><td style = \"text-align: left;\">0.000273667</td><td style = \"text-align: left;\">0.000100736</td><td style = \"text-align: left;\">true</td></tr><tr><td class = \"rowNumber\" style = \"font-weight: bold; text-align: right;\">6</td><td style = \"text-align: left;\">0.000115695</td><td style = \"text-align: left;\">9.7632e-5</td><td style = \"text-align: left;\">true</td></tr><tr><td class = \"rowNumber\" style = \"font-weight: bold; text-align: right;\">7</td><td style = \"text-align: left;\">0.000125933</td><td style = \"text-align: left;\">9.3248e-5</td><td style = \"text-align: left;\">true</td></tr><tr><td class = \"rowNumber\" style = \"font-weight: bold; text-align: right;\">8</td><td style = \"text-align: left;\">0.000116413</td><td style = \"text-align: left;\">9.6928e-5</td><td style = \"text-align: left;\">true</td></tr><tr><td class = \"rowNumber\" style = \"font-weight: bold; text-align: right;\">9</td><td style = \"text-align: left;\">0.000103765</td><td style = \"text-align: left;\">9.0816e-5</td><td style = \"text-align: left;\">true</td></tr><tr><td class = \"rowNumber\" style = \"font-weight: bold; text-align: right;\">10</td><td style = \"text-align: left;\">0.000114849</td><td style = \"text-align: left;\">9.4816e-5</td><td style = \"text-align: left;\">true</td></tr></tbody></table></div>"
      ],
      "text/latex": [
       "\\begin{tabular}{r|ccc}\n",
       "\t& CPU & GPU & Better\\_GPU\\\\\n",
       "\t\\hline\n",
       "\t& Any & Any & Any\\\\\n",
       "\t\\hline\n",
       "\t1 & 0.000141311 & 9.4592e-5 & 1 \\\\\n",
       "\t2 & 0.000359101 & 9.7632e-5 & 1 \\\\\n",
       "\t3 & 0.000319786 & 9.2992e-5 & 1 \\\\\n",
       "\t4 & 0.000743177 & 0.000105408 & 1 \\\\\n",
       "\t5 & 0.000273667 & 0.000100736 & 1 \\\\\n",
       "\t6 & 0.000115695 & 9.7632e-5 & 1 \\\\\n",
       "\t7 & 0.000125933 & 9.3248e-5 & 1 \\\\\n",
       "\t8 & 0.000116413 & 9.6928e-5 & 1 \\\\\n",
       "\t9 & 0.000103765 & 9.0816e-5 & 1 \\\\\n",
       "\t10 & 0.000114849 & 9.4816e-5 & 1 \\\\\n",
       "\\end{tabular}\n"
      ],
      "text/plain": [
       "\u001b[1m10×3 DataFrame\u001b[0m\n",
       "\u001b[1m Row \u001b[0m│\u001b[1m CPU         \u001b[0m\u001b[1m GPU         \u001b[0m\u001b[1m Better_GPU \u001b[0m\n",
       "     │\u001b[90m Any         \u001b[0m\u001b[90m Any         \u001b[0m\u001b[90m Any        \u001b[0m\n",
       "─────┼──────────────────────────────────────\n",
       "   1 │ 0.000141311  9.4592e-5    true\n",
       "   2 │ 0.000359101  9.7632e-5    true\n",
       "   3 │ 0.000319786  9.2992e-5    true\n",
       "   4 │ 0.000743177  0.000105408  true\n",
       "   5 │ 0.000273667  0.000100736  true\n",
       "   6 │ 0.000115695  9.7632e-5    true\n",
       "   7 │ 0.000125933  9.3248e-5    true\n",
       "   8 │ 0.000116413  9.6928e-5    true\n",
       "   9 │ 0.000103765  9.0816e-5    true\n",
       "  10 │ 0.000114849  9.4816e-5    true"
      ]
     },
     "metadata": {},
     "output_type": "display_data"
    }
   ],
   "source": [
    "df = simulate(500, 10)\n",
    "CSV.write(\"./4.csv\", df)\n",
    "df"
   ]
  },
  {
   "cell_type": "code",
   "execution_count": 16,
   "metadata": {},
   "outputs": [
    {
     "name": "stdout",
     "output_type": "stream",
     "text": [
      "Total size: 1000000\n",
      "Mean CPU: 0.000716617\n",
      "Mean GPU: 0.00038913923\n"
     ]
    },
    {
     "data": {
      "text/html": [
       "<div><div style = \"float: left;\"><span>10×3 DataFrame</span></div><div style = \"clear: both;\"></div></div><div class = \"data-frame\" style = \"overflow-x: scroll;\"><table class = \"data-frame\" style = \"margin-bottom: 6px;\"><thead><tr class = \"header\"><th class = \"rowNumber\" style = \"font-weight: bold; text-align: right;\">Row</th><th style = \"text-align: left;\">CPU</th><th style = \"text-align: left;\">GPU</th><th style = \"text-align: left;\">Better_GPU</th></tr><tr class = \"subheader headerLastRow\"><th class = \"rowNumber\" style = \"font-weight: bold; text-align: right;\"></th><th title = \"Any\" style = \"text-align: left;\">Any</th><th title = \"Any\" style = \"text-align: left;\">Any</th><th title = \"Any\" style = \"text-align: left;\">Any</th></tr></thead><tbody><tr><td class = \"rowNumber\" style = \"font-weight: bold; text-align: right;\">1</td><td style = \"text-align: left;\">0.000872844</td><td style = \"text-align: left;\">0.000405984</td><td style = \"text-align: left;\">true</td></tr><tr><td class = \"rowNumber\" style = \"font-weight: bold; text-align: right;\">2</td><td style = \"text-align: left;\">0.000632758</td><td style = \"text-align: left;\">0.000387488</td><td style = \"text-align: left;\">true</td></tr><tr><td class = \"rowNumber\" style = \"font-weight: bold; text-align: right;\">3</td><td style = \"text-align: left;\">0.000542304</td><td style = \"text-align: left;\">0.00037984</td><td style = \"text-align: left;\">true</td></tr><tr><td class = \"rowNumber\" style = \"font-weight: bold; text-align: right;\">4</td><td style = \"text-align: left;\">0.00040746</td><td style = \"text-align: left;\">0.000393344</td><td style = \"text-align: left;\">true</td></tr><tr><td class = \"rowNumber\" style = \"font-weight: bold; text-align: right;\">5</td><td style = \"text-align: left;\">0.00050934</td><td style = \"text-align: left;\">0.000364064</td><td style = \"text-align: left;\">true</td></tr><tr><td class = \"rowNumber\" style = \"font-weight: bold; text-align: right;\">6</td><td style = \"text-align: left;\">0.000423035</td><td style = \"text-align: left;\">0.000391936</td><td style = \"text-align: left;\">true</td></tr><tr><td class = \"rowNumber\" style = \"font-weight: bold; text-align: right;\">7</td><td style = \"text-align: left;\">0.00224217</td><td style = \"text-align: left;\">0.000414784</td><td style = \"text-align: left;\">true</td></tr><tr><td class = \"rowNumber\" style = \"font-weight: bold; text-align: right;\">8</td><td style = \"text-align: left;\">0.000365828</td><td style = \"text-align: left;\">0.000388352</td><td style = \"text-align: left;\">false</td></tr><tr><td class = \"rowNumber\" style = \"font-weight: bold; text-align: right;\">9</td><td style = \"text-align: left;\">0.000477458</td><td style = \"text-align: left;\">0.000385216</td><td style = \"text-align: left;\">true</td></tr><tr><td class = \"rowNumber\" style = \"font-weight: bold; text-align: right;\">10</td><td style = \"text-align: left;\">0.000692972</td><td style = \"text-align: left;\">0.000380384</td><td style = \"text-align: left;\">true</td></tr></tbody></table></div>"
      ],
      "text/latex": [
       "\\begin{tabular}{r|ccc}\n",
       "\t& CPU & GPU & Better\\_GPU\\\\\n",
       "\t\\hline\n",
       "\t& Any & Any & Any\\\\\n",
       "\t\\hline\n",
       "\t1 & 0.000872844 & 0.000405984 & 1 \\\\\n",
       "\t2 & 0.000632758 & 0.000387488 & 1 \\\\\n",
       "\t3 & 0.000542304 & 0.00037984 & 1 \\\\\n",
       "\t4 & 0.00040746 & 0.000393344 & 1 \\\\\n",
       "\t5 & 0.00050934 & 0.000364064 & 1 \\\\\n",
       "\t6 & 0.000423035 & 0.000391936 & 1 \\\\\n",
       "\t7 & 0.00224217 & 0.000414784 & 1 \\\\\n",
       "\t8 & 0.000365828 & 0.000388352 & 0 \\\\\n",
       "\t9 & 0.000477458 & 0.000385216 & 1 \\\\\n",
       "\t10 & 0.000692972 & 0.000380384 & 1 \\\\\n",
       "\\end{tabular}\n"
      ],
      "text/plain": [
       "\u001b[1m10×3 DataFrame\u001b[0m\n",
       "\u001b[1m Row \u001b[0m│\u001b[1m CPU         \u001b[0m\u001b[1m GPU         \u001b[0m\u001b[1m Better_GPU \u001b[0m\n",
       "     │\u001b[90m Any         \u001b[0m\u001b[90m Any         \u001b[0m\u001b[90m Any        \u001b[0m\n",
       "─────┼──────────────────────────────────────\n",
       "   1 │ 0.000872844  0.000405984  true\n",
       "   2 │ 0.000632758  0.000387488  true\n",
       "   3 │ 0.000542304  0.00037984   true\n",
       "   4 │ 0.00040746   0.000393344  true\n",
       "   5 │ 0.00050934   0.000364064  true\n",
       "   6 │ 0.000423035  0.000391936  true\n",
       "   7 │ 0.00224217   0.000414784  true\n",
       "   8 │ 0.000365828  0.000388352  false\n",
       "   9 │ 0.000477458  0.000385216  true\n",
       "  10 │ 0.000692972  0.000380384  true"
      ]
     },
     "metadata": {},
     "output_type": "display_data"
    }
   ],
   "source": [
    "df = simulate(1000, 10)\n",
    "CSV.write(\"./5.csv\", df)\n",
    "df"
   ]
  },
  {
   "cell_type": "code",
   "execution_count": 17,
   "metadata": {},
   "outputs": [
    {
     "name": "stdout",
     "output_type": "stream",
     "text": [
      "Total size: 25000000\n",
      "Mean CPU: 0.058224026400000004\n",
      "Mean GPU: 0.008563207\n"
     ]
    },
    {
     "data": {
      "text/html": [
       "<div><div style = \"float: left;\"><span>10×3 DataFrame</span></div><div style = \"clear: both;\"></div></div><div class = \"data-frame\" style = \"overflow-x: scroll;\"><table class = \"data-frame\" style = \"margin-bottom: 6px;\"><thead><tr class = \"header\"><th class = \"rowNumber\" style = \"font-weight: bold; text-align: right;\">Row</th><th style = \"text-align: left;\">CPU</th><th style = \"text-align: left;\">GPU</th><th style = \"text-align: left;\">Better_GPU</th></tr><tr class = \"subheader headerLastRow\"><th class = \"rowNumber\" style = \"font-weight: bold; text-align: right;\"></th><th title = \"Any\" style = \"text-align: left;\">Any</th><th title = \"Any\" style = \"text-align: left;\">Any</th><th title = \"Any\" style = \"text-align: left;\">Any</th></tr></thead><tbody><tr><td class = \"rowNumber\" style = \"font-weight: bold; text-align: right;\">1</td><td style = \"text-align: left;\">0.0761132</td><td style = \"text-align: left;\">0.00861242</td><td style = \"text-align: left;\">true</td></tr><tr><td class = \"rowNumber\" style = \"font-weight: bold; text-align: right;\">2</td><td style = \"text-align: left;\">0.0300125</td><td style = \"text-align: left;\">0.00851315</td><td style = \"text-align: left;\">true</td></tr><tr><td class = \"rowNumber\" style = \"font-weight: bold; text-align: right;\">3</td><td style = \"text-align: left;\">0.0296853</td><td style = \"text-align: left;\">0.00859418</td><td style = \"text-align: left;\">true</td></tr><tr><td class = \"rowNumber\" style = \"font-weight: bold; text-align: right;\">4</td><td style = \"text-align: left;\">0.0267174</td><td style = \"text-align: left;\">0.0084665</td><td style = \"text-align: left;\">true</td></tr><tr><td class = \"rowNumber\" style = \"font-weight: bold; text-align: right;\">5</td><td style = \"text-align: left;\">0.0277874</td><td style = \"text-align: left;\">0.00861402</td><td style = \"text-align: left;\">true</td></tr><tr><td class = \"rowNumber\" style = \"font-weight: bold; text-align: right;\">6</td><td style = \"text-align: left;\">0.265931</td><td style = \"text-align: left;\">0.00861664</td><td style = \"text-align: left;\">true</td></tr><tr><td class = \"rowNumber\" style = \"font-weight: bold; text-align: right;\">7</td><td style = \"text-align: left;\">0.0328643</td><td style = \"text-align: left;\">0.00858131</td><td style = \"text-align: left;\">true</td></tr><tr><td class = \"rowNumber\" style = \"font-weight: bold; text-align: right;\">8</td><td style = \"text-align: left;\">0.033966</td><td style = \"text-align: left;\">0.00850976</td><td style = \"text-align: left;\">true</td></tr><tr><td class = \"rowNumber\" style = \"font-weight: bold; text-align: right;\">9</td><td style = \"text-align: left;\">0.0311682</td><td style = \"text-align: left;\">0.0085088</td><td style = \"text-align: left;\">true</td></tr><tr><td class = \"rowNumber\" style = \"font-weight: bold; text-align: right;\">10</td><td style = \"text-align: left;\">0.0279947</td><td style = \"text-align: left;\">0.0086153</td><td style = \"text-align: left;\">true</td></tr></tbody></table></div>"
      ],
      "text/latex": [
       "\\begin{tabular}{r|ccc}\n",
       "\t& CPU & GPU & Better\\_GPU\\\\\n",
       "\t\\hline\n",
       "\t& Any & Any & Any\\\\\n",
       "\t\\hline\n",
       "\t1 & 0.0761132 & 0.00861242 & 1 \\\\\n",
       "\t2 & 0.0300125 & 0.00851315 & 1 \\\\\n",
       "\t3 & 0.0296853 & 0.00859418 & 1 \\\\\n",
       "\t4 & 0.0267174 & 0.0084665 & 1 \\\\\n",
       "\t5 & 0.0277874 & 0.00861402 & 1 \\\\\n",
       "\t6 & 0.265931 & 0.00861664 & 1 \\\\\n",
       "\t7 & 0.0328643 & 0.00858131 & 1 \\\\\n",
       "\t8 & 0.033966 & 0.00850976 & 1 \\\\\n",
       "\t9 & 0.0311682 & 0.0085088 & 1 \\\\\n",
       "\t10 & 0.0279947 & 0.0086153 & 1 \\\\\n",
       "\\end{tabular}\n"
      ],
      "text/plain": [
       "\u001b[1m10×3 DataFrame\u001b[0m\n",
       "\u001b[1m Row \u001b[0m│\u001b[1m CPU       \u001b[0m\u001b[1m GPU        \u001b[0m\u001b[1m Better_GPU \u001b[0m\n",
       "     │\u001b[90m Any       \u001b[0m\u001b[90m Any        \u001b[0m\u001b[90m Any        \u001b[0m\n",
       "─────┼───────────────────────────────────\n",
       "   1 │ 0.0761132  0.00861242  true\n",
       "   2 │ 0.0300125  0.00851315  true\n",
       "   3 │ 0.0296853  0.00859418  true\n",
       "   4 │ 0.0267174  0.0084665   true\n",
       "   5 │ 0.0277874  0.00861402  true\n",
       "   6 │ 0.265931   0.00861664  true\n",
       "   7 │ 0.0328643  0.00858131  true\n",
       "   8 │ 0.033966   0.00850976  true\n",
       "   9 │ 0.0311682  0.0085088   true\n",
       "  10 │ 0.0279947  0.0086153   true"
      ]
     },
     "metadata": {},
     "output_type": "display_data"
    }
   ],
   "source": [
    "df = simulate(5000, 10)\n",
    "CSV.write(\"./6.csv\", df)\n",
    "df"
   ]
  },
  {
   "cell_type": "code",
   "execution_count": 18,
   "metadata": {},
   "outputs": [
    {
     "name": "stdout",
     "output_type": "stream",
     "text": [
      "Total size: 100000000\n",
      "Mean CPU: 0.13268751930000003\n",
      "Mean GPU: 0.034584127\n"
     ]
    },
    {
     "data": {
      "text/html": [
       "<div><div style = \"float: left;\"><span>10×3 DataFrame</span></div><div style = \"clear: both;\"></div></div><div class = \"data-frame\" style = \"overflow-x: scroll;\"><table class = \"data-frame\" style = \"margin-bottom: 6px;\"><thead><tr class = \"header\"><th class = \"rowNumber\" style = \"font-weight: bold; text-align: right;\">Row</th><th style = \"text-align: left;\">CPU</th><th style = \"text-align: left;\">GPU</th><th style = \"text-align: left;\">Better_GPU</th></tr><tr class = \"subheader headerLastRow\"><th class = \"rowNumber\" style = \"font-weight: bold; text-align: right;\"></th><th title = \"Any\" style = \"text-align: left;\">Any</th><th title = \"Any\" style = \"text-align: left;\">Any</th><th title = \"Any\" style = \"text-align: left;\">Any</th></tr></thead><tbody><tr><td class = \"rowNumber\" style = \"font-weight: bold; text-align: right;\">1</td><td style = \"text-align: left;\">0.161321</td><td style = \"text-align: left;\">0.0351873</td><td style = \"text-align: left;\">true</td></tr><tr><td class = \"rowNumber\" style = \"font-weight: bold; text-align: right;\">2</td><td style = \"text-align: left;\">0.10758</td><td style = \"text-align: left;\">0.034346</td><td style = \"text-align: left;\">true</td></tr><tr><td class = \"rowNumber\" style = \"font-weight: bold; text-align: right;\">3</td><td style = \"text-align: left;\">0.104388</td><td style = \"text-align: left;\">0.0342921</td><td style = \"text-align: left;\">true</td></tr><tr><td class = \"rowNumber\" style = \"font-weight: bold; text-align: right;\">4</td><td style = \"text-align: left;\">0.1047</td><td style = \"text-align: left;\">0.0346456</td><td style = \"text-align: left;\">true</td></tr><tr><td class = \"rowNumber\" style = \"font-weight: bold; text-align: right;\">5</td><td style = \"text-align: left;\">0.104314</td><td style = \"text-align: left;\">0.0349704</td><td style = \"text-align: left;\">true</td></tr><tr><td class = \"rowNumber\" style = \"font-weight: bold; text-align: right;\">6</td><td style = \"text-align: left;\">0.321986</td><td style = \"text-align: left;\">0.0345399</td><td style = \"text-align: left;\">true</td></tr><tr><td class = \"rowNumber\" style = \"font-weight: bold; text-align: right;\">7</td><td style = \"text-align: left;\">0.106519</td><td style = \"text-align: left;\">0.0342132</td><td style = \"text-align: left;\">true</td></tr><tr><td class = \"rowNumber\" style = \"font-weight: bold; text-align: right;\">8</td><td style = \"text-align: left;\">0.106361</td><td style = \"text-align: left;\">0.0345646</td><td style = \"text-align: left;\">true</td></tr><tr><td class = \"rowNumber\" style = \"font-weight: bold; text-align: right;\">9</td><td style = \"text-align: left;\">0.105267</td><td style = \"text-align: left;\">0.0346173</td><td style = \"text-align: left;\">true</td></tr><tr><td class = \"rowNumber\" style = \"font-weight: bold; text-align: right;\">10</td><td style = \"text-align: left;\">0.10444</td><td style = \"text-align: left;\">0.0344649</td><td style = \"text-align: left;\">true</td></tr></tbody></table></div>"
      ],
      "text/latex": [
       "\\begin{tabular}{r|ccc}\n",
       "\t& CPU & GPU & Better\\_GPU\\\\\n",
       "\t\\hline\n",
       "\t& Any & Any & Any\\\\\n",
       "\t\\hline\n",
       "\t1 & 0.161321 & 0.0351873 & 1 \\\\\n",
       "\t2 & 0.10758 & 0.034346 & 1 \\\\\n",
       "\t3 & 0.104388 & 0.0342921 & 1 \\\\\n",
       "\t4 & 0.1047 & 0.0346456 & 1 \\\\\n",
       "\t5 & 0.104314 & 0.0349704 & 1 \\\\\n",
       "\t6 & 0.321986 & 0.0345399 & 1 \\\\\n",
       "\t7 & 0.106519 & 0.0342132 & 1 \\\\\n",
       "\t8 & 0.106361 & 0.0345646 & 1 \\\\\n",
       "\t9 & 0.105267 & 0.0346173 & 1 \\\\\n",
       "\t10 & 0.10444 & 0.0344649 & 1 \\\\\n",
       "\\end{tabular}\n"
      ],
      "text/plain": [
       "\u001b[1m10×3 DataFrame\u001b[0m\n",
       "\u001b[1m Row \u001b[0m│\u001b[1m CPU      \u001b[0m\u001b[1m GPU       \u001b[0m\u001b[1m Better_GPU \u001b[0m\n",
       "     │\u001b[90m Any      \u001b[0m\u001b[90m Any       \u001b[0m\u001b[90m Any        \u001b[0m\n",
       "─────┼─────────────────────────────────\n",
       "   1 │ 0.161321  0.0351873  true\n",
       "   2 │ 0.10758   0.034346   true\n",
       "   3 │ 0.104388  0.0342921  true\n",
       "   4 │ 0.1047    0.0346456  true\n",
       "   5 │ 0.104314  0.0349704  true\n",
       "   6 │ 0.321986  0.0345399  true\n",
       "   7 │ 0.106519  0.0342132  true\n",
       "   8 │ 0.106361  0.0345646  true\n",
       "   9 │ 0.105267  0.0346173  true\n",
       "  10 │ 0.10444   0.0344649  true"
      ]
     },
     "metadata": {},
     "output_type": "display_data"
    }
   ],
   "source": [
    "df = simulate(10000, 10)\n",
    "CSV.write(\"./7.csv\", df)\n",
    "df"
   ]
  }
 ],
 "metadata": {
  "kernelspec": {
   "display_name": "Julia 1.10.2",
   "language": "julia",
   "name": "julia-1.10"
  },
  "language_info": {
   "file_extension": ".jl",
   "mimetype": "application/julia",
   "name": "julia",
   "version": "1.10.2"
  }
 },
 "nbformat": 4,
 "nbformat_minor": 2
}
